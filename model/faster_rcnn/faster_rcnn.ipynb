{
 "cells": [
  {
   "cell_type": "markdown",
   "metadata": {
    "id": "TIhxEU2cfE6Y"
   },
   "source": [
    "### **환경 설정**"
   ]
  },
  {
   "cell_type": "code",
   "execution_count": 1,
   "metadata": {
    "colab": {
     "base_uri": "https://localhost:8080/"
    },
    "executionInfo": {
     "elapsed": 6,
     "status": "ok",
     "timestamp": 1652527024884,
     "user": {
      "displayName": "박명규",
      "userId": "02445783098974476555"
     },
     "user_tz": -540
    },
    "id": "H-x-Lzws3eSq",
    "outputId": "a3a2db61-a66c-42df-f18a-b0a7a55b9989"
   },
   "outputs": [
    {
     "name": "stdout",
     "output_type": "stream",
     "text": [
      "nvcc: NVIDIA (R) Cuda compiler driver\n",
      "Copyright (c) 2005-2020 NVIDIA Corporation\n",
      "Built on Mon_Oct_12_20:09:46_PDT_2020\n",
      "Cuda compilation tools, release 11.1, V11.1.105\n",
      "Build cuda_11.1.TC455_06.29190527_0\n",
      "gcc (Ubuntu 7.5.0-3ubuntu1~18.04) 7.5.0\n",
      "Copyright (C) 2017 Free Software Foundation, Inc.\n",
      "This is free software; see the source for copying conditions.  There is NO\n",
      "warranty; not even for MERCHANTABILITY or FITNESS FOR A PARTICULAR PURPOSE.\n",
      "\n"
     ]
    }
   ],
   "source": [
    "# Check nvcc version\n",
    "!nvcc -V\n",
    "# Check GCC version\n",
    "!gcc --version"
   ]
  },
  {
   "cell_type": "code",
   "execution_count": 2,
   "metadata": {
    "colab": {
     "base_uri": "https://localhost:8080/"
    },
    "executionInfo": {
     "elapsed": 260985,
     "status": "ok",
     "timestamp": 1652527287387,
     "user": {
      "displayName": "박명규",
      "userId": "02445783098974476555"
     },
     "user_tz": -540
    },
    "id": "Rj1n1M8G33oM",
    "outputId": "ef16a304-dcbd-4699-e4ad-9998ec6b71d6"
   },
   "outputs": [
    {
     "name": "stdout",
     "output_type": "stream",
     "text": [
      "Looking in links: https://download.pytorch.org/whl/torch_stable.html\n",
      "Collecting torch==1.9.0+cu111\n",
      "  Downloading https://download.pytorch.org/whl/cu111/torch-1.9.0%2Bcu111-cp37-cp37m-linux_x86_64.whl (2041.3 MB)\n",
      "\u001B[K     |█████████████                   | 834.1 MB 1.8 MB/s eta 0:11:03tcmalloc: large alloc 1147494400 bytes == 0x39e86000 @  0x7f3187634615 0x592b76 0x4df71e 0x59afff 0x515655 0x549576 0x593fce 0x548ae9 0x51566f 0x549576 0x593fce 0x548ae9 0x5127f1 0x598e3b 0x511f68 0x598e3b 0x511f68 0x598e3b 0x511f68 0x4bc98a 0x532e76 0x594b72 0x515600 0x549576 0x593fce 0x548ae9 0x5127f1 0x549576 0x593fce 0x5118f8 0x593dd7\n",
      "\u001B[K     |████████████████▌               | 1055.7 MB 1.4 MB/s eta 0:11:46tcmalloc: large alloc 1434370048 bytes == 0x7e4dc000 @  0x7f3187634615 0x592b76 0x4df71e 0x59afff 0x515655 0x549576 0x593fce 0x548ae9 0x51566f 0x549576 0x593fce 0x548ae9 0x5127f1 0x598e3b 0x511f68 0x598e3b 0x511f68 0x598e3b 0x511f68 0x4bc98a 0x532e76 0x594b72 0x515600 0x549576 0x593fce 0x548ae9 0x5127f1 0x549576 0x593fce 0x5118f8 0x593dd7\n",
      "\u001B[K     |█████████████████████           | 1336.2 MB 1.3 MB/s eta 0:08:55tcmalloc: large alloc 1792966656 bytes == 0x330e000 @  0x7f3187634615 0x592b76 0x4df71e 0x59afff 0x515655 0x549576 0x593fce 0x548ae9 0x51566f 0x549576 0x593fce 0x548ae9 0x5127f1 0x598e3b 0x511f68 0x598e3b 0x511f68 0x598e3b 0x511f68 0x4bc98a 0x532e76 0x594b72 0x515600 0x549576 0x593fce 0x548ae9 0x5127f1 0x549576 0x593fce 0x5118f8 0x593dd7\n",
      "\u001B[K     |██████████████████████████▌     | 1691.1 MB 1.3 MB/s eta 0:04:22tcmalloc: large alloc 2241208320 bytes == 0x6e0f6000 @  0x7f3187634615 0x592b76 0x4df71e 0x59afff 0x515655 0x549576 0x593fce 0x548ae9 0x51566f 0x549576 0x593fce 0x548ae9 0x5127f1 0x598e3b 0x511f68 0x598e3b 0x511f68 0x598e3b 0x511f68 0x4bc98a 0x532e76 0x594b72 0x515600 0x549576 0x593fce 0x548ae9 0x5127f1 0x549576 0x593fce 0x5118f8 0x593dd7\n",
      "\u001B[K     |████████████████████████████████| 2041.3 MB 1.4 MB/s eta 0:00:01tcmalloc: large alloc 2041348096 bytes == 0xf3a58000 @  0x7f31876331e7 0x4a3940 0x4a39cc 0x592b76 0x4df71e 0x59afff 0x515655 0x549576 0x593fce 0x511e2c 0x549576 0x593fce 0x511e2c 0x549576 0x593fce 0x511e2c 0x549576 0x593fce 0x511e2c 0x549576 0x593fce 0x511e2c 0x593dd7 0x511e2c 0x549576 0x593fce 0x548ae9 0x5127f1 0x549576 0x593fce 0x548ae9\n",
      "tcmalloc: large alloc 2551685120 bytes == 0x1e19a4000 @  0x7f3187634615 0x592b76 0x4df71e 0x59afff 0x515655 0x549576 0x593fce 0x511e2c 0x549576 0x593fce 0x511e2c 0x549576 0x593fce 0x511e2c 0x549576 0x593fce 0x511e2c 0x549576 0x593fce 0x511e2c 0x593dd7 0x511e2c 0x549576 0x593fce 0x548ae9 0x5127f1 0x549576 0x593fce 0x548ae9 0x5127f1 0x549576\n",
      "\u001B[K     |████████████████████████████████| 2041.3 MB 7.3 kB/s \n",
      "\u001B[?25hCollecting torchvision==0.10.0+cu111\n",
      "  Downloading https://download.pytorch.org/whl/cu111/torchvision-0.10.0%2Bcu111-cp37-cp37m-linux_x86_64.whl (23.2 MB)\n",
      "\u001B[K     |████████████████████████████████| 23.2 MB 1.9 MB/s \n",
      "\u001B[?25hRequirement already satisfied: typing-extensions in /usr/local/lib/python3.7/dist-packages (from torch==1.9.0+cu111) (4.2.0)\n",
      "Requirement already satisfied: numpy in /usr/local/lib/python3.7/dist-packages (from torchvision==0.10.0+cu111) (1.21.6)\n",
      "Requirement already satisfied: pillow>=5.3.0 in /usr/local/lib/python3.7/dist-packages (from torchvision==0.10.0+cu111) (7.1.2)\n",
      "Installing collected packages: torch, torchvision\n",
      "  Attempting uninstall: torch\n",
      "    Found existing installation: torch 1.11.0+cu113\n",
      "    Uninstalling torch-1.11.0+cu113:\n",
      "      Successfully uninstalled torch-1.11.0+cu113\n",
      "  Attempting uninstall: torchvision\n",
      "    Found existing installation: torchvision 0.12.0+cu113\n",
      "    Uninstalling torchvision-0.12.0+cu113:\n",
      "      Successfully uninstalled torchvision-0.12.0+cu113\n",
      "\u001B[31mERROR: pip's dependency resolver does not currently take into account all the packages that are installed. This behaviour is the source of the following dependency conflicts.\n",
      "torchtext 0.12.0 requires torch==1.11.0, but you have torch 1.9.0+cu111 which is incompatible.\n",
      "torchaudio 0.11.0+cu113 requires torch==1.11.0, but you have torch 1.9.0+cu111 which is incompatible.\u001B[0m\n",
      "Successfully installed torch-1.9.0+cu111 torchvision-0.10.0+cu111\n",
      "Looking in links: https://download.openmmlab.com/mmcv/dist/cu111/torch1.9.0/index.html\n",
      "Collecting mmcv-full\n",
      "  Downloading https://download.openmmlab.com/mmcv/dist/cu111/torch1.9.0/mmcv_full-1.5.0-cp37-cp37m-manylinux1_x86_64.whl (45.5 MB)\n",
      "\u001B[K     |████████████████████████████████| 45.5 MB 262 kB/s \n",
      "\u001B[?25hRequirement already satisfied: numpy in /usr/local/lib/python3.7/dist-packages (from mmcv-full) (1.21.6)\n",
      "Requirement already satisfied: pyyaml in /usr/local/lib/python3.7/dist-packages (from mmcv-full) (3.13)\n",
      "Requirement already satisfied: Pillow in /usr/local/lib/python3.7/dist-packages (from mmcv-full) (7.1.2)\n",
      "Collecting yapf\n",
      "  Downloading yapf-0.32.0-py2.py3-none-any.whl (190 kB)\n",
      "\u001B[K     |████████████████████████████████| 190 kB 12.3 MB/s \n",
      "\u001B[?25hCollecting addict\n",
      "  Downloading addict-2.4.0-py3-none-any.whl (3.8 kB)\n",
      "Requirement already satisfied: packaging in /usr/local/lib/python3.7/dist-packages (from mmcv-full) (21.3)\n",
      "Requirement already satisfied: opencv-python>=3 in /usr/local/lib/python3.7/dist-packages (from mmcv-full) (4.1.2.30)\n",
      "Requirement already satisfied: pyparsing!=3.0.5,>=2.0.2 in /usr/local/lib/python3.7/dist-packages (from packaging->mmcv-full) (3.0.8)\n",
      "Installing collected packages: yapf, addict, mmcv-full\n",
      "Successfully installed addict-2.4.0 mmcv-full-1.5.0 yapf-0.32.0\n",
      "Cloning into 'mmdetection'...\n",
      "remote: Enumerating objects: 24460, done.\u001B[K\n",
      "remote: Counting objects: 100% (22/22), done.\u001B[K\n",
      "remote: Compressing objects: 100% (19/19), done.\u001B[K\n",
      "remote: Total 24460 (delta 3), reused 12 (delta 3), pack-reused 24438\u001B[K\n",
      "Receiving objects: 100% (24460/24460), 37.54 MiB | 11.96 MiB/s, done.\n",
      "Resolving deltas: 100% (17105/17105), done.\n",
      "/content/mmdetection\n",
      "Obtaining file:///content/mmdetection\n",
      "Requirement already satisfied: matplotlib in /usr/local/lib/python3.7/dist-packages (from mmdet==2.24.1) (3.2.2)\n",
      "Requirement already satisfied: numpy in /usr/local/lib/python3.7/dist-packages (from mmdet==2.24.1) (1.21.6)\n",
      "Requirement already satisfied: pycocotools in /usr/local/lib/python3.7/dist-packages (from mmdet==2.24.1) (2.0.4)\n",
      "Requirement already satisfied: six in /usr/local/lib/python3.7/dist-packages (from mmdet==2.24.1) (1.15.0)\n",
      "Collecting terminaltables\n",
      "  Downloading terminaltables-3.1.10-py2.py3-none-any.whl (15 kB)\n",
      "Requirement already satisfied: python-dateutil>=2.1 in /usr/local/lib/python3.7/dist-packages (from matplotlib->mmdet==2.24.1) (2.8.2)\n",
      "Requirement already satisfied: kiwisolver>=1.0.1 in /usr/local/lib/python3.7/dist-packages (from matplotlib->mmdet==2.24.1) (1.4.2)\n",
      "Requirement already satisfied: pyparsing!=2.0.4,!=2.1.2,!=2.1.6,>=2.0.1 in /usr/local/lib/python3.7/dist-packages (from matplotlib->mmdet==2.24.1) (3.0.8)\n",
      "Requirement already satisfied: cycler>=0.10 in /usr/local/lib/python3.7/dist-packages (from matplotlib->mmdet==2.24.1) (0.11.0)\n",
      "Requirement already satisfied: typing-extensions in /usr/local/lib/python3.7/dist-packages (from kiwisolver>=1.0.1->matplotlib->mmdet==2.24.1) (4.2.0)\n",
      "Installing collected packages: terminaltables, mmdet\n",
      "  Running setup.py develop for mmdet\n",
      "Successfully installed mmdet-2.24.1 terminaltables-3.1.10\n"
     ]
    }
   ],
   "source": [
    "# install dependencies: (use cu111 because colab has CUDA 11.1)\n",
    "!pip install torch==1.9.0+cu111 torchvision==0.10.0+cu111 -f https://download.pytorch.org/whl/torch_stable.html\n",
    "\n",
    "# install mmcv-full thus we could use CUDA operators\n",
    "!pip install mmcv-full -f https://download.openmmlab.com/mmcv/dist/cu111/torch1.9.0/index.html\n",
    "\n",
    "# Install mmdetection\n",
    "!rm -rf mmdetection\n",
    "!git clone https://github.com/open-mmlab/mmdetection.git\n",
    "%cd mmdetection\n",
    "\n",
    "!pip install -e ."
   ]
  },
  {
   "cell_type": "code",
   "execution_count": 3,
   "metadata": {
    "colab": {
     "base_uri": "https://localhost:8080/"
    },
    "executionInfo": {
     "elapsed": 3000,
     "status": "ok",
     "timestamp": 1652527290374,
     "user": {
      "displayName": "박명규",
      "userId": "02445783098974476555"
     },
     "user_tz": -540
    },
    "id": "XQlqCm_Z6Dtl",
    "outputId": "8578b6f1-ac33-4679-c247-9104f3821cbe"
   },
   "outputs": [
    {
     "data": {
      "text/plain": [
       "{'CUDA available': True,\n",
       " 'CUDA_HOME': '/usr/local/cuda',\n",
       " 'GCC': 'x86_64-linux-gnu-gcc (Ubuntu 7.5.0-3ubuntu1~18.04) 7.5.0',\n",
       " 'GPU 0': 'Tesla P100-PCIE-16GB',\n",
       " 'MMCV': '1.5.0',\n",
       " 'MMCV CUDA Compiler': '11.1',\n",
       " 'MMCV Compiler': 'GCC 7.3',\n",
       " 'NVCC': 'Cuda compilation tools, release 11.1, V11.1.105',\n",
       " 'OpenCV': '4.1.2',\n",
       " 'PyTorch': '1.9.0+cu111',\n",
       " 'PyTorch compiling details': 'PyTorch built with:\\n  - GCC 7.3\\n  - C++ Version: 201402\\n  - Intel(R) Math Kernel Library Version 2020.0.0 Product Build 20191122 for Intel(R) 64 architecture applications\\n  - Intel(R) MKL-DNN v2.1.2 (Git Hash 98be7e8afa711dc9b66c8ff3504129cb82013cdb)\\n  - OpenMP 201511 (a.k.a. OpenMP 4.5)\\n  - NNPACK is enabled\\n  - CPU capability usage: AVX2\\n  - CUDA Runtime 11.1\\n  - NVCC architecture flags: -gencode;arch=compute_37,code=sm_37;-gencode;arch=compute_50,code=sm_50;-gencode;arch=compute_60,code=sm_60;-gencode;arch=compute_70,code=sm_70;-gencode;arch=compute_75,code=sm_75;-gencode;arch=compute_80,code=sm_80;-gencode;arch=compute_86,code=sm_86\\n  - CuDNN 8.0.5\\n  - Magma 2.5.2\\n  - Build settings: BLAS_INFO=mkl, BUILD_TYPE=Release, CUDA_VERSION=11.1, CUDNN_VERSION=8.0.5, CXX_COMPILER=/opt/rh/devtoolset-7/root/usr/bin/c++, CXX_FLAGS= -Wno-deprecated -fvisibility-inlines-hidden -DUSE_PTHREADPOOL -fopenmp -DNDEBUG -DUSE_KINETO -DUSE_FBGEMM -DUSE_QNNPACK -DUSE_PYTORCH_QNNPACK -DUSE_XNNPACK -DSYMBOLICATE_MOBILE_DEBUG_HANDLE -O2 -fPIC -Wno-narrowing -Wall -Wextra -Werror=return-type -Wno-missing-field-initializers -Wno-type-limits -Wno-array-bounds -Wno-unknown-pragmas -Wno-sign-compare -Wno-unused-parameter -Wno-unused-variable -Wno-unused-function -Wno-unused-result -Wno-unused-local-typedefs -Wno-strict-overflow -Wno-strict-aliasing -Wno-error=deprecated-declarations -Wno-stringop-overflow -Wno-psabi -Wno-error=pedantic -Wno-error=redundant-decls -Wno-error=old-style-cast -fdiagnostics-color=always -faligned-new -Wno-unused-but-set-variable -Wno-maybe-uninitialized -fno-math-errno -fno-trapping-math -Werror=format -Wno-stringop-overflow, LAPACK_INFO=mkl, PERF_WITH_AVX=1, PERF_WITH_AVX2=1, PERF_WITH_AVX512=1, TORCH_VERSION=1.9.0, USE_CUDA=ON, USE_CUDNN=ON, USE_EXCEPTION_PTR=1, USE_GFLAGS=OFF, USE_GLOG=OFF, USE_MKL=ON, USE_MKLDNN=ON, USE_MPI=OFF, USE_NCCL=ON, USE_NNPACK=ON, USE_OPENMP=ON, \\n',\n",
       " 'Python': '3.7.13 (default, Apr 24 2022, 01:04:09) [GCC 7.5.0]',\n",
       " 'TorchVision': '0.10.0+cu111',\n",
       " 'sys.platform': 'linux'}"
      ]
     },
     "execution_count": 3,
     "metadata": {},
     "output_type": "execute_result"
    }
   ],
   "source": [
    "from mmcv import collect_env\n",
    "collect_env()"
   ]
  },
  {
   "cell_type": "code",
   "execution_count": 4,
   "metadata": {
    "colab": {
     "base_uri": "https://localhost:8080/"
    },
    "executionInfo": {
     "elapsed": 7,
     "status": "ok",
     "timestamp": 1652527290375,
     "user": {
      "displayName": "박명규",
      "userId": "02445783098974476555"
     },
     "user_tz": -540
    },
    "id": "y9sBt1xU6FrZ",
    "outputId": "7cd73b6d-7e29-4ff6-c832-ababe52eb529"
   },
   "outputs": [
    {
     "name": "stdout",
     "output_type": "stream",
     "text": [
      "1.9.0+cu111 True\n",
      "2.24.1\n",
      "11.1\n",
      "GCC 7.3\n"
     ]
    }
   ],
   "source": [
    "# Check Pytorch installation\n",
    "import torch, torchvision\n",
    "print(torch.__version__, torch.cuda.is_available())\n",
    "\n",
    "# Check MMDetection installation\n",
    "import mmdet\n",
    "print(mmdet.__version__)\n",
    "\n",
    "# Check mmcv installation\n",
    "from mmcv.ops import get_compiling_cuda_version, get_compiler_version\n",
    "print(get_compiling_cuda_version())\n",
    "print(get_compiler_version())"
   ]
  },
  {
   "cell_type": "code",
   "execution_count": 5,
   "metadata": {
    "colab": {
     "base_uri": "https://localhost:8080/"
    },
    "executionInfo": {
     "elapsed": 22938,
     "status": "ok",
     "timestamp": 1652527313308,
     "user": {
      "displayName": "박명규",
      "userId": "02445783098974476555"
     },
     "user_tz": -540
    },
    "id": "nTMAtOAFz50V",
    "outputId": "aab15f76-b452-454e-8caa-b459eccf79b3"
   },
   "outputs": [
    {
     "name": "stdout",
     "output_type": "stream",
     "text": [
      "Mounted at /content/drive\n"
     ]
    }
   ],
   "source": [
    "from google.colab import drive\n",
    "\n",
    "drive.mount('/content/drive')"
   ]
  },
  {
   "cell_type": "markdown",
   "metadata": {
    "id": "bqxKZe7qfM88"
   },
   "source": [
    "### **데이터셋 다운로드**"
   ]
  },
  {
   "cell_type": "code",
   "execution_count": 6,
   "metadata": {
    "colab": {
     "base_uri": "https://localhost:8080/",
     "height": 0
    },
    "executionInfo": {
     "elapsed": 54959,
     "status": "ok",
     "timestamp": 1652527368263,
     "user": {
      "displayName": "박명규",
      "userId": "02445783098974476555"
     },
     "user_tz": -540
    },
    "id": "GABhAWJI6OvI",
    "outputId": "492fe310-6666-4832-9ef9-20e30e027968"
   },
   "outputs": [
    {
     "name": "stdout",
     "output_type": "stream",
     "text": [
      "Collecting roboflow\n",
      "  Downloading roboflow-0.2.4.tar.gz (15 kB)\n",
      "Collecting certifi==2021.5.30\n",
      "  Downloading certifi-2021.5.30-py2.py3-none-any.whl (145 kB)\n",
      "\u001B[K     |████████████████████████████████| 145 kB 11.6 MB/s \n",
      "\u001B[?25hCollecting chardet==4.0.0\n",
      "  Downloading chardet-4.0.0-py2.py3-none-any.whl (178 kB)\n",
      "\u001B[K     |████████████████████████████████| 178 kB 50.7 MB/s \n",
      "\u001B[?25hCollecting cycler==0.10.0\n",
      "  Downloading cycler-0.10.0-py2.py3-none-any.whl (6.5 kB)\n",
      "Requirement already satisfied: idna==2.10 in /usr/local/lib/python3.7/dist-packages (from roboflow) (2.10)\n",
      "Collecting kiwisolver==1.3.1\n",
      "  Downloading kiwisolver-1.3.1-cp37-cp37m-manylinux1_x86_64.whl (1.1 MB)\n",
      "\u001B[K     |████████████████████████████████| 1.1 MB 41.8 MB/s \n",
      "\u001B[?25hRequirement already satisfied: matplotlib in /usr/local/lib/python3.7/dist-packages (from roboflow) (3.2.2)\n",
      "Requirement already satisfied: numpy>=1.18.5 in /usr/local/lib/python3.7/dist-packages (from roboflow) (1.21.6)\n",
      "Requirement already satisfied: opencv-python>=4.1.2 in /usr/local/lib/python3.7/dist-packages (from roboflow) (4.1.2.30)\n",
      "Requirement already satisfied: Pillow>=7.1.2 in /usr/local/lib/python3.7/dist-packages (from roboflow) (7.1.2)\n",
      "Collecting pyparsing==2.4.7\n",
      "  Downloading pyparsing-2.4.7-py2.py3-none-any.whl (67 kB)\n",
      "\u001B[K     |████████████████████████████████| 67 kB 5.3 MB/s \n",
      "\u001B[?25hRequirement already satisfied: python-dateutil in /usr/local/lib/python3.7/dist-packages (from roboflow) (2.8.2)\n",
      "Collecting python-dotenv\n",
      "  Downloading python_dotenv-0.20.0-py3-none-any.whl (17 kB)\n",
      "Requirement already satisfied: requests in /usr/local/lib/python3.7/dist-packages (from roboflow) (2.23.0)\n",
      "Collecting requests_toolbelt\n",
      "  Downloading requests_toolbelt-0.9.1-py2.py3-none-any.whl (54 kB)\n",
      "\u001B[K     |████████████████████████████████| 54 kB 2.9 MB/s \n",
      "\u001B[?25hRequirement already satisfied: six in /usr/local/lib/python3.7/dist-packages (from roboflow) (1.15.0)\n",
      "Collecting urllib3==1.26.6\n",
      "  Downloading urllib3-1.26.6-py2.py3-none-any.whl (138 kB)\n",
      "\u001B[K     |████████████████████████████████| 138 kB 51.3 MB/s \n",
      "\u001B[?25hCollecting wget\n",
      "  Downloading wget-3.2.zip (10 kB)\n",
      "Requirement already satisfied: tqdm>=4.41.0 in /usr/local/lib/python3.7/dist-packages (from roboflow) (4.64.0)\n",
      "Collecting PyYAML>=5.3.1\n",
      "  Downloading PyYAML-6.0-cp37-cp37m-manylinux_2_5_x86_64.manylinux1_x86_64.manylinux_2_12_x86_64.manylinux2010_x86_64.whl (596 kB)\n",
      "\u001B[K     |████████████████████████████████| 596 kB 43.3 MB/s \n",
      "\u001B[?25hCollecting requests\n",
      "  Downloading requests-2.27.1-py2.py3-none-any.whl (63 kB)\n",
      "\u001B[K     |████████████████████████████████| 63 kB 1.9 MB/s \n",
      "\u001B[?25hRequirement already satisfied: charset-normalizer~=2.0.0 in /usr/local/lib/python3.7/dist-packages (from requests->roboflow) (2.0.12)\n",
      "Building wheels for collected packages: roboflow, wget\n",
      "  Building wheel for roboflow (setup.py) ... \u001B[?25l\u001B[?25hdone\n",
      "  Created wheel for roboflow: filename=roboflow-0.2.4-py3-none-any.whl size=21356 sha256=fa355790bb8ef9b2dc66aed2b085ddb3e5ab9fe51cc9a6ae16f4c1332fe4cbc4\n",
      "  Stored in directory: /root/.cache/pip/wheels/b7/2c/60/3733c0e323b1d7aec00f852264314bf6c48192c8e1dc92b3ee\n",
      "  Building wheel for wget (setup.py) ... \u001B[?25l\u001B[?25hdone\n",
      "  Created wheel for wget: filename=wget-3.2-py3-none-any.whl size=9675 sha256=490ecf9d394cebb7deb91d875ba9abaaae6c19fac4264a2e0c992266e5ce220f\n",
      "  Stored in directory: /root/.cache/pip/wheels/a1/b6/7c/0e63e34eb06634181c63adacca38b79ff8f35c37e3c13e3c02\n",
      "Successfully built roboflow wget\n",
      "Installing collected packages: urllib3, certifi, requests, pyparsing, kiwisolver, cycler, wget, requests-toolbelt, PyYAML, python-dotenv, chardet, roboflow\n",
      "  Attempting uninstall: urllib3\n",
      "    Found existing installation: urllib3 1.24.3\n",
      "    Uninstalling urllib3-1.24.3:\n",
      "      Successfully uninstalled urllib3-1.24.3\n",
      "  Attempting uninstall: certifi\n",
      "    Found existing installation: certifi 2021.10.8\n",
      "    Uninstalling certifi-2021.10.8:\n",
      "      Successfully uninstalled certifi-2021.10.8\n",
      "  Attempting uninstall: requests\n",
      "    Found existing installation: requests 2.23.0\n",
      "    Uninstalling requests-2.23.0:\n",
      "      Successfully uninstalled requests-2.23.0\n",
      "  Attempting uninstall: pyparsing\n",
      "    Found existing installation: pyparsing 3.0.8\n",
      "    Uninstalling pyparsing-3.0.8:\n",
      "      Successfully uninstalled pyparsing-3.0.8\n",
      "  Attempting uninstall: kiwisolver\n",
      "    Found existing installation: kiwisolver 1.4.2\n",
      "    Uninstalling kiwisolver-1.4.2:\n",
      "      Successfully uninstalled kiwisolver-1.4.2\n",
      "  Attempting uninstall: cycler\n",
      "    Found existing installation: cycler 0.11.0\n",
      "    Uninstalling cycler-0.11.0:\n",
      "      Successfully uninstalled cycler-0.11.0\n",
      "  Attempting uninstall: PyYAML\n",
      "    Found existing installation: PyYAML 3.13\n",
      "    Uninstalling PyYAML-3.13:\n",
      "      Successfully uninstalled PyYAML-3.13\n",
      "  Attempting uninstall: chardet\n",
      "    Found existing installation: chardet 3.0.4\n",
      "    Uninstalling chardet-3.0.4:\n",
      "      Successfully uninstalled chardet-3.0.4\n",
      "\u001B[31mERROR: pip's dependency resolver does not currently take into account all the packages that are installed. This behaviour is the source of the following dependency conflicts.\n",
      "torchtext 0.12.0 requires torch==1.11.0, but you have torch 1.9.0+cu111 which is incompatible.\n",
      "google-colab 1.0.0 requires requests~=2.23.0, but you have requests 2.27.1 which is incompatible.\n",
      "datascience 0.10.6 requires folium==0.2.1, but you have folium 0.8.3 which is incompatible.\n",
      "albumentations 0.1.12 requires imgaug<0.2.7,>=0.2.5, but you have imgaug 0.2.9 which is incompatible.\u001B[0m\n",
      "Successfully installed PyYAML-6.0 certifi-2021.5.30 chardet-4.0.0 cycler-0.10.0 kiwisolver-1.3.1 pyparsing-2.4.7 python-dotenv-0.20.0 requests-2.27.1 requests-toolbelt-0.9.1 roboflow-0.2.4 urllib3-1.26.6 wget-3.2\n"
     ]
    },
    {
     "data": {
      "application/vnd.colab-display-data+json": {
       "pip_warning": {
        "packages": [
         "cycler",
         "kiwisolver",
         "pyparsing",
         "yaml"
        ]
       }
      }
     },
     "metadata": {},
     "output_type": "display_data"
    },
    {
     "name": "stdout",
     "output_type": "stream",
     "text": [
      "loading Roboflow workspace...\n",
      "loading Roboflow project...\n",
      "Downloading Dataset Version Zip in sketch-detection-2 to coco: 100% [83428211 / 83428211] bytes\n"
     ]
    },
    {
     "name": "stderr",
     "output_type": "stream",
     "text": [
      "Extracting Dataset Version Zip to sketch-detection-2 in coco:: 100%|██████████| 3309/3309 [00:04<00:00, 805.12it/s]\n"
     ]
    }
   ],
   "source": [
    "# Download dataset\n",
    "!pip install roboflow\n",
    "\n",
    "from roboflow import Roboflow\n",
    "rf = Roboflow(api_key=\"MY_API_KEY\")\n",
    "project = rf.workspace(\"sketch\").project(\"sketch-detection\")\n",
    "dataset = project.version(2).download(\"coco\")"
   ]
  },
  {
   "cell_type": "markdown",
   "metadata": {
    "id": "OAm91RtH-w52"
   },
   "source": [
    "### **Faster R-CNN**"
   ]
  },
  {
   "cell_type": "markdown",
   "metadata": {
    "id": "zQ4ftpX6Cy6f"
   },
   "source": [
    "<img src=\"https://user-images.githubusercontent.com/40661020/143881188-ab87720f-5059-4b4e-a928-b540fb8fb84d.png\" width=500/>"
   ]
  },
  {
   "cell_type": "code",
   "execution_count": 10,
   "metadata": {
    "colab": {
     "base_uri": "https://localhost:8080/"
    },
    "executionInfo": {
     "elapsed": 3491,
     "status": "ok",
     "timestamp": 1652527373884,
     "user": {
      "displayName": "박명규",
      "userId": "02445783098974476555"
     },
     "user_tz": -540
    },
    "id": "ki5m6FWrFlFD",
    "outputId": "ed84fb84-5c8f-4fe7-9975-beba2df23c6a"
   },
   "outputs": [
    {
     "name": "stdout",
     "output_type": "stream",
     "text": [
      "model = dict(\n",
      "    type='FasterRCNN',\n",
      "    backbone=dict(\n",
      "        type='ResNet',\n",
      "        depth=50,\n",
      "        num_stages=4,\n",
      "        out_indices=(0, 1, 2, 3),\n",
      "        frozen_stages=1,\n",
      "        norm_cfg=dict(type='BN', requires_grad=False),\n",
      "        norm_eval=True,\n",
      "        style='caffe',\n",
      "        init_cfg=dict(\n",
      "            type='Pretrained',\n",
      "            checkpoint='open-mmlab://detectron2/resnet50_caffe')),\n",
      "    neck=dict(\n",
      "        type='FPN',\n",
      "        in_channels=[256, 512, 1024, 2048],\n",
      "        out_channels=256,\n",
      "        num_outs=5),\n",
      "    rpn_head=dict(\n",
      "        type='RPNHead',\n",
      "        in_channels=256,\n",
      "        feat_channels=256,\n",
      "        anchor_generator=dict(\n",
      "            type='AnchorGenerator',\n",
      "            scales=[8],\n",
      "            ratios=[0.5, 1.0, 2.0],\n",
      "            strides=[4, 8, 16, 32, 64]),\n",
      "        bbox_coder=dict(\n",
      "            type='DeltaXYWHBBoxCoder',\n",
      "            target_means=[0.0, 0.0, 0.0, 0.0],\n",
      "            target_stds=[1.0, 1.0, 1.0, 1.0]),\n",
      "        loss_cls=dict(\n",
      "            type='CrossEntropyLoss', use_sigmoid=True, loss_weight=1.0),\n",
      "        loss_bbox=dict(type='L1Loss', loss_weight=1.0)),\n",
      "    roi_head=dict(\n",
      "        type='StandardRoIHead',\n",
      "        bbox_roi_extractor=dict(\n",
      "            type='SingleRoIExtractor',\n",
      "            roi_layer=dict(type='RoIAlign', output_size=7, sampling_ratio=0),\n",
      "            out_channels=256,\n",
      "            featmap_strides=[4, 8, 16, 32]),\n",
      "        bbox_head=dict(\n",
      "            type='Shared2FCBBoxHead',\n",
      "            in_channels=256,\n",
      "            fc_out_channels=1024,\n",
      "            roi_feat_size=7,\n",
      "            num_classes=80,\n",
      "            bbox_coder=dict(\n",
      "                type='DeltaXYWHBBoxCoder',\n",
      "                target_means=[0.0, 0.0, 0.0, 0.0],\n",
      "                target_stds=[0.1, 0.1, 0.2, 0.2]),\n",
      "            reg_class_agnostic=False,\n",
      "            loss_cls=dict(\n",
      "                type='CrossEntropyLoss', use_sigmoid=False, loss_weight=1.0),\n",
      "            loss_bbox=dict(type='L1Loss', loss_weight=1.0))),\n",
      "    train_cfg=dict(\n",
      "        rpn=dict(\n",
      "            assigner=dict(\n",
      "                type='MaxIoUAssigner',\n",
      "                pos_iou_thr=0.7,\n",
      "                neg_iou_thr=0.3,\n",
      "                min_pos_iou=0.3,\n",
      "                match_low_quality=True,\n",
      "                ignore_iof_thr=-1),\n",
      "            sampler=dict(\n",
      "                type='RandomSampler',\n",
      "                num=256,\n",
      "                pos_fraction=0.5,\n",
      "                neg_pos_ub=-1,\n",
      "                add_gt_as_proposals=False),\n",
      "            allowed_border=-1,\n",
      "            pos_weight=-1,\n",
      "            debug=False),\n",
      "        rpn_proposal=dict(\n",
      "            nms_pre=2000,\n",
      "            max_per_img=1000,\n",
      "            nms=dict(type='nms', iou_threshold=0.7),\n",
      "            min_bbox_size=0),\n",
      "        rcnn=dict(\n",
      "            assigner=dict(\n",
      "                type='MaxIoUAssigner',\n",
      "                pos_iou_thr=0.5,\n",
      "                neg_iou_thr=0.5,\n",
      "                min_pos_iou=0.5,\n",
      "                match_low_quality=False,\n",
      "                ignore_iof_thr=-1),\n",
      "            sampler=dict(\n",
      "                type='RandomSampler',\n",
      "                num=512,\n",
      "                pos_fraction=0.25,\n",
      "                neg_pos_ub=-1,\n",
      "                add_gt_as_proposals=True),\n",
      "            pos_weight=-1,\n",
      "            debug=False)),\n",
      "    test_cfg=dict(\n",
      "        rpn=dict(\n",
      "            nms_pre=1000,\n",
      "            max_per_img=1000,\n",
      "            nms=dict(type='nms', iou_threshold=0.7),\n",
      "            min_bbox_size=0),\n",
      "        rcnn=dict(\n",
      "            score_thr=0.05,\n",
      "            nms=dict(type='nms', iou_threshold=0.5),\n",
      "            max_per_img=100)))\n",
      "dataset_type = 'CocoDataset'\n",
      "data_root = 'data/coco/'\n",
      "img_norm_cfg = dict(\n",
      "    mean=[103.53, 116.28, 123.675], std=[1.0, 1.0, 1.0], to_rgb=False)\n",
      "train_pipeline = [\n",
      "    dict(type='LoadImageFromFile'),\n",
      "    dict(type='LoadAnnotations', with_bbox=True),\n",
      "    dict(\n",
      "        type='Resize',\n",
      "        img_scale=[(1333, 640), (1333, 672), (1333, 704), (1333, 736),\n",
      "                   (1333, 768), (1333, 800)],\n",
      "        multiscale_mode='value',\n",
      "        keep_ratio=True),\n",
      "    dict(type='RandomFlip', flip_ratio=0.5),\n",
      "    dict(\n",
      "        type='Normalize',\n",
      "        mean=[103.53, 116.28, 123.675],\n",
      "        std=[1.0, 1.0, 1.0],\n",
      "        to_rgb=False),\n",
      "    dict(type='Pad', size_divisor=32),\n",
      "    dict(type='DefaultFormatBundle'),\n",
      "    dict(type='Collect', keys=['img', 'gt_bboxes', 'gt_labels'])\n",
      "]\n",
      "test_pipeline = [\n",
      "    dict(type='LoadImageFromFile'),\n",
      "    dict(\n",
      "        type='MultiScaleFlipAug',\n",
      "        img_scale=(1333, 800),\n",
      "        flip=False,\n",
      "        transforms=[\n",
      "            dict(type='Resize', keep_ratio=True),\n",
      "            dict(type='RandomFlip'),\n",
      "            dict(\n",
      "                type='Normalize',\n",
      "                mean=[103.53, 116.28, 123.675],\n",
      "                std=[1.0, 1.0, 1.0],\n",
      "                to_rgb=False),\n",
      "            dict(type='Pad', size_divisor=32),\n",
      "            dict(type='ImageToTensor', keys=['img']),\n",
      "            dict(type='Collect', keys=['img'])\n",
      "        ])\n",
      "]\n",
      "data = dict(\n",
      "    samples_per_gpu=2,\n",
      "    workers_per_gpu=2,\n",
      "    train=dict(\n",
      "        type='CocoDataset',\n",
      "        ann_file='data/coco/annotations/instances_train2017.json',\n",
      "        img_prefix='data/coco/train2017/',\n",
      "        pipeline=[\n",
      "            dict(type='LoadImageFromFile'),\n",
      "            dict(type='LoadAnnotations', with_bbox=True),\n",
      "            dict(\n",
      "                type='Resize',\n",
      "                img_scale=[(1333, 640), (1333, 672), (1333, 704), (1333, 736),\n",
      "                           (1333, 768), (1333, 800)],\n",
      "                multiscale_mode='value',\n",
      "                keep_ratio=True),\n",
      "            dict(type='RandomFlip', flip_ratio=0.5),\n",
      "            dict(\n",
      "                type='Normalize',\n",
      "                mean=[103.53, 116.28, 123.675],\n",
      "                std=[1.0, 1.0, 1.0],\n",
      "                to_rgb=False),\n",
      "            dict(type='Pad', size_divisor=32),\n",
      "            dict(type='DefaultFormatBundle'),\n",
      "            dict(type='Collect', keys=['img', 'gt_bboxes', 'gt_labels'])\n",
      "        ]),\n",
      "    val=dict(\n",
      "        type='CocoDataset',\n",
      "        ann_file='data/coco/annotations/instances_val2017.json',\n",
      "        img_prefix='data/coco/val2017/',\n",
      "        pipeline=[\n",
      "            dict(type='LoadImageFromFile'),\n",
      "            dict(\n",
      "                type='MultiScaleFlipAug',\n",
      "                img_scale=(1333, 800),\n",
      "                flip=False,\n",
      "                transforms=[\n",
      "                    dict(type='Resize', keep_ratio=True),\n",
      "                    dict(type='RandomFlip'),\n",
      "                    dict(\n",
      "                        type='Normalize',\n",
      "                        mean=[103.53, 116.28, 123.675],\n",
      "                        std=[1.0, 1.0, 1.0],\n",
      "                        to_rgb=False),\n",
      "                    dict(type='Pad', size_divisor=32),\n",
      "                    dict(type='ImageToTensor', keys=['img']),\n",
      "                    dict(type='Collect', keys=['img'])\n",
      "                ])\n",
      "        ]),\n",
      "    test=dict(\n",
      "        type='CocoDataset',\n",
      "        ann_file='data/coco/annotations/instances_val2017.json',\n",
      "        img_prefix='data/coco/val2017/',\n",
      "        pipeline=[\n",
      "            dict(type='LoadImageFromFile'),\n",
      "            dict(\n",
      "                type='MultiScaleFlipAug',\n",
      "                img_scale=(1333, 800),\n",
      "                flip=False,\n",
      "                transforms=[\n",
      "                    dict(type='Resize', keep_ratio=True),\n",
      "                    dict(type='RandomFlip'),\n",
      "                    dict(\n",
      "                        type='Normalize',\n",
      "                        mean=[103.53, 116.28, 123.675],\n",
      "                        std=[1.0, 1.0, 1.0],\n",
      "                        to_rgb=False),\n",
      "                    dict(type='Pad', size_divisor=32),\n",
      "                    dict(type='ImageToTensor', keys=['img']),\n",
      "                    dict(type='Collect', keys=['img'])\n",
      "                ])\n",
      "        ]))\n",
      "evaluation = dict(interval=1, metric='bbox')\n",
      "optimizer = dict(type='SGD', lr=0.02, momentum=0.9, weight_decay=0.0001)\n",
      "optimizer_config = dict(grad_clip=None)\n",
      "lr_config = dict(\n",
      "    policy='step',\n",
      "    warmup='linear',\n",
      "    warmup_iters=500,\n",
      "    warmup_ratio=0.001,\n",
      "    step=[8, 11])\n",
      "runner = dict(type='EpochBasedRunner', max_epochs=12)\n",
      "checkpoint_config = dict(interval=1)\n",
      "log_config = dict(interval=50, hooks=[dict(type='TextLoggerHook')])\n",
      "custom_hooks = [dict(type='NumClassCheckHook')]\n",
      "dist_params = dict(backend='nccl')\n",
      "log_level = 'INFO'\n",
      "load_from = None\n",
      "resume_from = None\n",
      "workflow = [('train', 1)]\n",
      "opencv_num_threads = 0\n",
      "mp_start_method = 'fork'\n",
      "auto_scale_lr = dict(enable=False, base_batch_size=16)\n",
      "\n"
     ]
    }
   ],
   "source": [
    "from mmcv import Config\n",
    "from mmdet.apis import set_random_seed\n",
    "\n",
    "cfg = Config.fromfile('./configs/faster_rcnn/faster_rcnn_r50_caffe_fpn_mstrain_1x_coco.py')\n",
    "\n",
    "print(cfg.pretty_text)"
   ]
  },
  {
   "cell_type": "code",
   "execution_count": 11,
   "metadata": {
    "executionInfo": {
     "elapsed": 3,
     "status": "ok",
     "timestamp": 1652527373884,
     "user": {
      "displayName": "박명규",
      "userId": "02445783098974476555"
     },
     "user_tz": -540
    },
    "id": "BgO7horRF9tA"
   },
   "outputs": [],
   "source": [
    "# config 설정\n",
    "\n",
    "data_root = '/content/mmdetection/sketch-detection-2/'\n",
    "ann_file = '_annotations.coco.json'\n",
    "\n",
    "cfg.data_root = data_root\n",
    "\n",
    "cfg.data.train.ann_file = data_root + 'train/' + ann_file\n",
    "cfg.data.train.img_prefix = data_root + 'train/'\n",
    "cfg.data.train.classes = (\n",
    "                      'button', 'checkbox_checked', 'checkbox_unchecked',\n",
    "                      'chip', 'data_table', 'dropdown_menu',\n",
    "                      'floating_action_button', 'image', 'radiobutton_checked',\n",
    "                      'radiobutton_unchecked', 'slider', 'switch_disabled',\n",
    "                      'switch_enabled', 'text_field', 'text_area')\n",
    "\n",
    "cfg.data.val.ann_file = data_root + 'valid/' + ann_file\n",
    "cfg.data.val.img_prefix = data_root + 'valid/'\n",
    "cfg.data.val.classes = (\n",
    "                      'button', 'checkbox_checked', 'checkbox_unchecked',\n",
    "                      'chip', 'data_table', 'dropdown_menu',\n",
    "                      'floating_action_button', 'image', 'radiobutton_checked',\n",
    "                      'radiobutton_unchecked', 'slider', 'switch_disabled',\n",
    "                      'switch_enabled', 'text_field', 'text_area')\n",
    "\n",
    "cfg.data.test.ann_file = data_root + 'test/' + ann_file\n",
    "cfg.data.test.img_prefix = data_root + 'test/'\n",
    "cfg.data.test.classes = (\n",
    "                      'button', 'checkbox_checked', 'checkbox_unchecked',\n",
    "                      'chip', 'data_table', 'dropdown_menu',\n",
    "                      'floating_action_button', 'image', 'radiobutton_checked',\n",
    "                      'radiobutton_unchecked', 'slider', 'switch_disabled',\n",
    "                      'switch_enabled', 'text_field', 'text_area')\n",
    "\n",
    "cfg.optimizer.lr = 0.0025\n",
    "\n",
    "cfg.model.roi_head.bbox_head.num_classes = 15\n",
    "\n",
    "cfg.runner.max_epochs = 30\n",
    "cfg.max_epochs = 30\n",
    "\n",
    "cfg.work_dir = 'working/faster_rcnn'\n",
    "\n",
    "cfg.seed = 0\n",
    "\n",
    "cfg.gpu_ids = [0]\n",
    "cfg.device = 'cuda'\n",
    "\n",
    "cfg.log_config.interval = 100"
   ]
  },
  {
   "cell_type": "code",
   "execution_count": 12,
   "metadata": {
    "colab": {
     "base_uri": "https://localhost:8080/"
    },
    "executionInfo": {
     "elapsed": 3442,
     "status": "ok",
     "timestamp": 1652527377324,
     "user": {
      "displayName": "박명규",
      "userId": "02445783098974476555"
     },
     "user_tz": -540
    },
    "id": "Efgk0KQNChcZ",
    "outputId": "78cc8e86-64c8-4d0a-8f84-aa3cbbbb7485"
   },
   "outputs": [
    {
     "name": "stdout",
     "output_type": "stream",
     "text": [
      "model = dict(\n",
      "    type='FasterRCNN',\n",
      "    backbone=dict(\n",
      "        type='ResNet',\n",
      "        depth=50,\n",
      "        num_stages=4,\n",
      "        out_indices=(0, 1, 2, 3),\n",
      "        frozen_stages=1,\n",
      "        norm_cfg=dict(type='BN', requires_grad=False),\n",
      "        norm_eval=True,\n",
      "        style='caffe',\n",
      "        init_cfg=dict(\n",
      "            type='Pretrained',\n",
      "            checkpoint='open-mmlab://detectron2/resnet50_caffe')),\n",
      "    neck=dict(\n",
      "        type='FPN',\n",
      "        in_channels=[256, 512, 1024, 2048],\n",
      "        out_channels=256,\n",
      "        num_outs=5),\n",
      "    rpn_head=dict(\n",
      "        type='RPNHead',\n",
      "        in_channels=256,\n",
      "        feat_channels=256,\n",
      "        anchor_generator=dict(\n",
      "            type='AnchorGenerator',\n",
      "            scales=[8],\n",
      "            ratios=[0.5, 1.0, 2.0],\n",
      "            strides=[4, 8, 16, 32, 64]),\n",
      "        bbox_coder=dict(\n",
      "            type='DeltaXYWHBBoxCoder',\n",
      "            target_means=[0.0, 0.0, 0.0, 0.0],\n",
      "            target_stds=[1.0, 1.0, 1.0, 1.0]),\n",
      "        loss_cls=dict(\n",
      "            type='CrossEntropyLoss', use_sigmoid=True, loss_weight=1.0),\n",
      "        loss_bbox=dict(type='L1Loss', loss_weight=1.0)),\n",
      "    roi_head=dict(\n",
      "        type='StandardRoIHead',\n",
      "        bbox_roi_extractor=dict(\n",
      "            type='SingleRoIExtractor',\n",
      "            roi_layer=dict(type='RoIAlign', output_size=7, sampling_ratio=0),\n",
      "            out_channels=256,\n",
      "            featmap_strides=[4, 8, 16, 32]),\n",
      "        bbox_head=dict(\n",
      "            type='Shared2FCBBoxHead',\n",
      "            in_channels=256,\n",
      "            fc_out_channels=1024,\n",
      "            roi_feat_size=7,\n",
      "            num_classes=15,\n",
      "            bbox_coder=dict(\n",
      "                type='DeltaXYWHBBoxCoder',\n",
      "                target_means=[0.0, 0.0, 0.0, 0.0],\n",
      "                target_stds=[0.1, 0.1, 0.2, 0.2]),\n",
      "            reg_class_agnostic=False,\n",
      "            loss_cls=dict(\n",
      "                type='CrossEntropyLoss', use_sigmoid=False, loss_weight=1.0),\n",
      "            loss_bbox=dict(type='L1Loss', loss_weight=1.0))),\n",
      "    train_cfg=dict(\n",
      "        rpn=dict(\n",
      "            assigner=dict(\n",
      "                type='MaxIoUAssigner',\n",
      "                pos_iou_thr=0.7,\n",
      "                neg_iou_thr=0.3,\n",
      "                min_pos_iou=0.3,\n",
      "                match_low_quality=True,\n",
      "                ignore_iof_thr=-1),\n",
      "            sampler=dict(\n",
      "                type='RandomSampler',\n",
      "                num=256,\n",
      "                pos_fraction=0.5,\n",
      "                neg_pos_ub=-1,\n",
      "                add_gt_as_proposals=False),\n",
      "            allowed_border=-1,\n",
      "            pos_weight=-1,\n",
      "            debug=False),\n",
      "        rpn_proposal=dict(\n",
      "            nms_pre=2000,\n",
      "            max_per_img=1000,\n",
      "            nms=dict(type='nms', iou_threshold=0.7),\n",
      "            min_bbox_size=0),\n",
      "        rcnn=dict(\n",
      "            assigner=dict(\n",
      "                type='MaxIoUAssigner',\n",
      "                pos_iou_thr=0.5,\n",
      "                neg_iou_thr=0.5,\n",
      "                min_pos_iou=0.5,\n",
      "                match_low_quality=False,\n",
      "                ignore_iof_thr=-1),\n",
      "            sampler=dict(\n",
      "                type='RandomSampler',\n",
      "                num=512,\n",
      "                pos_fraction=0.25,\n",
      "                neg_pos_ub=-1,\n",
      "                add_gt_as_proposals=True),\n",
      "            pos_weight=-1,\n",
      "            debug=False)),\n",
      "    test_cfg=dict(\n",
      "        rpn=dict(\n",
      "            nms_pre=1000,\n",
      "            max_per_img=1000,\n",
      "            nms=dict(type='nms', iou_threshold=0.7),\n",
      "            min_bbox_size=0),\n",
      "        rcnn=dict(\n",
      "            score_thr=0.05,\n",
      "            nms=dict(type='nms', iou_threshold=0.5),\n",
      "            max_per_img=100)))\n",
      "dataset_type = 'CocoDataset'\n",
      "data_root = '/content/mmdetection/sketch-detection-2/'\n",
      "img_norm_cfg = dict(\n",
      "    mean=[103.53, 116.28, 123.675], std=[1.0, 1.0, 1.0], to_rgb=False)\n",
      "train_pipeline = [\n",
      "    dict(type='LoadImageFromFile'),\n",
      "    dict(type='LoadAnnotations', with_bbox=True),\n",
      "    dict(\n",
      "        type='Resize',\n",
      "        img_scale=[(1333, 640), (1333, 672), (1333, 704), (1333, 736),\n",
      "                   (1333, 768), (1333, 800)],\n",
      "        multiscale_mode='value',\n",
      "        keep_ratio=True),\n",
      "    dict(type='RandomFlip', flip_ratio=0.5),\n",
      "    dict(\n",
      "        type='Normalize',\n",
      "        mean=[103.53, 116.28, 123.675],\n",
      "        std=[1.0, 1.0, 1.0],\n",
      "        to_rgb=False),\n",
      "    dict(type='Pad', size_divisor=32),\n",
      "    dict(type='DefaultFormatBundle'),\n",
      "    dict(type='Collect', keys=['img', 'gt_bboxes', 'gt_labels'])\n",
      "]\n",
      "test_pipeline = [\n",
      "    dict(type='LoadImageFromFile'),\n",
      "    dict(\n",
      "        type='MultiScaleFlipAug',\n",
      "        img_scale=(1333, 800),\n",
      "        flip=False,\n",
      "        transforms=[\n",
      "            dict(type='Resize', keep_ratio=True),\n",
      "            dict(type='RandomFlip'),\n",
      "            dict(\n",
      "                type='Normalize',\n",
      "                mean=[103.53, 116.28, 123.675],\n",
      "                std=[1.0, 1.0, 1.0],\n",
      "                to_rgb=False),\n",
      "            dict(type='Pad', size_divisor=32),\n",
      "            dict(type='ImageToTensor', keys=['img']),\n",
      "            dict(type='Collect', keys=['img'])\n",
      "        ])\n",
      "]\n",
      "data = dict(\n",
      "    samples_per_gpu=2,\n",
      "    workers_per_gpu=2,\n",
      "    train=dict(\n",
      "        type='CocoDataset',\n",
      "        ann_file=\n",
      "        '/content/mmdetection/sketch-detection-2/train/_annotations.coco.json',\n",
      "        img_prefix='/content/mmdetection/sketch-detection-2/train/',\n",
      "        pipeline=[\n",
      "            dict(type='LoadImageFromFile'),\n",
      "            dict(type='LoadAnnotations', with_bbox=True),\n",
      "            dict(\n",
      "                type='Resize',\n",
      "                img_scale=[(1333, 640), (1333, 672), (1333, 704), (1333, 736),\n",
      "                           (1333, 768), (1333, 800)],\n",
      "                multiscale_mode='value',\n",
      "                keep_ratio=True),\n",
      "            dict(type='RandomFlip', flip_ratio=0.5),\n",
      "            dict(\n",
      "                type='Normalize',\n",
      "                mean=[103.53, 116.28, 123.675],\n",
      "                std=[1.0, 1.0, 1.0],\n",
      "                to_rgb=False),\n",
      "            dict(type='Pad', size_divisor=32),\n",
      "            dict(type='DefaultFormatBundle'),\n",
      "            dict(type='Collect', keys=['img', 'gt_bboxes', 'gt_labels'])\n",
      "        ],\n",
      "        classes=('button', 'checkbox_checked', 'checkbox_unchecked', 'chip',\n",
      "                 'data_table', 'dropdown_menu', 'floating_action_button',\n",
      "                 'image', 'radiobutton_checked', 'radiobutton_unchecked',\n",
      "                 'slider', 'switch_disabled', 'switch_enabled', 'text_field',\n",
      "                 'text_area')),\n",
      "    val=dict(\n",
      "        type='CocoDataset',\n",
      "        ann_file=\n",
      "        '/content/mmdetection/sketch-detection-2/valid/_annotations.coco.json',\n",
      "        img_prefix='/content/mmdetection/sketch-detection-2/valid/',\n",
      "        pipeline=[\n",
      "            dict(type='LoadImageFromFile'),\n",
      "            dict(\n",
      "                type='MultiScaleFlipAug',\n",
      "                img_scale=(1333, 800),\n",
      "                flip=False,\n",
      "                transforms=[\n",
      "                    dict(type='Resize', keep_ratio=True),\n",
      "                    dict(type='RandomFlip'),\n",
      "                    dict(\n",
      "                        type='Normalize',\n",
      "                        mean=[103.53, 116.28, 123.675],\n",
      "                        std=[1.0, 1.0, 1.0],\n",
      "                        to_rgb=False),\n",
      "                    dict(type='Pad', size_divisor=32),\n",
      "                    dict(type='ImageToTensor', keys=['img']),\n",
      "                    dict(type='Collect', keys=['img'])\n",
      "                ])\n",
      "        ],\n",
      "        classes=('button', 'checkbox_checked', 'checkbox_unchecked', 'chip',\n",
      "                 'data_table', 'dropdown_menu', 'floating_action_button',\n",
      "                 'image', 'radiobutton_checked', 'radiobutton_unchecked',\n",
      "                 'slider', 'switch_disabled', 'switch_enabled', 'text_field',\n",
      "                 'text_area')),\n",
      "    test=dict(\n",
      "        type='CocoDataset',\n",
      "        ann_file=\n",
      "        '/content/mmdetection/sketch-detection-2/test/_annotations.coco.json',\n",
      "        img_prefix='/content/mmdetection/sketch-detection-2/test/',\n",
      "        pipeline=[\n",
      "            dict(type='LoadImageFromFile'),\n",
      "            dict(\n",
      "                type='MultiScaleFlipAug',\n",
      "                img_scale=(1333, 800),\n",
      "                flip=False,\n",
      "                transforms=[\n",
      "                    dict(type='Resize', keep_ratio=True),\n",
      "                    dict(type='RandomFlip'),\n",
      "                    dict(\n",
      "                        type='Normalize',\n",
      "                        mean=[103.53, 116.28, 123.675],\n",
      "                        std=[1.0, 1.0, 1.0],\n",
      "                        to_rgb=False),\n",
      "                    dict(type='Pad', size_divisor=32),\n",
      "                    dict(type='ImageToTensor', keys=['img']),\n",
      "                    dict(type='Collect', keys=['img'])\n",
      "                ])\n",
      "        ],\n",
      "        classes=('button', 'checkbox_checked', 'checkbox_unchecked', 'chip',\n",
      "                 'data_table', 'dropdown_menu', 'floating_action_button',\n",
      "                 'image', 'radiobutton_checked', 'radiobutton_unchecked',\n",
      "                 'slider', 'switch_disabled', 'switch_enabled', 'text_field',\n",
      "                 'text_area')))\n",
      "evaluation = dict(interval=1, metric='bbox')\n",
      "optimizer = dict(type='SGD', lr=0.0025, momentum=0.9, weight_decay=0.0001)\n",
      "optimizer_config = dict(grad_clip=None)\n",
      "lr_config = dict(\n",
      "    policy='step',\n",
      "    warmup='linear',\n",
      "    warmup_iters=500,\n",
      "    warmup_ratio=0.001,\n",
      "    step=[8, 11])\n",
      "runner = dict(type='EpochBasedRunner', max_epochs=30)\n",
      "checkpoint_config = dict(interval=1)\n",
      "log_config = dict(interval=100, hooks=[dict(type='TextLoggerHook')])\n",
      "custom_hooks = [dict(type='NumClassCheckHook')]\n",
      "dist_params = dict(backend='nccl')\n",
      "log_level = 'INFO'\n",
      "load_from = None\n",
      "resume_from = None\n",
      "workflow = [('train', 1)]\n",
      "opencv_num_threads = 0\n",
      "mp_start_method = 'fork'\n",
      "auto_scale_lr = dict(enable=False, base_batch_size=16)\n",
      "max_epochs = 30\n",
      "work_dir = 'working/faster_rcnn'\n",
      "seed = 0\n",
      "gpu_ids = [0]\n",
      "device = 'cuda'\n",
      "\n"
     ]
    }
   ],
   "source": [
    "print(cfg.pretty_text)\n",
    "\n",
    "# config 파일 저장\n",
    "with open(\"faster_rcnn.py\",\"w\") as f:\n",
    "  f.write(cfg.pretty_text)\n",
    "\n",
    "!cp faster_rcnn.py /content/drive/MyDrive/model/faster_rcnn"
   ]
  },
  {
   "cell_type": "code",
   "execution_count": null,
   "metadata": {
    "colab": {
     "base_uri": "https://localhost:8080/"
    },
    "executionInfo": {
     "elapsed": 9488435,
     "status": "ok",
     "timestamp": 1652517728024,
     "user": {
      "displayName": "박명규",
      "userId": "02445783098974476555"
     },
     "user_tz": -540
    },
    "id": "hM628q0DF97b",
    "outputId": "1ef330ce-21b4-43a1-a24b-909a3af5f9ce"
   },
   "outputs": [
    {
     "name": "stdout",
     "output_type": "stream",
     "text": [
      "loading annotations into memory...\n",
      "Done (t=0.02s)\n",
      "creating index...\n",
      "index created!\n"
     ]
    },
    {
     "name": "stderr",
     "output_type": "stream",
     "text": [
      "2022-05-14 05:46:41,494 - mmdet - INFO - Automatic scaling of learning rate (LR) has been disabled.\n",
      "2022-05-14 05:46:41,506 - mmdet - INFO - Start running, host: root@2819bf16a767, work_dir: /content/mmdetection/working/yolof\n",
      "2022-05-14 05:46:41,507 - mmdet - INFO - Hooks will be executed in the following order:\n",
      "before_run:\n",
      "(VERY_HIGH   ) StepLrUpdaterHook                  \n",
      "(NORMAL      ) CheckpointHook                     \n",
      "(LOW         ) EvalHook                           \n",
      "(VERY_LOW    ) TextLoggerHook                     \n",
      " -------------------- \n",
      "before_train_epoch:\n",
      "(VERY_HIGH   ) StepLrUpdaterHook                  \n",
      "(NORMAL      ) NumClassCheckHook                  \n",
      "(LOW         ) IterTimerHook                      \n",
      "(LOW         ) EvalHook                           \n",
      "(VERY_LOW    ) TextLoggerHook                     \n",
      " -------------------- \n",
      "before_train_iter:\n",
      "(VERY_HIGH   ) StepLrUpdaterHook                  \n",
      "(LOW         ) IterTimerHook                      \n",
      "(LOW         ) EvalHook                           \n",
      " -------------------- \n",
      "after_train_iter:\n",
      "(ABOVE_NORMAL) OptimizerHook                      \n",
      "(NORMAL      ) CheckpointHook                     \n",
      "(LOW         ) IterTimerHook                      \n",
      "(LOW         ) EvalHook                           \n",
      "(VERY_LOW    ) TextLoggerHook                     \n",
      " -------------------- \n",
      "after_train_epoch:\n",
      "(NORMAL      ) CheckpointHook                     \n",
      "(LOW         ) EvalHook                           \n",
      "(VERY_LOW    ) TextLoggerHook                     \n",
      " -------------------- \n",
      "before_val_epoch:\n",
      "(NORMAL      ) NumClassCheckHook                  \n",
      "(LOW         ) IterTimerHook                      \n",
      "(VERY_LOW    ) TextLoggerHook                     \n",
      " -------------------- \n",
      "before_val_iter:\n",
      "(LOW         ) IterTimerHook                      \n",
      " -------------------- \n",
      "after_val_iter:\n",
      "(LOW         ) IterTimerHook                      \n",
      " -------------------- \n",
      "after_val_epoch:\n",
      "(VERY_LOW    ) TextLoggerHook                     \n",
      " -------------------- \n",
      "after_run:\n",
      "(VERY_LOW    ) TextLoggerHook                     \n",
      " -------------------- \n",
      "2022-05-14 05:46:41,508 - mmdet - INFO - workflow: [('train', 1)], max: 30 epochs\n",
      "2022-05-14 05:46:41,511 - mmdet - INFO - Checkpoints will be saved to /content/mmdetection/working/yolof by HardDiskBackend.\n"
     ]
    },
    {
     "name": "stdout",
     "output_type": "stream",
     "text": [
      "loading annotations into memory...\n",
      "Done (t=0.00s)\n",
      "creating index...\n",
      "index created!\n"
     ]
    },
    {
     "name": "stderr",
     "output_type": "stream",
     "text": [
      "2022-05-14 05:47:07,395 - mmdet - INFO - Epoch [1][100/1352]\tlr: 4.970e-04, eta: 2:53:47, time: 0.258, data_time: 0.030, memory: 4029, loss_rpn_cls: 0.0789, loss_rpn_bbox: 0.1132, loss_cls: 0.2097, acc: 94.3018, loss_bbox: 0.1524, loss: 0.5542\n",
      "2022-05-14 05:47:31,167 - mmdet - INFO - Epoch [1][200/1352]\tlr: 9.965e-04, eta: 2:46:37, time: 0.238, data_time: 0.009, memory: 4029, loss_rpn_cls: 0.0294, loss_rpn_bbox: 0.0438, loss_cls: 0.1300, acc: 96.5547, loss_bbox: 0.1322, loss: 0.3354\n",
      "2022-05-14 05:47:54,699 - mmdet - INFO - Epoch [1][300/1352]\tlr: 1.496e-03, eta: 2:43:26, time: 0.235, data_time: 0.008, memory: 4029, loss_rpn_cls: 0.0283, loss_rpn_bbox: 0.0306, loss_cls: 0.1023, acc: 97.2305, loss_bbox: 0.1053, loss: 0.2665\n",
      "2022-05-14 05:48:18,912 - mmdet - INFO - Epoch [1][400/1352]\tlr: 1.996e-03, eta: 2:42:46, time: 0.242, data_time: 0.010, memory: 4029, loss_rpn_cls: 0.0245, loss_rpn_bbox: 0.0256, loss_cls: 0.0954, acc: 97.3564, loss_bbox: 0.0959, loss: 0.2414\n",
      "2022-05-14 05:48:42,616 - mmdet - INFO - Epoch [1][500/1352]\tlr: 2.495e-03, eta: 2:41:32, time: 0.237, data_time: 0.009, memory: 4029, loss_rpn_cls: 0.0253, loss_rpn_bbox: 0.0214, loss_cls: 0.0901, acc: 97.4092, loss_bbox: 0.0887, loss: 0.2255\n",
      "2022-05-14 05:49:06,374 - mmdet - INFO - Epoch [1][600/1352]\tlr: 2.500e-03, eta: 2:40:39, time: 0.238, data_time: 0.009, memory: 4029, loss_rpn_cls: 0.0249, loss_rpn_bbox: 0.0219, loss_cls: 0.0923, acc: 97.3818, loss_bbox: 0.0847, loss: 0.2238\n",
      "2022-05-14 05:49:29,740 - mmdet - INFO - Epoch [1][700/1352]\tlr: 2.500e-03, eta: 2:39:33, time: 0.234, data_time: 0.009, memory: 4029, loss_rpn_cls: 0.0240, loss_rpn_bbox: 0.0209, loss_cls: 0.1010, acc: 97.0078, loss_bbox: 0.0913, loss: 0.2372\n",
      "2022-05-14 05:49:53,695 - mmdet - INFO - Epoch [1][800/1352]\tlr: 2.500e-03, eta: 2:39:06, time: 0.240, data_time: 0.009, memory: 4029, loss_rpn_cls: 0.0245, loss_rpn_bbox: 0.0210, loss_cls: 0.1001, acc: 97.0254, loss_bbox: 0.0865, loss: 0.2322\n",
      "2022-05-14 05:50:17,857 - mmdet - INFO - Epoch [1][900/1352]\tlr: 2.500e-03, eta: 2:38:48, time: 0.241, data_time: 0.009, memory: 4029, loss_rpn_cls: 0.0236, loss_rpn_bbox: 0.0216, loss_cls: 0.1004, acc: 97.0303, loss_bbox: 0.0799, loss: 0.2254\n",
      "2022-05-14 05:50:41,376 - mmdet - INFO - Epoch [1][1000/1352]\tlr: 2.500e-03, eta: 2:38:04, time: 0.235, data_time: 0.008, memory: 4029, loss_rpn_cls: 0.0228, loss_rpn_bbox: 0.0194, loss_cls: 0.0967, acc: 97.1172, loss_bbox: 0.0791, loss: 0.2181\n",
      "2022-05-14 05:51:05,564 - mmdet - INFO - Epoch [1][1100/1352]\tlr: 2.500e-03, eta: 2:37:47, time: 0.242, data_time: 0.009, memory: 4029, loss_rpn_cls: 0.0231, loss_rpn_bbox: 0.0217, loss_cls: 0.1022, acc: 96.8789, loss_bbox: 0.0801, loss: 0.2270\n",
      "2022-05-14 05:51:29,441 - mmdet - INFO - Epoch [1][1200/1352]\tlr: 2.500e-03, eta: 2:37:19, time: 0.239, data_time: 0.009, memory: 4029, loss_rpn_cls: 0.0222, loss_rpn_bbox: 0.0216, loss_cls: 0.1030, acc: 96.8496, loss_bbox: 0.0840, loss: 0.2308\n",
      "2022-05-14 05:51:53,446 - mmdet - INFO - Epoch [1][1300/1352]\tlr: 2.500e-03, eta: 2:36:57, time: 0.240, data_time: 0.009, memory: 4029, loss_rpn_cls: 0.0224, loss_rpn_bbox: 0.0220, loss_cls: 0.0909, acc: 97.1768, loss_bbox: 0.0717, loss: 0.2070\n",
      "2022-05-14 05:52:05,757 - mmdet - INFO - Saving checkpoint at 1 epochs\n"
     ]
    },
    {
     "name": "stdout",
     "output_type": "stream",
     "text": [
      "[>>>>>>>>>>>>>>>>>>>>>>>>>>>>>] 298/298, 14.4 task/s, elapsed: 21s, ETA:     0s"
     ]
    },
    {
     "name": "stderr",
     "output_type": "stream",
     "text": [
      "2022-05-14 05:52:28,695 - mmdet - INFO - Evaluating bbox...\n"
     ]
    },
    {
     "name": "stdout",
     "output_type": "stream",
     "text": [
      "Loading and preparing results...\n",
      "DONE (t=0.01s)\n",
      "creating index...\n",
      "index created!\n",
      "Running per image evaluation...\n",
      "Evaluate annotation type *bbox*\n",
      "DONE (t=1.10s).\n",
      "Accumulating evaluation results...\n"
     ]
    },
    {
     "name": "stderr",
     "output_type": "stream",
     "text": [
      "2022-05-14 05:52:30,139 - mmdet - INFO - \n",
      " Average Precision  (AP) @[ IoU=0.50:0.95 | area=   all | maxDets=100 ] = 0.221\n",
      " Average Precision  (AP) @[ IoU=0.50      | area=   all | maxDets=1000 ] = 0.391\n",
      " Average Precision  (AP) @[ IoU=0.75      | area=   all | maxDets=1000 ] = 0.205\n",
      " Average Precision  (AP) @[ IoU=0.50:0.95 | area= small | maxDets=1000 ] = -1.000\n",
      " Average Precision  (AP) @[ IoU=0.50:0.95 | area=medium | maxDets=1000 ] = -1.000\n",
      " Average Precision  (AP) @[ IoU=0.50:0.95 | area= large | maxDets=1000 ] = 0.221\n",
      " Average Recall     (AR) @[ IoU=0.50:0.95 | area=   all | maxDets=100 ] = 0.645\n",
      " Average Recall     (AR) @[ IoU=0.50:0.95 | area=   all | maxDets=300 ] = 0.645\n",
      " Average Recall     (AR) @[ IoU=0.50:0.95 | area=   all | maxDets=1000 ] = 0.645\n",
      " Average Recall     (AR) @[ IoU=0.50:0.95 | area= small | maxDets=1000 ] = -1.000\n",
      " Average Recall     (AR) @[ IoU=0.50:0.95 | area=medium | maxDets=1000 ] = -1.000\n",
      " Average Recall     (AR) @[ IoU=0.50:0.95 | area= large | maxDets=1000 ] = 0.645\n",
      "\n",
      "2022-05-14 05:52:30,163 - mmdet - INFO - Epoch(val) [1][298]\tbbox_mAP: 0.2210, bbox_mAP_50: 0.3910, bbox_mAP_75: 0.2050, bbox_mAP_s: -1.0000, bbox_mAP_m: -1.0000, bbox_mAP_l: 0.2210, bbox_mAP_copypaste: 0.221 0.391 0.205 -1.000 -1.000 0.221\n"
     ]
    },
    {
     "name": "stdout",
     "output_type": "stream",
     "text": [
      "DONE (t=0.30s).\n"
     ]
    },
    {
     "name": "stderr",
     "output_type": "stream",
     "text": [
      "2022-05-14 05:52:56,366 - mmdet - INFO - Epoch [2][100/1352]\tlr: 2.500e-03, eta: 2:31:41, time: 0.261, data_time: 0.030, memory: 4029, loss_rpn_cls: 0.0221, loss_rpn_bbox: 0.0183, loss_cls: 0.1012, acc: 96.7910, loss_bbox: 0.0746, loss: 0.2162\n",
      "2022-05-14 05:53:20,033 - mmdet - INFO - Epoch [2][200/1352]\tlr: 2.500e-03, eta: 2:31:27, time: 0.237, data_time: 0.009, memory: 4029, loss_rpn_cls: 0.0206, loss_rpn_bbox: 0.0196, loss_cls: 0.0997, acc: 96.8662, loss_bbox: 0.0733, loss: 0.2132\n",
      "2022-05-14 05:53:44,107 - mmdet - INFO - Epoch [2][300/1352]\tlr: 2.500e-03, eta: 2:31:22, time: 0.241, data_time: 0.008, memory: 4029, loss_rpn_cls: 0.0197, loss_rpn_bbox: 0.0205, loss_cls: 0.0854, acc: 97.3076, loss_bbox: 0.0676, loss: 0.1931\n",
      "2022-05-14 05:54:08,099 - mmdet - INFO - Epoch [2][400/1352]\tlr: 2.500e-03, eta: 2:31:13, time: 0.240, data_time: 0.009, memory: 4029, loss_rpn_cls: 0.0203, loss_rpn_bbox: 0.0188, loss_cls: 0.0879, acc: 97.1992, loss_bbox: 0.0653, loss: 0.1923\n",
      "2022-05-14 05:54:32,128 - mmdet - INFO - Epoch [2][500/1352]\tlr: 2.500e-03, eta: 2:31:03, time: 0.240, data_time: 0.009, memory: 4029, loss_rpn_cls: 0.0202, loss_rpn_bbox: 0.0182, loss_cls: 0.0895, acc: 97.1738, loss_bbox: 0.0642, loss: 0.1921\n",
      "2022-05-14 05:54:56,215 - mmdet - INFO - Epoch [2][600/1352]\tlr: 2.500e-03, eta: 2:30:53, time: 0.241, data_time: 0.009, memory: 4029, loss_rpn_cls: 0.0207, loss_rpn_bbox: 0.0186, loss_cls: 0.0843, acc: 97.2744, loss_bbox: 0.0653, loss: 0.1888\n",
      "2022-05-14 05:55:19,941 - mmdet - INFO - Epoch [2][700/1352]\tlr: 2.500e-03, eta: 2:30:35, time: 0.237, data_time: 0.009, memory: 4029, loss_rpn_cls: 0.0203, loss_rpn_bbox: 0.0170, loss_cls: 0.0852, acc: 97.2861, loss_bbox: 0.0620, loss: 0.1846\n",
      "2022-05-14 05:55:43,780 - mmdet - INFO - Epoch [2][800/1352]\tlr: 2.500e-03, eta: 2:30:19, time: 0.238, data_time: 0.008, memory: 4029, loss_rpn_cls: 0.0196, loss_rpn_bbox: 0.0188, loss_cls: 0.0852, acc: 97.2451, loss_bbox: 0.0586, loss: 0.1822\n",
      "2022-05-14 05:56:07,978 - mmdet - INFO - Epoch [2][900/1352]\tlr: 2.500e-03, eta: 2:30:07, time: 0.242, data_time: 0.009, memory: 4029, loss_rpn_cls: 0.0209, loss_rpn_bbox: 0.0203, loss_cls: 0.0779, acc: 97.4883, loss_bbox: 0.0592, loss: 0.1782\n",
      "2022-05-14 05:56:31,793 - mmdet - INFO - Epoch [2][1000/1352]\tlr: 2.500e-03, eta: 2:29:49, time: 0.238, data_time: 0.008, memory: 4029, loss_rpn_cls: 0.0172, loss_rpn_bbox: 0.0174, loss_cls: 0.0787, acc: 97.4482, loss_bbox: 0.0623, loss: 0.1756\n",
      "2022-05-14 05:56:56,131 - mmdet - INFO - Epoch [2][1100/1352]\tlr: 2.500e-03, eta: 2:29:37, time: 0.243, data_time: 0.009, memory: 4029, loss_rpn_cls: 0.0190, loss_rpn_bbox: 0.0203, loss_cls: 0.0852, acc: 97.2559, loss_bbox: 0.0608, loss: 0.1854\n",
      "2022-05-14 05:57:20,094 - mmdet - INFO - Epoch [2][1200/1352]\tlr: 2.500e-03, eta: 2:29:20, time: 0.240, data_time: 0.009, memory: 4029, loss_rpn_cls: 0.0174, loss_rpn_bbox: 0.0196, loss_cls: 0.0842, acc: 97.3223, loss_bbox: 0.0602, loss: 0.1813\n",
      "2022-05-14 05:57:44,151 - mmdet - INFO - Epoch [2][1300/1352]\tlr: 2.500e-03, eta: 2:29:03, time: 0.241, data_time: 0.009, memory: 4029, loss_rpn_cls: 0.0174, loss_rpn_bbox: 0.0203, loss_cls: 0.0792, acc: 97.4199, loss_bbox: 0.0581, loss: 0.1751\n",
      "2022-05-14 05:57:56,513 - mmdet - INFO - Saving checkpoint at 2 epochs\n"
     ]
    },
    {
     "name": "stdout",
     "output_type": "stream",
     "text": [
      "[>>>>>>>>>>>>>>>>>>>>>>>>>>>>>] 298/298, 14.5 task/s, elapsed: 20s, ETA:     0s"
     ]
    },
    {
     "name": "stderr",
     "output_type": "stream",
     "text": [
      "2022-05-14 05:58:18,568 - mmdet - INFO - Evaluating bbox...\n"
     ]
    },
    {
     "name": "stdout",
     "output_type": "stream",
     "text": [
      "Loading and preparing results...\n",
      "DONE (t=0.00s)\n",
      "creating index...\n",
      "index created!\n",
      "Running per image evaluation...\n",
      "Evaluate annotation type *bbox*\n",
      "DONE (t=0.71s).\n",
      "Accumulating evaluation results...\n"
     ]
    },
    {
     "name": "stderr",
     "output_type": "stream",
     "text": [
      "2022-05-14 05:58:19,531 - mmdet - INFO - \n",
      " Average Precision  (AP) @[ IoU=0.50:0.95 | area=   all | maxDets=100 ] = 0.495\n",
      " Average Precision  (AP) @[ IoU=0.50      | area=   all | maxDets=1000 ] = 0.666\n",
      " Average Precision  (AP) @[ IoU=0.75      | area=   all | maxDets=1000 ] = 0.535\n",
      " Average Precision  (AP) @[ IoU=0.50:0.95 | area= small | maxDets=1000 ] = -1.000\n",
      " Average Precision  (AP) @[ IoU=0.50:0.95 | area=medium | maxDets=1000 ] = -1.000\n",
      " Average Precision  (AP) @[ IoU=0.50:0.95 | area= large | maxDets=1000 ] = 0.495\n",
      " Average Recall     (AR) @[ IoU=0.50:0.95 | area=   all | maxDets=100 ] = 0.801\n",
      " Average Recall     (AR) @[ IoU=0.50:0.95 | area=   all | maxDets=300 ] = 0.801\n",
      " Average Recall     (AR) @[ IoU=0.50:0.95 | area=   all | maxDets=1000 ] = 0.801\n",
      " Average Recall     (AR) @[ IoU=0.50:0.95 | area= small | maxDets=1000 ] = -1.000\n",
      " Average Recall     (AR) @[ IoU=0.50:0.95 | area=medium | maxDets=1000 ] = -1.000\n",
      " Average Recall     (AR) @[ IoU=0.50:0.95 | area= large | maxDets=1000 ] = 0.801\n",
      "\n",
      "2022-05-14 05:58:19,546 - mmdet - INFO - Epoch(val) [2][298]\tbbox_mAP: 0.4950, bbox_mAP_50: 0.6660, bbox_mAP_75: 0.5350, bbox_mAP_s: -1.0000, bbox_mAP_m: -1.0000, bbox_mAP_l: 0.4950, bbox_mAP_copypaste: 0.495 0.666 0.535 -1.000 -1.000 0.495\n"
     ]
    },
    {
     "name": "stdout",
     "output_type": "stream",
     "text": [
      "DONE (t=0.22s).\n"
     ]
    },
    {
     "name": "stderr",
     "output_type": "stream",
     "text": [
      "2022-05-14 05:58:45,654 - mmdet - INFO - Epoch [3][100/1352]\tlr: 2.500e-03, eta: 2:26:14, time: 0.260, data_time: 0.029, memory: 4029, loss_rpn_cls: 0.0164, loss_rpn_bbox: 0.0176, loss_cls: 0.0736, acc: 97.5732, loss_bbox: 0.0596, loss: 0.1672\n",
      "2022-05-14 05:59:09,305 - mmdet - INFO - Epoch [3][200/1352]\tlr: 2.500e-03, eta: 2:25:57, time: 0.237, data_time: 0.008, memory: 4029, loss_rpn_cls: 0.0162, loss_rpn_bbox: 0.0180, loss_cls: 0.0781, acc: 97.3721, loss_bbox: 0.0596, loss: 0.1720\n",
      "2022-05-14 05:59:33,179 - mmdet - INFO - Epoch [3][300/1352]\tlr: 2.500e-03, eta: 2:25:41, time: 0.239, data_time: 0.009, memory: 4029, loss_rpn_cls: 0.0149, loss_rpn_bbox: 0.0185, loss_cls: 0.0830, acc: 97.3301, loss_bbox: 0.0602, loss: 0.1766\n",
      "2022-05-14 05:59:57,148 - mmdet - INFO - Epoch [3][400/1352]\tlr: 2.500e-03, eta: 2:25:26, time: 0.240, data_time: 0.009, memory: 4029, loss_rpn_cls: 0.0166, loss_rpn_bbox: 0.0192, loss_cls: 0.0806, acc: 97.4551, loss_bbox: 0.0571, loss: 0.1734\n",
      "2022-05-14 06:00:21,036 - mmdet - INFO - Epoch [3][500/1352]\tlr: 2.500e-03, eta: 2:25:10, time: 0.239, data_time: 0.009, memory: 4029, loss_rpn_cls: 0.0151, loss_rpn_bbox: 0.0193, loss_cls: 0.0722, acc: 97.6426, loss_bbox: 0.0569, loss: 0.1634\n",
      "2022-05-14 06:00:45,022 - mmdet - INFO - Epoch [3][600/1352]\tlr: 2.500e-03, eta: 2:24:54, time: 0.240, data_time: 0.009, memory: 4029, loss_rpn_cls: 0.0145, loss_rpn_bbox: 0.0180, loss_cls: 0.0683, acc: 97.6143, loss_bbox: 0.0568, loss: 0.1575\n",
      "2022-05-14 06:01:08,700 - mmdet - INFO - Epoch [3][700/1352]\tlr: 2.500e-03, eta: 2:24:34, time: 0.237, data_time: 0.008, memory: 4029, loss_rpn_cls: 0.0126, loss_rpn_bbox: 0.0159, loss_cls: 0.0665, acc: 97.7520, loss_bbox: 0.0571, loss: 0.1520\n",
      "2022-05-14 06:01:32,480 - mmdet - INFO - Epoch [3][800/1352]\tlr: 2.500e-03, eta: 2:24:16, time: 0.238, data_time: 0.008, memory: 4029, loss_rpn_cls: 0.0139, loss_rpn_bbox: 0.0183, loss_cls: 0.0715, acc: 97.6377, loss_bbox: 0.0575, loss: 0.1612\n",
      "2022-05-14 06:01:56,476 - mmdet - INFO - Epoch [3][900/1352]\tlr: 2.500e-03, eta: 2:23:59, time: 0.240, data_time: 0.008, memory: 4029, loss_rpn_cls: 0.0137, loss_rpn_bbox: 0.0206, loss_cls: 0.0693, acc: 97.6338, loss_bbox: 0.0549, loss: 0.1586\n",
      "2022-05-14 06:02:20,078 - mmdet - INFO - Epoch [3][1000/1352]\tlr: 2.500e-03, eta: 2:23:38, time: 0.236, data_time: 0.008, memory: 4029, loss_rpn_cls: 0.0126, loss_rpn_bbox: 0.0176, loss_cls: 0.0666, acc: 97.7354, loss_bbox: 0.0562, loss: 0.1531\n",
      "2022-05-14 06:02:44,221 - mmdet - INFO - Epoch [3][1100/1352]\tlr: 2.500e-03, eta: 2:23:21, time: 0.241, data_time: 0.008, memory: 4029, loss_rpn_cls: 0.0138, loss_rpn_bbox: 0.0222, loss_cls: 0.0702, acc: 97.6826, loss_bbox: 0.0594, loss: 0.1656\n",
      "2022-05-14 06:03:08,101 - mmdet - INFO - Epoch [3][1200/1352]\tlr: 2.500e-03, eta: 2:23:03, time: 0.239, data_time: 0.009, memory: 4029, loss_rpn_cls: 0.0109, loss_rpn_bbox: 0.0195, loss_cls: 0.0720, acc: 97.6133, loss_bbox: 0.0567, loss: 0.1591\n",
      "2022-05-14 06:03:32,031 - mmdet - INFO - Epoch [3][1300/1352]\tlr: 2.500e-03, eta: 2:22:44, time: 0.240, data_time: 0.009, memory: 4029, loss_rpn_cls: 0.0121, loss_rpn_bbox: 0.0197, loss_cls: 0.0705, acc: 97.6143, loss_bbox: 0.0555, loss: 0.1578\n",
      "2022-05-14 06:03:44,323 - mmdet - INFO - Saving checkpoint at 3 epochs\n"
     ]
    },
    {
     "name": "stdout",
     "output_type": "stream",
     "text": [
      "[>>>>>>>>>>>>>>>>>>>>>>>>>>>>>] 298/298, 14.5 task/s, elapsed: 21s, ETA:     0s"
     ]
    },
    {
     "name": "stderr",
     "output_type": "stream",
     "text": [
      "2022-05-14 06:04:06,494 - mmdet - INFO - Evaluating bbox...\n"
     ]
    },
    {
     "name": "stdout",
     "output_type": "stream",
     "text": [
      "Loading and preparing results...\n",
      "DONE (t=0.00s)\n",
      "creating index...\n",
      "index created!\n",
      "Running per image evaluation...\n",
      "Evaluate annotation type *bbox*\n",
      "DONE (t=0.66s).\n",
      "Accumulating evaluation results...\n"
     ]
    },
    {
     "name": "stderr",
     "output_type": "stream",
     "text": [
      "2022-05-14 06:04:07,518 - mmdet - INFO - \n",
      " Average Precision  (AP) @[ IoU=0.50:0.95 | area=   all | maxDets=100 ] = 0.603\n",
      " Average Precision  (AP) @[ IoU=0.50      | area=   all | maxDets=1000 ] = 0.777\n",
      " Average Precision  (AP) @[ IoU=0.75      | area=   all | maxDets=1000 ] = 0.671\n",
      " Average Precision  (AP) @[ IoU=0.50:0.95 | area= small | maxDets=1000 ] = -1.000\n",
      " Average Precision  (AP) @[ IoU=0.50:0.95 | area=medium | maxDets=1000 ] = -1.000\n",
      " Average Precision  (AP) @[ IoU=0.50:0.95 | area= large | maxDets=1000 ] = 0.603\n",
      " Average Recall     (AR) @[ IoU=0.50:0.95 | area=   all | maxDets=100 ] = 0.821\n",
      " Average Recall     (AR) @[ IoU=0.50:0.95 | area=   all | maxDets=300 ] = 0.821\n",
      " Average Recall     (AR) @[ IoU=0.50:0.95 | area=   all | maxDets=1000 ] = 0.821\n",
      " Average Recall     (AR) @[ IoU=0.50:0.95 | area= small | maxDets=1000 ] = -1.000\n",
      " Average Recall     (AR) @[ IoU=0.50:0.95 | area=medium | maxDets=1000 ] = -1.000\n",
      " Average Recall     (AR) @[ IoU=0.50:0.95 | area= large | maxDets=1000 ] = 0.821\n",
      "\n",
      "2022-05-14 06:04:07,533 - mmdet - INFO - Epoch(val) [3][298]\tbbox_mAP: 0.6030, bbox_mAP_50: 0.7770, bbox_mAP_75: 0.6710, bbox_mAP_s: -1.0000, bbox_mAP_m: -1.0000, bbox_mAP_l: 0.6030, bbox_mAP_copypaste: 0.603 0.777 0.671 -1.000 -1.000 0.603\n"
     ]
    },
    {
     "name": "stdout",
     "output_type": "stream",
     "text": [
      "DONE (t=0.22s).\n"
     ]
    },
    {
     "name": "stderr",
     "output_type": "stream",
     "text": [
      "2022-05-14 06:04:33,687 - mmdet - INFO - Epoch [4][100/1352]\tlr: 2.500e-03, eta: 2:20:44, time: 0.260, data_time: 0.030, memory: 4029, loss_rpn_cls: 0.0114, loss_rpn_bbox: 0.0183, loss_cls: 0.0632, acc: 97.9023, loss_bbox: 0.0548, loss: 0.1477\n",
      "2022-05-14 06:04:57,267 - mmdet - INFO - Epoch [4][200/1352]\tlr: 2.500e-03, eta: 2:20:25, time: 0.236, data_time: 0.009, memory: 4029, loss_rpn_cls: 0.0113, loss_rpn_bbox: 0.0196, loss_cls: 0.0634, acc: 97.8975, loss_bbox: 0.0559, loss: 0.1502\n",
      "2022-05-14 06:05:21,002 - mmdet - INFO - Epoch [4][300/1352]\tlr: 2.500e-03, eta: 2:20:06, time: 0.237, data_time: 0.008, memory: 4029, loss_rpn_cls: 0.0111, loss_rpn_bbox: 0.0175, loss_cls: 0.0681, acc: 97.7314, loss_bbox: 0.0552, loss: 0.1519\n",
      "2022-05-14 06:05:44,901 - mmdet - INFO - Epoch [4][400/1352]\tlr: 2.500e-03, eta: 2:19:48, time: 0.239, data_time: 0.008, memory: 4029, loss_rpn_cls: 0.0107, loss_rpn_bbox: 0.0186, loss_cls: 0.0600, acc: 97.9219, loss_bbox: 0.0512, loss: 0.1405\n",
      "2022-05-14 06:06:08,811 - mmdet - INFO - Epoch [4][500/1352]\tlr: 2.500e-03, eta: 2:19:30, time: 0.239, data_time: 0.009, memory: 4029, loss_rpn_cls: 0.0099, loss_rpn_bbox: 0.0174, loss_cls: 0.0629, acc: 97.8184, loss_bbox: 0.0526, loss: 0.1428\n",
      "2022-05-14 06:06:32,839 - mmdet - INFO - Epoch [4][600/1352]\tlr: 2.500e-03, eta: 2:19:13, time: 0.240, data_time: 0.008, memory: 4029, loss_rpn_cls: 0.0101, loss_rpn_bbox: 0.0184, loss_cls: 0.0598, acc: 97.9316, loss_bbox: 0.0534, loss: 0.1417\n",
      "2022-05-14 06:06:56,601 - mmdet - INFO - Epoch [4][700/1352]\tlr: 2.500e-03, eta: 2:18:53, time: 0.238, data_time: 0.008, memory: 4029, loss_rpn_cls: 0.0087, loss_rpn_bbox: 0.0169, loss_cls: 0.0607, acc: 97.8672, loss_bbox: 0.0511, loss: 0.1374\n",
      "2022-05-14 06:07:20,534 - mmdet - INFO - Epoch [4][800/1352]\tlr: 2.500e-03, eta: 2:18:35, time: 0.239, data_time: 0.008, memory: 4029, loss_rpn_cls: 0.0092, loss_rpn_bbox: 0.0182, loss_cls: 0.0611, acc: 97.8398, loss_bbox: 0.0506, loss: 0.1392\n",
      "2022-05-14 06:07:44,647 - mmdet - INFO - Epoch [4][900/1352]\tlr: 2.500e-03, eta: 2:18:18, time: 0.241, data_time: 0.008, memory: 4029, loss_rpn_cls: 0.0087, loss_rpn_bbox: 0.0192, loss_cls: 0.0562, acc: 98.0723, loss_bbox: 0.0519, loss: 0.1360\n",
      "2022-05-14 06:08:08,344 - mmdet - INFO - Epoch [4][1000/1352]\tlr: 2.500e-03, eta: 2:17:57, time: 0.237, data_time: 0.008, memory: 4029, loss_rpn_cls: 0.0085, loss_rpn_bbox: 0.0173, loss_cls: 0.0509, acc: 98.2783, loss_bbox: 0.0479, loss: 0.1247\n",
      "2022-05-14 06:08:32,672 - mmdet - INFO - Epoch [4][1100/1352]\tlr: 2.500e-03, eta: 2:17:40, time: 0.243, data_time: 0.008, memory: 4029, loss_rpn_cls: 0.0086, loss_rpn_bbox: 0.0190, loss_cls: 0.0626, acc: 97.8379, loss_bbox: 0.0509, loss: 0.1411\n",
      "2022-05-14 06:08:56,686 - mmdet - INFO - Epoch [4][1200/1352]\tlr: 2.500e-03, eta: 2:17:22, time: 0.240, data_time: 0.008, memory: 4029, loss_rpn_cls: 0.0085, loss_rpn_bbox: 0.0185, loss_cls: 0.0577, acc: 98.0332, loss_bbox: 0.0481, loss: 0.1328\n",
      "2022-05-14 06:09:20,780 - mmdet - INFO - Epoch [4][1300/1352]\tlr: 2.500e-03, eta: 2:17:03, time: 0.241, data_time: 0.009, memory: 4029, loss_rpn_cls: 0.0086, loss_rpn_bbox: 0.0193, loss_cls: 0.0596, acc: 97.9453, loss_bbox: 0.0491, loss: 0.1365\n",
      "2022-05-14 06:09:33,159 - mmdet - INFO - Saving checkpoint at 4 epochs\n"
     ]
    },
    {
     "name": "stdout",
     "output_type": "stream",
     "text": [
      "[>>>>>>>>>>>>>>>>>>>>>>>>>>>>>] 298/298, 14.2 task/s, elapsed: 21s, ETA:     0s"
     ]
    },
    {
     "name": "stderr",
     "output_type": "stream",
     "text": [
      "2022-05-14 06:09:56,051 - mmdet - INFO - Evaluating bbox...\n"
     ]
    },
    {
     "name": "stdout",
     "output_type": "stream",
     "text": [
      "Loading and preparing results...\n",
      "DONE (t=0.00s)\n",
      "creating index...\n",
      "index created!\n",
      "Running per image evaluation...\n",
      "Evaluate annotation type *bbox*\n"
     ]
    },
    {
     "name": "stderr",
     "output_type": "stream",
     "text": [
      "2022-05-14 06:09:56,903 - mmdet - INFO - \n",
      " Average Precision  (AP) @[ IoU=0.50:0.95 | area=   all | maxDets=100 ] = 0.703\n",
      " Average Precision  (AP) @[ IoU=0.50      | area=   all | maxDets=1000 ] = 0.836\n",
      " Average Precision  (AP) @[ IoU=0.75      | area=   all | maxDets=1000 ] = 0.803\n",
      " Average Precision  (AP) @[ IoU=0.50:0.95 | area= small | maxDets=1000 ] = -1.000\n",
      " Average Precision  (AP) @[ IoU=0.50:0.95 | area=medium | maxDets=1000 ] = -1.000\n",
      " Average Precision  (AP) @[ IoU=0.50:0.95 | area= large | maxDets=1000 ] = 0.703\n",
      " Average Recall     (AR) @[ IoU=0.50:0.95 | area=   all | maxDets=100 ] = 0.873\n",
      " Average Recall     (AR) @[ IoU=0.50:0.95 | area=   all | maxDets=300 ] = 0.873\n",
      " Average Recall     (AR) @[ IoU=0.50:0.95 | area=   all | maxDets=1000 ] = 0.873\n",
      " Average Recall     (AR) @[ IoU=0.50:0.95 | area= small | maxDets=1000 ] = -1.000\n",
      " Average Recall     (AR) @[ IoU=0.50:0.95 | area=medium | maxDets=1000 ] = -1.000\n",
      " Average Recall     (AR) @[ IoU=0.50:0.95 | area= large | maxDets=1000 ] = 0.873\n",
      "\n",
      "2022-05-14 06:09:56,917 - mmdet - INFO - Epoch(val) [4][298]\tbbox_mAP: 0.7030, bbox_mAP_50: 0.8360, bbox_mAP_75: 0.8030, bbox_mAP_s: -1.0000, bbox_mAP_m: -1.0000, bbox_mAP_l: 0.7030, bbox_mAP_copypaste: 0.703 0.836 0.803 -1.000 -1.000 0.703\n"
     ]
    },
    {
     "name": "stdout",
     "output_type": "stream",
     "text": [
      "DONE (t=0.66s).\n",
      "Accumulating evaluation results...\n",
      "DONE (t=0.17s).\n"
     ]
    },
    {
     "name": "stderr",
     "output_type": "stream",
     "text": [
      "2022-05-14 06:10:23,177 - mmdet - INFO - Epoch [5][100/1352]\tlr: 2.500e-03, eta: 2:15:28, time: 0.261, data_time: 0.030, memory: 4029, loss_rpn_cls: 0.0072, loss_rpn_bbox: 0.0168, loss_cls: 0.0514, acc: 98.2441, loss_bbox: 0.0516, loss: 0.1270\n",
      "2022-05-14 06:10:46,840 - mmdet - INFO - Epoch [5][200/1352]\tlr: 2.500e-03, eta: 2:15:08, time: 0.237, data_time: 0.008, memory: 4029, loss_rpn_cls: 0.0073, loss_rpn_bbox: 0.0157, loss_cls: 0.0523, acc: 98.1318, loss_bbox: 0.0491, loss: 0.1245\n",
      "2022-05-14 06:11:10,911 - mmdet - INFO - Epoch [5][300/1352]\tlr: 2.500e-03, eta: 2:14:50, time: 0.241, data_time: 0.008, memory: 4029, loss_rpn_cls: 0.0077, loss_rpn_bbox: 0.0182, loss_cls: 0.0539, acc: 98.1162, loss_bbox: 0.0483, loss: 0.1280\n",
      "2022-05-14 06:11:34,909 - mmdet - INFO - Epoch [5][400/1352]\tlr: 2.500e-03, eta: 2:14:32, time: 0.240, data_time: 0.008, memory: 4029, loss_rpn_cls: 0.0079, loss_rpn_bbox: 0.0201, loss_cls: 0.0493, acc: 98.4229, loss_bbox: 0.0486, loss: 0.1259\n",
      "2022-05-14 06:11:59,006 - mmdet - INFO - Epoch [5][500/1352]\tlr: 2.500e-03, eta: 2:14:14, time: 0.241, data_time: 0.009, memory: 4029, loss_rpn_cls: 0.0072, loss_rpn_bbox: 0.0157, loss_cls: 0.0537, acc: 98.1123, loss_bbox: 0.0470, loss: 0.1236\n",
      "2022-05-14 06:12:23,201 - mmdet - INFO - Epoch [5][600/1352]\tlr: 2.500e-03, eta: 2:13:56, time: 0.242, data_time: 0.008, memory: 4029, loss_rpn_cls: 0.0073, loss_rpn_bbox: 0.0170, loss_cls: 0.0492, acc: 98.2568, loss_bbox: 0.0432, loss: 0.1166\n",
      "2022-05-14 06:12:47,153 - mmdet - INFO - Epoch [5][700/1352]\tlr: 2.500e-03, eta: 2:13:36, time: 0.240, data_time: 0.008, memory: 4029, loss_rpn_cls: 0.0059, loss_rpn_bbox: 0.0160, loss_cls: 0.0444, acc: 98.4502, loss_bbox: 0.0457, loss: 0.1120\n",
      "2022-05-14 06:13:11,159 - mmdet - INFO - Epoch [5][800/1352]\tlr: 2.500e-03, eta: 2:13:17, time: 0.240, data_time: 0.008, memory: 4029, loss_rpn_cls: 0.0063, loss_rpn_bbox: 0.0163, loss_cls: 0.0465, acc: 98.3594, loss_bbox: 0.0449, loss: 0.1139\n",
      "2022-05-14 06:13:35,439 - mmdet - INFO - Epoch [5][900/1352]\tlr: 2.500e-03, eta: 2:12:59, time: 0.243, data_time: 0.009, memory: 4029, loss_rpn_cls: 0.0068, loss_rpn_bbox: 0.0177, loss_cls: 0.0517, acc: 98.2217, loss_bbox: 0.0433, loss: 0.1195\n",
      "2022-05-14 06:13:59,300 - mmdet - INFO - Epoch [5][1000/1352]\tlr: 2.500e-03, eta: 2:12:39, time: 0.239, data_time: 0.008, memory: 4029, loss_rpn_cls: 0.0059, loss_rpn_bbox: 0.0157, loss_cls: 0.0458, acc: 98.4209, loss_bbox: 0.0414, loss: 0.1088\n",
      "2022-05-14 06:14:23,747 - mmdet - INFO - Epoch [5][1100/1352]\tlr: 2.500e-03, eta: 2:12:22, time: 0.244, data_time: 0.009, memory: 4029, loss_rpn_cls: 0.0070, loss_rpn_bbox: 0.0191, loss_cls: 0.0456, acc: 98.3994, loss_bbox: 0.0443, loss: 0.1160\n",
      "2022-05-14 06:14:47,935 - mmdet - INFO - Epoch [5][1200/1352]\tlr: 2.500e-03, eta: 2:12:03, time: 0.242, data_time: 0.009, memory: 4029, loss_rpn_cls: 0.0070, loss_rpn_bbox: 0.0182, loss_cls: 0.0452, acc: 98.4531, loss_bbox: 0.0433, loss: 0.1138\n",
      "2022-05-14 06:15:12,144 - mmdet - INFO - Epoch [5][1300/1352]\tlr: 2.500e-03, eta: 2:11:44, time: 0.242, data_time: 0.008, memory: 4029, loss_rpn_cls: 0.0061, loss_rpn_bbox: 0.0161, loss_cls: 0.0476, acc: 98.2910, loss_bbox: 0.0426, loss: 0.1124\n",
      "2022-05-14 06:15:24,586 - mmdet - INFO - Saving checkpoint at 5 epochs\n"
     ]
    },
    {
     "name": "stdout",
     "output_type": "stream",
     "text": [
      "[>>>>>>>>>>>>>>>>>>>>>>>>>>>>>] 298/298, 14.1 task/s, elapsed: 21s, ETA:     0s"
     ]
    },
    {
     "name": "stderr",
     "output_type": "stream",
     "text": [
      "2022-05-14 06:15:47,456 - mmdet - INFO - Evaluating bbox...\n"
     ]
    },
    {
     "name": "stdout",
     "output_type": "stream",
     "text": [
      "Loading and preparing results...\n",
      "DONE (t=0.00s)\n",
      "creating index...\n",
      "index created!\n",
      "Running per image evaluation...\n",
      "Evaluate annotation type *bbox*\n"
     ]
    },
    {
     "name": "stderr",
     "output_type": "stream",
     "text": [
      "2022-05-14 06:15:48,183 - mmdet - INFO - \n",
      " Average Precision  (AP) @[ IoU=0.50:0.95 | area=   all | maxDets=100 ] = 0.657\n",
      " Average Precision  (AP) @[ IoU=0.50      | area=   all | maxDets=1000 ] = 0.836\n",
      " Average Precision  (AP) @[ IoU=0.75      | area=   all | maxDets=1000 ] = 0.772\n",
      " Average Precision  (AP) @[ IoU=0.50:0.95 | area= small | maxDets=1000 ] = -1.000\n",
      " Average Precision  (AP) @[ IoU=0.50:0.95 | area=medium | maxDets=1000 ] = -1.000\n",
      " Average Precision  (AP) @[ IoU=0.50:0.95 | area= large | maxDets=1000 ] = 0.657\n",
      " Average Recall     (AR) @[ IoU=0.50:0.95 | area=   all | maxDets=100 ] = 0.819\n",
      " Average Recall     (AR) @[ IoU=0.50:0.95 | area=   all | maxDets=300 ] = 0.819\n",
      " Average Recall     (AR) @[ IoU=0.50:0.95 | area=   all | maxDets=1000 ] = 0.819\n",
      " Average Recall     (AR) @[ IoU=0.50:0.95 | area= small | maxDets=1000 ] = -1.000\n",
      " Average Recall     (AR) @[ IoU=0.50:0.95 | area=medium | maxDets=1000 ] = -1.000\n",
      " Average Recall     (AR) @[ IoU=0.50:0.95 | area= large | maxDets=1000 ] = 0.819\n",
      "\n",
      "2022-05-14 06:15:48,200 - mmdet - INFO - Epoch(val) [5][298]\tbbox_mAP: 0.6570, bbox_mAP_50: 0.8360, bbox_mAP_75: 0.7720, bbox_mAP_s: -1.0000, bbox_mAP_m: -1.0000, bbox_mAP_l: 0.6570, bbox_mAP_copypaste: 0.657 0.836 0.772 -1.000 -1.000 0.657\n"
     ]
    },
    {
     "name": "stdout",
     "output_type": "stream",
     "text": [
      "DONE (t=0.53s).\n",
      "Accumulating evaluation results...\n",
      "DONE (t=0.18s).\n"
     ]
    },
    {
     "name": "stderr",
     "output_type": "stream",
     "text": [
      "2022-05-14 06:16:14,633 - mmdet - INFO - Epoch [6][100/1352]\tlr: 2.500e-03, eta: 2:10:23, time: 0.263, data_time: 0.030, memory: 4029, loss_rpn_cls: 0.0084, loss_rpn_bbox: 0.0178, loss_cls: 0.0453, acc: 98.3564, loss_bbox: 0.0443, loss: 0.1158\n",
      "2022-05-14 06:16:38,483 - mmdet - INFO - Epoch [6][200/1352]\tlr: 2.500e-03, eta: 2:10:03, time: 0.239, data_time: 0.008, memory: 4029, loss_rpn_cls: 0.0066, loss_rpn_bbox: 0.0170, loss_cls: 0.0425, acc: 98.4932, loss_bbox: 0.0423, loss: 0.1083\n",
      "2022-05-14 06:17:02,620 - mmdet - INFO - Epoch [6][300/1352]\tlr: 2.500e-03, eta: 2:09:44, time: 0.241, data_time: 0.008, memory: 4029, loss_rpn_cls: 0.0070, loss_rpn_bbox: 0.0176, loss_cls: 0.0456, acc: 98.3916, loss_bbox: 0.0425, loss: 0.1127\n",
      "2022-05-14 06:17:26,669 - mmdet - INFO - Epoch [6][400/1352]\tlr: 2.500e-03, eta: 2:09:25, time: 0.240, data_time: 0.008, memory: 4029, loss_rpn_cls: 0.0071, loss_rpn_bbox: 0.0177, loss_cls: 0.0430, acc: 98.4502, loss_bbox: 0.0409, loss: 0.1086\n",
      "2022-05-14 06:17:50,763 - mmdet - INFO - Epoch [6][500/1352]\tlr: 2.500e-03, eta: 2:09:05, time: 0.241, data_time: 0.009, memory: 4029, loss_rpn_cls: 0.0054, loss_rpn_bbox: 0.0164, loss_cls: 0.0482, acc: 98.2510, loss_bbox: 0.0413, loss: 0.1112\n",
      "2022-05-14 06:18:14,936 - mmdet - INFO - Epoch [6][600/1352]\tlr: 2.500e-03, eta: 2:08:46, time: 0.242, data_time: 0.009, memory: 4029, loss_rpn_cls: 0.0060, loss_rpn_bbox: 0.0168, loss_cls: 0.0418, acc: 98.4971, loss_bbox: 0.0383, loss: 0.1030\n",
      "2022-05-14 06:18:38,671 - mmdet - INFO - Epoch [6][700/1352]\tlr: 2.500e-03, eta: 2:08:25, time: 0.237, data_time: 0.008, memory: 4029, loss_rpn_cls: 0.0050, loss_rpn_bbox: 0.0163, loss_cls: 0.0425, acc: 98.4951, loss_bbox: 0.0409, loss: 0.1047\n",
      "2022-05-14 06:19:02,694 - mmdet - INFO - Epoch [6][800/1352]\tlr: 2.500e-03, eta: 2:08:05, time: 0.240, data_time: 0.008, memory: 4029, loss_rpn_cls: 0.0057, loss_rpn_bbox: 0.0155, loss_cls: 0.0412, acc: 98.5059, loss_bbox: 0.0398, loss: 0.1022\n",
      "2022-05-14 06:19:26,926 - mmdet - INFO - Epoch [6][900/1352]\tlr: 2.500e-03, eta: 2:07:46, time: 0.242, data_time: 0.008, memory: 4029, loss_rpn_cls: 0.0066, loss_rpn_bbox: 0.0165, loss_cls: 0.0377, acc: 98.6982, loss_bbox: 0.0399, loss: 0.1007\n",
      "2022-05-14 06:19:50,674 - mmdet - INFO - Epoch [6][1000/1352]\tlr: 2.500e-03, eta: 2:07:24, time: 0.237, data_time: 0.008, memory: 4029, loss_rpn_cls: 0.0055, loss_rpn_bbox: 0.0166, loss_cls: 0.0392, acc: 98.5410, loss_bbox: 0.0401, loss: 0.1014\n",
      "2022-05-14 06:20:15,082 - mmdet - INFO - Epoch [6][1100/1352]\tlr: 2.500e-03, eta: 2:07:06, time: 0.244, data_time: 0.009, memory: 4029, loss_rpn_cls: 0.0060, loss_rpn_bbox: 0.0184, loss_cls: 0.0410, acc: 98.4795, loss_bbox: 0.0385, loss: 0.1038\n",
      "2022-05-14 06:20:39,119 - mmdet - INFO - Epoch [6][1200/1352]\tlr: 2.500e-03, eta: 2:06:45, time: 0.240, data_time: 0.009, memory: 4029, loss_rpn_cls: 0.0053, loss_rpn_bbox: 0.0172, loss_cls: 0.0430, acc: 98.5391, loss_bbox: 0.0392, loss: 0.1047\n",
      "2022-05-14 06:21:03,343 - mmdet - INFO - Epoch [6][1300/1352]\tlr: 2.500e-03, eta: 2:06:26, time: 0.242, data_time: 0.009, memory: 4029, loss_rpn_cls: 0.0051, loss_rpn_bbox: 0.0177, loss_cls: 0.0413, acc: 98.5713, loss_bbox: 0.0390, loss: 0.1030\n",
      "2022-05-14 06:21:15,812 - mmdet - INFO - Saving checkpoint at 6 epochs\n"
     ]
    },
    {
     "name": "stdout",
     "output_type": "stream",
     "text": [
      "[>>>>>>>>>>>>>>>>>>>>>>>>>>>>>] 298/298, 14.4 task/s, elapsed: 21s, ETA:     0s"
     ]
    },
    {
     "name": "stderr",
     "output_type": "stream",
     "text": [
      "2022-05-14 06:21:38,466 - mmdet - INFO - Evaluating bbox...\n"
     ]
    },
    {
     "name": "stdout",
     "output_type": "stream",
     "text": [
      "Loading and preparing results...\n",
      "DONE (t=0.00s)\n",
      "creating index...\n",
      "index created!\n",
      "Running per image evaluation...\n",
      "Evaluate annotation type *bbox*\n"
     ]
    },
    {
     "name": "stderr",
     "output_type": "stream",
     "text": [
      "2022-05-14 06:21:39,334 - mmdet - INFO - \n",
      " Average Precision  (AP) @[ IoU=0.50:0.95 | area=   all | maxDets=100 ] = 0.737\n",
      " Average Precision  (AP) @[ IoU=0.50      | area=   all | maxDets=1000 ] = 0.862\n",
      " Average Precision  (AP) @[ IoU=0.75      | area=   all | maxDets=1000 ] = 0.831\n",
      " Average Precision  (AP) @[ IoU=0.50:0.95 | area= small | maxDets=1000 ] = -1.000\n",
      " Average Precision  (AP) @[ IoU=0.50:0.95 | area=medium | maxDets=1000 ] = -1.000\n",
      " Average Precision  (AP) @[ IoU=0.50:0.95 | area= large | maxDets=1000 ] = 0.737\n",
      " Average Recall     (AR) @[ IoU=0.50:0.95 | area=   all | maxDets=100 ] = 0.878\n",
      " Average Recall     (AR) @[ IoU=0.50:0.95 | area=   all | maxDets=300 ] = 0.878\n",
      " Average Recall     (AR) @[ IoU=0.50:0.95 | area=   all | maxDets=1000 ] = 0.878\n",
      " Average Recall     (AR) @[ IoU=0.50:0.95 | area= small | maxDets=1000 ] = -1.000\n",
      " Average Recall     (AR) @[ IoU=0.50:0.95 | area=medium | maxDets=1000 ] = -1.000\n",
      " Average Recall     (AR) @[ IoU=0.50:0.95 | area= large | maxDets=1000 ] = 0.878\n",
      "\n",
      "2022-05-14 06:21:39,351 - mmdet - INFO - Epoch(val) [6][298]\tbbox_mAP: 0.7370, bbox_mAP_50: 0.8620, bbox_mAP_75: 0.8310, bbox_mAP_s: -1.0000, bbox_mAP_m: -1.0000, bbox_mAP_l: 0.7370, bbox_mAP_copypaste: 0.737 0.862 0.831 -1.000 -1.000 0.737\n"
     ]
    },
    {
     "name": "stdout",
     "output_type": "stream",
     "text": [
      "DONE (t=0.68s).\n",
      "Accumulating evaluation results...\n",
      "DONE (t=0.18s).\n"
     ]
    },
    {
     "name": "stderr",
     "output_type": "stream",
     "text": [
      "2022-05-14 06:22:05,772 - mmdet - INFO - Epoch [7][100/1352]\tlr: 2.500e-03, eta: 2:05:14, time: 0.263, data_time: 0.029, memory: 4029, loss_rpn_cls: 0.0054, loss_rpn_bbox: 0.0172, loss_cls: 0.0430, acc: 98.4482, loss_bbox: 0.0398, loss: 0.1053\n",
      "2022-05-14 06:22:29,519 - mmdet - INFO - Epoch [7][200/1352]\tlr: 2.500e-03, eta: 2:04:53, time: 0.237, data_time: 0.008, memory: 4029, loss_rpn_cls: 0.0048, loss_rpn_bbox: 0.0156, loss_cls: 0.0383, acc: 98.6230, loss_bbox: 0.0368, loss: 0.0954\n",
      "2022-05-14 06:22:53,530 - mmdet - INFO - Epoch [7][300/1352]\tlr: 2.500e-03, eta: 2:04:32, time: 0.240, data_time: 0.008, memory: 4029, loss_rpn_cls: 0.0050, loss_rpn_bbox: 0.0170, loss_cls: 0.0404, acc: 98.5039, loss_bbox: 0.0372, loss: 0.0995\n",
      "2022-05-14 06:23:17,563 - mmdet - INFO - Epoch [7][400/1352]\tlr: 2.500e-03, eta: 2:04:12, time: 0.240, data_time: 0.008, memory: 4029, loss_rpn_cls: 0.0054, loss_rpn_bbox: 0.0166, loss_cls: 0.0387, acc: 98.5713, loss_bbox: 0.0383, loss: 0.0990\n",
      "2022-05-14 06:23:41,580 - mmdet - INFO - Epoch [7][500/1352]\tlr: 2.500e-03, eta: 2:03:52, time: 0.240, data_time: 0.009, memory: 4029, loss_rpn_cls: 0.0047, loss_rpn_bbox: 0.0154, loss_cls: 0.0392, acc: 98.5645, loss_bbox: 0.0352, loss: 0.0945\n",
      "2022-05-14 06:24:05,576 - mmdet - INFO - Epoch [7][600/1352]\tlr: 2.500e-03, eta: 2:03:31, time: 0.240, data_time: 0.008, memory: 4029, loss_rpn_cls: 0.0047, loss_rpn_bbox: 0.0160, loss_cls: 0.0383, acc: 98.6064, loss_bbox: 0.0361, loss: 0.0951\n",
      "2022-05-14 06:24:29,261 - mmdet - INFO - Epoch [7][700/1352]\tlr: 2.500e-03, eta: 2:03:09, time: 0.237, data_time: 0.009, memory: 4029, loss_rpn_cls: 0.0040, loss_rpn_bbox: 0.0146, loss_cls: 0.0392, acc: 98.5010, loss_bbox: 0.0364, loss: 0.0941\n",
      "2022-05-14 06:24:53,232 - mmdet - INFO - Epoch [7][800/1352]\tlr: 2.500e-03, eta: 2:02:49, time: 0.240, data_time: 0.008, memory: 4029, loss_rpn_cls: 0.0047, loss_rpn_bbox: 0.0153, loss_cls: 0.0380, acc: 98.6016, loss_bbox: 0.0363, loss: 0.0944\n",
      "2022-05-14 06:25:17,454 - mmdet - INFO - Epoch [7][900/1352]\tlr: 2.500e-03, eta: 2:02:29, time: 0.242, data_time: 0.008, memory: 4029, loss_rpn_cls: 0.0053, loss_rpn_bbox: 0.0177, loss_cls: 0.0378, acc: 98.6826, loss_bbox: 0.0353, loss: 0.0961\n",
      "2022-05-14 06:25:41,194 - mmdet - INFO - Epoch [7][1000/1352]\tlr: 2.500e-03, eta: 2:02:07, time: 0.237, data_time: 0.008, memory: 4029, loss_rpn_cls: 0.0043, loss_rpn_bbox: 0.0147, loss_cls: 0.0337, acc: 98.7803, loss_bbox: 0.0349, loss: 0.0876\n",
      "2022-05-14 06:26:05,554 - mmdet - INFO - Epoch [7][1100/1352]\tlr: 2.500e-03, eta: 2:01:47, time: 0.243, data_time: 0.009, memory: 4029, loss_rpn_cls: 0.0050, loss_rpn_bbox: 0.0167, loss_cls: 0.0350, acc: 98.7139, loss_bbox: 0.0351, loss: 0.0919\n",
      "2022-05-14 06:26:29,657 - mmdet - INFO - Epoch [7][1200/1352]\tlr: 2.500e-03, eta: 2:01:26, time: 0.241, data_time: 0.008, memory: 4029, loss_rpn_cls: 0.0044, loss_rpn_bbox: 0.0160, loss_cls: 0.0384, acc: 98.6240, loss_bbox: 0.0361, loss: 0.0948\n",
      "2022-05-14 06:26:53,883 - mmdet - INFO - Epoch [7][1300/1352]\tlr: 2.500e-03, eta: 2:01:06, time: 0.242, data_time: 0.008, memory: 4029, loss_rpn_cls: 0.0044, loss_rpn_bbox: 0.0165, loss_cls: 0.0350, acc: 98.7207, loss_bbox: 0.0354, loss: 0.0914\n",
      "2022-05-14 06:27:06,318 - mmdet - INFO - Saving checkpoint at 7 epochs\n"
     ]
    },
    {
     "name": "stdout",
     "output_type": "stream",
     "text": [
      "[>>>>>>>>>>>>>>>>>>>>>>>>>>>>>] 298/298, 14.3 task/s, elapsed: 21s, ETA:     0s"
     ]
    },
    {
     "name": "stderr",
     "output_type": "stream",
     "text": [
      "2022-05-14 06:27:28,844 - mmdet - INFO - Evaluating bbox...\n"
     ]
    },
    {
     "name": "stdout",
     "output_type": "stream",
     "text": [
      "Loading and preparing results...\n",
      "DONE (t=0.00s)\n",
      "creating index...\n",
      "index created!\n",
      "Running per image evaluation...\n",
      "Evaluate annotation type *bbox*\n"
     ]
    },
    {
     "name": "stderr",
     "output_type": "stream",
     "text": [
      "2022-05-14 06:27:29,449 - mmdet - INFO - \n",
      " Average Precision  (AP) @[ IoU=0.50:0.95 | area=   all | maxDets=100 ] = 0.790\n",
      " Average Precision  (AP) @[ IoU=0.50      | area=   all | maxDets=1000 ] = 0.883\n",
      " Average Precision  (AP) @[ IoU=0.75      | area=   all | maxDets=1000 ] = 0.875\n",
      " Average Precision  (AP) @[ IoU=0.50:0.95 | area= small | maxDets=1000 ] = -1.000\n",
      " Average Precision  (AP) @[ IoU=0.50:0.95 | area=medium | maxDets=1000 ] = -1.000\n",
      " Average Precision  (AP) @[ IoU=0.50:0.95 | area= large | maxDets=1000 ] = 0.790\n",
      " Average Recall     (AR) @[ IoU=0.50:0.95 | area=   all | maxDets=100 ] = 0.906\n",
      " Average Recall     (AR) @[ IoU=0.50:0.95 | area=   all | maxDets=300 ] = 0.906\n",
      " Average Recall     (AR) @[ IoU=0.50:0.95 | area=   all | maxDets=1000 ] = 0.906\n",
      " Average Recall     (AR) @[ IoU=0.50:0.95 | area= small | maxDets=1000 ] = -1.000\n",
      " Average Recall     (AR) @[ IoU=0.50:0.95 | area=medium | maxDets=1000 ] = -1.000\n",
      " Average Recall     (AR) @[ IoU=0.50:0.95 | area= large | maxDets=1000 ] = 0.906\n",
      "\n",
      "2022-05-14 06:27:29,463 - mmdet - INFO - Epoch(val) [7][298]\tbbox_mAP: 0.7900, bbox_mAP_50: 0.8830, bbox_mAP_75: 0.8750, bbox_mAP_s: -1.0000, bbox_mAP_m: -1.0000, bbox_mAP_l: 0.7900, bbox_mAP_copypaste: 0.790 0.883 0.875 -1.000 -1.000 0.790\n"
     ]
    },
    {
     "name": "stdout",
     "output_type": "stream",
     "text": [
      "DONE (t=0.44s).\n",
      "Accumulating evaluation results...\n",
      "DONE (t=0.16s).\n"
     ]
    },
    {
     "name": "stderr",
     "output_type": "stream",
     "text": [
      "2022-05-14 06:27:55,898 - mmdet - INFO - Epoch [8][100/1352]\tlr: 2.500e-03, eta: 2:00:01, time: 0.263, data_time: 0.030, memory: 4029, loss_rpn_cls: 0.0044, loss_rpn_bbox: 0.0163, loss_cls: 0.0351, acc: 98.8096, loss_bbox: 0.0349, loss: 0.0907\n",
      "2022-05-14 06:28:19,725 - mmdet - INFO - Epoch [8][200/1352]\tlr: 2.500e-03, eta: 1:59:40, time: 0.238, data_time: 0.008, memory: 4029, loss_rpn_cls: 0.0041, loss_rpn_bbox: 0.0140, loss_cls: 0.0338, acc: 98.7568, loss_bbox: 0.0318, loss: 0.0837\n",
      "2022-05-14 06:28:43,809 - mmdet - INFO - Epoch [8][300/1352]\tlr: 2.500e-03, eta: 1:59:19, time: 0.241, data_time: 0.008, memory: 4029, loss_rpn_cls: 0.0045, loss_rpn_bbox: 0.0141, loss_cls: 0.0325, acc: 98.8018, loss_bbox: 0.0336, loss: 0.0847\n",
      "2022-05-14 06:29:07,928 - mmdet - INFO - Epoch [8][400/1352]\tlr: 2.500e-03, eta: 1:58:59, time: 0.241, data_time: 0.008, memory: 4029, loss_rpn_cls: 0.0040, loss_rpn_bbox: 0.0164, loss_cls: 0.0330, acc: 98.8574, loss_bbox: 0.0321, loss: 0.0855\n",
      "2022-05-14 06:29:32,001 - mmdet - INFO - Epoch [8][500/1352]\tlr: 2.500e-03, eta: 1:58:38, time: 0.241, data_time: 0.009, memory: 4029, loss_rpn_cls: 0.0050, loss_rpn_bbox: 0.0160, loss_cls: 0.0345, acc: 98.7168, loss_bbox: 0.0316, loss: 0.0871\n",
      "2022-05-14 06:29:55,979 - mmdet - INFO - Epoch [8][600/1352]\tlr: 2.500e-03, eta: 1:58:17, time: 0.240, data_time: 0.009, memory: 4029, loss_rpn_cls: 0.0037, loss_rpn_bbox: 0.0168, loss_cls: 0.0317, acc: 98.8506, loss_bbox: 0.0328, loss: 0.0850\n",
      "2022-05-14 06:30:19,600 - mmdet - INFO - Epoch [8][700/1352]\tlr: 2.500e-03, eta: 1:57:55, time: 0.236, data_time: 0.009, memory: 4029, loss_rpn_cls: 0.0044, loss_rpn_bbox: 0.0146, loss_cls: 0.0337, acc: 98.7842, loss_bbox: 0.0341, loss: 0.0869\n",
      "2022-05-14 06:30:43,596 - mmdet - INFO - Epoch [8][800/1352]\tlr: 2.500e-03, eta: 1:57:33, time: 0.240, data_time: 0.008, memory: 4029, loss_rpn_cls: 0.0043, loss_rpn_bbox: 0.0162, loss_cls: 0.0336, acc: 98.7744, loss_bbox: 0.0335, loss: 0.0876\n",
      "2022-05-14 06:31:07,684 - mmdet - INFO - Epoch [8][900/1352]\tlr: 2.500e-03, eta: 1:57:12, time: 0.241, data_time: 0.008, memory: 4029, loss_rpn_cls: 0.0045, loss_rpn_bbox: 0.0145, loss_cls: 0.0333, acc: 98.7607, loss_bbox: 0.0320, loss: 0.0844\n",
      "2022-05-14 06:31:31,430 - mmdet - INFO - Epoch [8][1000/1352]\tlr: 2.500e-03, eta: 1:56:50, time: 0.238, data_time: 0.008, memory: 4029, loss_rpn_cls: 0.0036, loss_rpn_bbox: 0.0151, loss_cls: 0.0352, acc: 98.7324, loss_bbox: 0.0340, loss: 0.0879\n",
      "2022-05-14 06:31:55,840 - mmdet - INFO - Epoch [8][1100/1352]\tlr: 2.500e-03, eta: 1:56:30, time: 0.244, data_time: 0.008, memory: 4029, loss_rpn_cls: 0.0035, loss_rpn_bbox: 0.0162, loss_cls: 0.0347, acc: 98.7148, loss_bbox: 0.0355, loss: 0.0899\n",
      "2022-05-14 06:32:19,807 - mmdet - INFO - Epoch [8][1200/1352]\tlr: 2.500e-03, eta: 1:56:09, time: 0.240, data_time: 0.008, memory: 4029, loss_rpn_cls: 0.0046, loss_rpn_bbox: 0.0166, loss_cls: 0.0322, acc: 98.8555, loss_bbox: 0.0323, loss: 0.0857\n",
      "2022-05-14 06:32:43,873 - mmdet - INFO - Epoch [8][1300/1352]\tlr: 2.500e-03, eta: 1:55:48, time: 0.241, data_time: 0.009, memory: 4029, loss_rpn_cls: 0.0040, loss_rpn_bbox: 0.0156, loss_cls: 0.0367, acc: 98.6230, loss_bbox: 0.0355, loss: 0.0919\n",
      "2022-05-14 06:32:56,244 - mmdet - INFO - Saving checkpoint at 8 epochs\n"
     ]
    },
    {
     "name": "stdout",
     "output_type": "stream",
     "text": [
      "[>>>>>>>>>>>>>>>>>>>>>>>>>>>>>] 298/298, 14.3 task/s, elapsed: 21s, ETA:     0s"
     ]
    },
    {
     "name": "stderr",
     "output_type": "stream",
     "text": [
      "2022-05-14 06:33:18,798 - mmdet - INFO - Evaluating bbox...\n"
     ]
    },
    {
     "name": "stdout",
     "output_type": "stream",
     "text": [
      "Loading and preparing results...\n",
      "DONE (t=0.00s)\n",
      "creating index...\n",
      "index created!\n",
      "Running per image evaluation...\n",
      "Evaluate annotation type *bbox*\n",
      "DONE (t=0.56s).\n",
      "Accumulating evaluation results...\n"
     ]
    },
    {
     "name": "stderr",
     "output_type": "stream",
     "text": [
      "2022-05-14 06:33:19,631 - mmdet - INFO - \n",
      " Average Precision  (AP) @[ IoU=0.50:0.95 | area=   all | maxDets=100 ] = 0.786\n",
      " Average Precision  (AP) @[ IoU=0.50      | area=   all | maxDets=1000 ] = 0.895\n",
      " Average Precision  (AP) @[ IoU=0.75      | area=   all | maxDets=1000 ] = 0.876\n",
      " Average Precision  (AP) @[ IoU=0.50:0.95 | area= small | maxDets=1000 ] = -1.000\n",
      " Average Precision  (AP) @[ IoU=0.50:0.95 | area=medium | maxDets=1000 ] = -1.000\n",
      " Average Precision  (AP) @[ IoU=0.50:0.95 | area= large | maxDets=1000 ] = 0.786\n",
      " Average Recall     (AR) @[ IoU=0.50:0.95 | area=   all | maxDets=100 ] = 0.895\n",
      " Average Recall     (AR) @[ IoU=0.50:0.95 | area=   all | maxDets=300 ] = 0.895\n",
      " Average Recall     (AR) @[ IoU=0.50:0.95 | area=   all | maxDets=1000 ] = 0.895\n",
      " Average Recall     (AR) @[ IoU=0.50:0.95 | area= small | maxDets=1000 ] = -1.000\n",
      " Average Recall     (AR) @[ IoU=0.50:0.95 | area=medium | maxDets=1000 ] = -1.000\n",
      " Average Recall     (AR) @[ IoU=0.50:0.95 | area= large | maxDets=1000 ] = 0.895\n",
      "\n",
      "2022-05-14 06:33:19,646 - mmdet - INFO - Epoch(val) [8][298]\tbbox_mAP: 0.7860, bbox_mAP_50: 0.8950, bbox_mAP_75: 0.8760, bbox_mAP_s: -1.0000, bbox_mAP_m: -1.0000, bbox_mAP_l: 0.7860, bbox_mAP_copypaste: 0.786 0.895 0.876 -1.000 -1.000 0.786\n"
     ]
    },
    {
     "name": "stdout",
     "output_type": "stream",
     "text": [
      "DONE (t=0.25s).\n"
     ]
    },
    {
     "name": "stderr",
     "output_type": "stream",
     "text": [
      "2022-05-14 06:33:45,819 - mmdet - INFO - Epoch [9][100/1352]\tlr: 2.500e-04, eta: 1:54:47, time: 0.261, data_time: 0.029, memory: 4029, loss_rpn_cls: 0.0031, loss_rpn_bbox: 0.0134, loss_cls: 0.0293, acc: 98.9639, loss_bbox: 0.0279, loss: 0.0736\n",
      "2022-05-14 06:34:09,540 - mmdet - INFO - Epoch [9][200/1352]\tlr: 2.500e-04, eta: 1:54:25, time: 0.237, data_time: 0.008, memory: 4029, loss_rpn_cls: 0.0037, loss_rpn_bbox: 0.0139, loss_cls: 0.0272, acc: 98.9844, loss_bbox: 0.0260, loss: 0.0707\n",
      "2022-05-14 06:34:33,563 - mmdet - INFO - Epoch [9][300/1352]\tlr: 2.500e-04, eta: 1:54:04, time: 0.240, data_time: 0.009, memory: 4029, loss_rpn_cls: 0.0035, loss_rpn_bbox: 0.0129, loss_cls: 0.0292, acc: 98.9512, loss_bbox: 0.0256, loss: 0.0712\n",
      "2022-05-14 06:34:57,692 - mmdet - INFO - Epoch [9][400/1352]\tlr: 2.500e-04, eta: 1:53:43, time: 0.241, data_time: 0.009, memory: 4029, loss_rpn_cls: 0.0030, loss_rpn_bbox: 0.0138, loss_cls: 0.0285, acc: 98.9590, loss_bbox: 0.0262, loss: 0.0715\n",
      "2022-05-14 06:35:21,731 - mmdet - INFO - Epoch [9][500/1352]\tlr: 2.500e-04, eta: 1:53:21, time: 0.240, data_time: 0.009, memory: 4029, loss_rpn_cls: 0.0035, loss_rpn_bbox: 0.0134, loss_cls: 0.0298, acc: 98.9160, loss_bbox: 0.0245, loss: 0.0712\n",
      "2022-05-14 06:35:45,800 - mmdet - INFO - Epoch [9][600/1352]\tlr: 2.500e-04, eta: 1:53:00, time: 0.241, data_time: 0.008, memory: 4029, loss_rpn_cls: 0.0040, loss_rpn_bbox: 0.0134, loss_cls: 0.0286, acc: 98.9590, loss_bbox: 0.0247, loss: 0.0706\n",
      "2022-05-14 06:36:09,553 - mmdet - INFO - Epoch [9][700/1352]\tlr: 2.500e-04, eta: 1:52:38, time: 0.238, data_time: 0.008, memory: 4029, loss_rpn_cls: 0.0028, loss_rpn_bbox: 0.0127, loss_cls: 0.0296, acc: 98.9736, loss_bbox: 0.0257, loss: 0.0708\n",
      "2022-05-14 06:36:33,521 - mmdet - INFO - Epoch [9][800/1352]\tlr: 2.500e-04, eta: 1:52:17, time: 0.240, data_time: 0.008, memory: 4029, loss_rpn_cls: 0.0030, loss_rpn_bbox: 0.0127, loss_cls: 0.0269, acc: 99.0137, loss_bbox: 0.0246, loss: 0.0673\n",
      "2022-05-14 06:36:57,770 - mmdet - INFO - Epoch [9][900/1352]\tlr: 2.500e-04, eta: 1:51:56, time: 0.242, data_time: 0.008, memory: 4029, loss_rpn_cls: 0.0039, loss_rpn_bbox: 0.0133, loss_cls: 0.0287, acc: 98.9639, loss_bbox: 0.0251, loss: 0.0710\n",
      "2022-05-14 06:37:21,538 - mmdet - INFO - Epoch [9][1000/1352]\tlr: 2.500e-04, eta: 1:51:34, time: 0.238, data_time: 0.008, memory: 4029, loss_rpn_cls: 0.0033, loss_rpn_bbox: 0.0120, loss_cls: 0.0290, acc: 98.9883, loss_bbox: 0.0247, loss: 0.0690\n",
      "2022-05-14 06:37:45,972 - mmdet - INFO - Epoch [9][1100/1352]\tlr: 2.500e-04, eta: 1:51:13, time: 0.244, data_time: 0.009, memory: 4029, loss_rpn_cls: 0.0032, loss_rpn_bbox: 0.0141, loss_cls: 0.0268, acc: 99.0918, loss_bbox: 0.0247, loss: 0.0688\n",
      "2022-05-14 06:38:10,053 - mmdet - INFO - Epoch [9][1200/1352]\tlr: 2.500e-04, eta: 1:50:52, time: 0.241, data_time: 0.009, memory: 4029, loss_rpn_cls: 0.0030, loss_rpn_bbox: 0.0141, loss_cls: 0.0274, acc: 99.0332, loss_bbox: 0.0243, loss: 0.0688\n",
      "2022-05-14 06:38:34,230 - mmdet - INFO - Epoch [9][1300/1352]\tlr: 2.500e-04, eta: 1:50:30, time: 0.242, data_time: 0.009, memory: 4029, loss_rpn_cls: 0.0029, loss_rpn_bbox: 0.0138, loss_cls: 0.0275, acc: 99.0234, loss_bbox: 0.0249, loss: 0.0690\n",
      "2022-05-14 06:38:46,712 - mmdet - INFO - Saving checkpoint at 9 epochs\n"
     ]
    },
    {
     "name": "stdout",
     "output_type": "stream",
     "text": [
      "[>>>>>>>>>>>>>>>>>>>>>>>>>>>>>] 298/298, 14.1 task/s, elapsed: 21s, ETA:     0s"
     ]
    },
    {
     "name": "stderr",
     "output_type": "stream",
     "text": [
      "2022-05-14 06:39:09,597 - mmdet - INFO - Evaluating bbox...\n"
     ]
    },
    {
     "name": "stdout",
     "output_type": "stream",
     "text": [
      "Loading and preparing results...\n",
      "DONE (t=0.00s)\n",
      "creating index...\n",
      "index created!\n",
      "Running per image evaluation...\n",
      "Evaluate annotation type *bbox*\n"
     ]
    },
    {
     "name": "stderr",
     "output_type": "stream",
     "text": [
      "2022-05-14 06:39:10,172 - mmdet - INFO - \n",
      " Average Precision  (AP) @[ IoU=0.50:0.95 | area=   all | maxDets=100 ] = 0.828\n",
      " Average Precision  (AP) @[ IoU=0.50      | area=   all | maxDets=1000 ] = 0.897\n",
      " Average Precision  (AP) @[ IoU=0.75      | area=   all | maxDets=1000 ] = 0.889\n",
      " Average Precision  (AP) @[ IoU=0.50:0.95 | area= small | maxDets=1000 ] = -1.000\n",
      " Average Precision  (AP) @[ IoU=0.50:0.95 | area=medium | maxDets=1000 ] = -1.000\n",
      " Average Precision  (AP) @[ IoU=0.50:0.95 | area= large | maxDets=1000 ] = 0.828\n",
      " Average Recall     (AR) @[ IoU=0.50:0.95 | area=   all | maxDets=100 ] = 0.937\n",
      " Average Recall     (AR) @[ IoU=0.50:0.95 | area=   all | maxDets=300 ] = 0.937\n",
      " Average Recall     (AR) @[ IoU=0.50:0.95 | area=   all | maxDets=1000 ] = 0.937\n",
      " Average Recall     (AR) @[ IoU=0.50:0.95 | area= small | maxDets=1000 ] = -1.000\n",
      " Average Recall     (AR) @[ IoU=0.50:0.95 | area=medium | maxDets=1000 ] = -1.000\n",
      " Average Recall     (AR) @[ IoU=0.50:0.95 | area= large | maxDets=1000 ] = 0.937\n",
      "\n",
      "2022-05-14 06:39:10,187 - mmdet - INFO - Epoch(val) [9][298]\tbbox_mAP: 0.8280, bbox_mAP_50: 0.8970, bbox_mAP_75: 0.8890, bbox_mAP_s: -1.0000, bbox_mAP_m: -1.0000, bbox_mAP_l: 0.8280, bbox_mAP_copypaste: 0.828 0.897 0.889 -1.000 -1.000 0.828\n"
     ]
    },
    {
     "name": "stdout",
     "output_type": "stream",
     "text": [
      "DONE (t=0.40s).\n",
      "Accumulating evaluation results...\n",
      "DONE (t=0.15s).\n"
     ]
    },
    {
     "name": "stderr",
     "output_type": "stream",
     "text": [
      "2022-05-14 06:39:36,624 - mmdet - INFO - Epoch [10][100/1352]\tlr: 2.500e-04, eta: 1:49:34, time: 0.263, data_time: 0.030, memory: 4029, loss_rpn_cls: 0.0030, loss_rpn_bbox: 0.0133, loss_cls: 0.0305, acc: 98.8525, loss_bbox: 0.0239, loss: 0.0706\n",
      "2022-05-14 06:40:00,504 - mmdet - INFO - Epoch [10][200/1352]\tlr: 2.500e-04, eta: 1:49:12, time: 0.239, data_time: 0.009, memory: 4029, loss_rpn_cls: 0.0028, loss_rpn_bbox: 0.0127, loss_cls: 0.0277, acc: 99.0195, loss_bbox: 0.0246, loss: 0.0679\n",
      "2022-05-14 06:40:24,631 - mmdet - INFO - Epoch [10][300/1352]\tlr: 2.500e-04, eta: 1:48:51, time: 0.241, data_time: 0.009, memory: 4029, loss_rpn_cls: 0.0029, loss_rpn_bbox: 0.0130, loss_cls: 0.0259, acc: 99.0742, loss_bbox: 0.0242, loss: 0.0659\n",
      "2022-05-14 06:40:48,849 - mmdet - INFO - Epoch [10][400/1352]\tlr: 2.500e-04, eta: 1:48:30, time: 0.242, data_time: 0.009, memory: 4029, loss_rpn_cls: 0.0030, loss_rpn_bbox: 0.0134, loss_cls: 0.0264, acc: 99.1338, loss_bbox: 0.0232, loss: 0.0659\n",
      "2022-05-14 06:41:12,989 - mmdet - INFO - Epoch [10][500/1352]\tlr: 2.500e-04, eta: 1:48:09, time: 0.241, data_time: 0.009, memory: 4029, loss_rpn_cls: 0.0027, loss_rpn_bbox: 0.0138, loss_cls: 0.0278, acc: 99.0283, loss_bbox: 0.0245, loss: 0.0689\n",
      "2022-05-14 06:41:37,186 - mmdet - INFO - Epoch [10][600/1352]\tlr: 2.500e-04, eta: 1:47:47, time: 0.242, data_time: 0.009, memory: 4029, loss_rpn_cls: 0.0030, loss_rpn_bbox: 0.0127, loss_cls: 0.0241, acc: 99.1318, loss_bbox: 0.0232, loss: 0.0630\n",
      "2022-05-14 06:42:01,050 - mmdet - INFO - Epoch [10][700/1352]\tlr: 2.500e-04, eta: 1:47:25, time: 0.239, data_time: 0.009, memory: 4029, loss_rpn_cls: 0.0025, loss_rpn_bbox: 0.0133, loss_cls: 0.0278, acc: 98.9756, loss_bbox: 0.0247, loss: 0.0683\n",
      "2022-05-14 06:42:25,136 - mmdet - INFO - Epoch [10][800/1352]\tlr: 2.500e-04, eta: 1:47:04, time: 0.241, data_time: 0.008, memory: 4029, loss_rpn_cls: 0.0027, loss_rpn_bbox: 0.0136, loss_cls: 0.0272, acc: 98.9609, loss_bbox: 0.0235, loss: 0.0670\n",
      "2022-05-14 06:42:49,468 - mmdet - INFO - Epoch [10][900/1352]\tlr: 2.500e-04, eta: 1:46:43, time: 0.243, data_time: 0.009, memory: 4029, loss_rpn_cls: 0.0040, loss_rpn_bbox: 0.0141, loss_cls: 0.0266, acc: 99.0410, loss_bbox: 0.0237, loss: 0.0683\n",
      "2022-05-14 06:43:13,301 - mmdet - INFO - Epoch [10][1000/1352]\tlr: 2.500e-04, eta: 1:46:21, time: 0.238, data_time: 0.009, memory: 4029, loss_rpn_cls: 0.0030, loss_rpn_bbox: 0.0137, loss_cls: 0.0258, acc: 99.0898, loss_bbox: 0.0238, loss: 0.0662\n",
      "2022-05-14 06:43:37,785 - mmdet - INFO - Epoch [10][1100/1352]\tlr: 2.500e-04, eta: 1:46:00, time: 0.245, data_time: 0.009, memory: 4029, loss_rpn_cls: 0.0032, loss_rpn_bbox: 0.0127, loss_cls: 0.0241, acc: 99.1699, loss_bbox: 0.0237, loss: 0.0637\n",
      "2022-05-14 06:44:01,964 - mmdet - INFO - Epoch [10][1200/1352]\tlr: 2.500e-04, eta: 1:45:38, time: 0.242, data_time: 0.009, memory: 4029, loss_rpn_cls: 0.0033, loss_rpn_bbox: 0.0137, loss_cls: 0.0264, acc: 99.0361, loss_bbox: 0.0243, loss: 0.0676\n",
      "2022-05-14 06:44:26,239 - mmdet - INFO - Epoch [10][1300/1352]\tlr: 2.500e-04, eta: 1:45:17, time: 0.243, data_time: 0.009, memory: 4029, loss_rpn_cls: 0.0027, loss_rpn_bbox: 0.0138, loss_cls: 0.0264, acc: 99.0498, loss_bbox: 0.0234, loss: 0.0663\n",
      "2022-05-14 06:44:38,741 - mmdet - INFO - Saving checkpoint at 10 epochs\n"
     ]
    },
    {
     "name": "stdout",
     "output_type": "stream",
     "text": [
      "[>>>>>>>>>>>>>>>>>>>>>>>>>>>>>] 298/298, 14.1 task/s, elapsed: 21s, ETA:     0s"
     ]
    },
    {
     "name": "stderr",
     "output_type": "stream",
     "text": [
      "2022-05-14 06:45:01,707 - mmdet - INFO - Evaluating bbox...\n"
     ]
    },
    {
     "name": "stdout",
     "output_type": "stream",
     "text": [
      "Loading and preparing results...\n",
      "DONE (t=0.00s)\n",
      "creating index...\n",
      "index created!\n",
      "Running per image evaluation...\n",
      "Evaluate annotation type *bbox*\n"
     ]
    },
    {
     "name": "stderr",
     "output_type": "stream",
     "text": [
      "2022-05-14 06:45:02,427 - mmdet - INFO - \n",
      " Average Precision  (AP) @[ IoU=0.50:0.95 | area=   all | maxDets=100 ] = 0.837\n",
      " Average Precision  (AP) @[ IoU=0.50      | area=   all | maxDets=1000 ] = 0.886\n",
      " Average Precision  (AP) @[ IoU=0.75      | area=   all | maxDets=1000 ] = 0.884\n",
      " Average Precision  (AP) @[ IoU=0.50:0.95 | area= small | maxDets=1000 ] = -1.000\n",
      " Average Precision  (AP) @[ IoU=0.50:0.95 | area=medium | maxDets=1000 ] = -1.000\n",
      " Average Precision  (AP) @[ IoU=0.50:0.95 | area= large | maxDets=1000 ] = 0.837\n",
      " Average Recall     (AR) @[ IoU=0.50:0.95 | area=   all | maxDets=100 ] = 0.954\n",
      " Average Recall     (AR) @[ IoU=0.50:0.95 | area=   all | maxDets=300 ] = 0.954\n",
      " Average Recall     (AR) @[ IoU=0.50:0.95 | area=   all | maxDets=1000 ] = 0.954\n",
      " Average Recall     (AR) @[ IoU=0.50:0.95 | area= small | maxDets=1000 ] = -1.000\n",
      " Average Recall     (AR) @[ IoU=0.50:0.95 | area=medium | maxDets=1000 ] = -1.000\n",
      " Average Recall     (AR) @[ IoU=0.50:0.95 | area= large | maxDets=1000 ] = 0.954\n",
      "\n",
      "2022-05-14 06:45:02,442 - mmdet - INFO - Epoch(val) [10][298]\tbbox_mAP: 0.8370, bbox_mAP_50: 0.8860, bbox_mAP_75: 0.8840, bbox_mAP_s: -1.0000, bbox_mAP_m: -1.0000, bbox_mAP_l: 0.8370, bbox_mAP_copypaste: 0.837 0.886 0.884 -1.000 -1.000 0.837\n"
     ]
    },
    {
     "name": "stdout",
     "output_type": "stream",
     "text": [
      "DONE (t=0.55s).\n",
      "Accumulating evaluation results...\n",
      "DONE (t=0.16s).\n"
     ]
    },
    {
     "name": "stderr",
     "output_type": "stream",
     "text": [
      "2022-05-14 06:45:28,919 - mmdet - INFO - Epoch [11][100/1352]\tlr: 2.500e-04, eta: 1:44:23, time: 0.264, data_time: 0.029, memory: 4029, loss_rpn_cls: 0.0031, loss_rpn_bbox: 0.0134, loss_cls: 0.0250, acc: 99.0713, loss_bbox: 0.0231, loss: 0.0646\n",
      "2022-05-14 06:45:52,787 - mmdet - INFO - Epoch [11][200/1352]\tlr: 2.500e-04, eta: 1:44:01, time: 0.239, data_time: 0.008, memory: 4029, loss_rpn_cls: 0.0026, loss_rpn_bbox: 0.0121, loss_cls: 0.0271, acc: 99.0176, loss_bbox: 0.0236, loss: 0.0654\n",
      "2022-05-14 06:46:16,873 - mmdet - INFO - Epoch [11][300/1352]\tlr: 2.500e-04, eta: 1:43:40, time: 0.241, data_time: 0.009, memory: 4029, loss_rpn_cls: 0.0030, loss_rpn_bbox: 0.0127, loss_cls: 0.0246, acc: 99.0703, loss_bbox: 0.0224, loss: 0.0628\n",
      "2022-05-14 06:46:41,041 - mmdet - INFO - Epoch [11][400/1352]\tlr: 2.500e-04, eta: 1:43:18, time: 0.242, data_time: 0.009, memory: 4029, loss_rpn_cls: 0.0035, loss_rpn_bbox: 0.0124, loss_cls: 0.0262, acc: 99.0557, loss_bbox: 0.0231, loss: 0.0652\n",
      "2022-05-14 06:47:05,133 - mmdet - INFO - Epoch [11][500/1352]\tlr: 2.500e-04, eta: 1:42:56, time: 0.241, data_time: 0.009, memory: 4029, loss_rpn_cls: 0.0027, loss_rpn_bbox: 0.0137, loss_cls: 0.0255, acc: 99.1338, loss_bbox: 0.0224, loss: 0.0643\n",
      "2022-05-14 06:47:29,326 - mmdet - INFO - Epoch [11][600/1352]\tlr: 2.500e-04, eta: 1:42:35, time: 0.242, data_time: 0.009, memory: 4029, loss_rpn_cls: 0.0030, loss_rpn_bbox: 0.0135, loss_cls: 0.0262, acc: 99.0723, loss_bbox: 0.0221, loss: 0.0648\n",
      "2022-05-14 06:47:53,121 - mmdet - INFO - Epoch [11][700/1352]\tlr: 2.500e-04, eta: 1:42:13, time: 0.238, data_time: 0.008, memory: 4029, loss_rpn_cls: 0.0023, loss_rpn_bbox: 0.0123, loss_cls: 0.0247, acc: 99.0967, loss_bbox: 0.0222, loss: 0.0615\n",
      "2022-05-14 06:48:17,133 - mmdet - INFO - Epoch [11][800/1352]\tlr: 2.500e-04, eta: 1:41:51, time: 0.240, data_time: 0.008, memory: 4029, loss_rpn_cls: 0.0026, loss_rpn_bbox: 0.0129, loss_cls: 0.0258, acc: 99.0771, loss_bbox: 0.0227, loss: 0.0640\n",
      "2022-05-14 06:48:41,394 - mmdet - INFO - Epoch [11][900/1352]\tlr: 2.500e-04, eta: 1:41:29, time: 0.242, data_time: 0.008, memory: 4029, loss_rpn_cls: 0.0032, loss_rpn_bbox: 0.0142, loss_cls: 0.0249, acc: 99.1230, loss_bbox: 0.0230, loss: 0.0654\n",
      "2022-05-14 06:49:05,179 - mmdet - INFO - Epoch [11][1000/1352]\tlr: 2.500e-04, eta: 1:41:07, time: 0.238, data_time: 0.008, memory: 4029, loss_rpn_cls: 0.0027, loss_rpn_bbox: 0.0127, loss_cls: 0.0249, acc: 99.0869, loss_bbox: 0.0228, loss: 0.0630\n",
      "2022-05-14 06:49:29,600 - mmdet - INFO - Epoch [11][1100/1352]\tlr: 2.500e-04, eta: 1:40:45, time: 0.244, data_time: 0.009, memory: 4029, loss_rpn_cls: 0.0039, loss_rpn_bbox: 0.0146, loss_cls: 0.0236, acc: 99.0967, loss_bbox: 0.0235, loss: 0.0655\n",
      "2022-05-14 06:49:53,798 - mmdet - INFO - Epoch [11][1200/1352]\tlr: 2.500e-04, eta: 1:40:24, time: 0.242, data_time: 0.009, memory: 4029, loss_rpn_cls: 0.0025, loss_rpn_bbox: 0.0143, loss_cls: 0.0250, acc: 99.1396, loss_bbox: 0.0227, loss: 0.0646\n",
      "2022-05-14 06:50:18,021 - mmdet - INFO - Epoch [11][1300/1352]\tlr: 2.500e-04, eta: 1:40:02, time: 0.242, data_time: 0.009, memory: 4029, loss_rpn_cls: 0.0026, loss_rpn_bbox: 0.0139, loss_cls: 0.0258, acc: 99.0293, loss_bbox: 0.0218, loss: 0.0641\n",
      "2022-05-14 06:50:30,502 - mmdet - INFO - Saving checkpoint at 11 epochs\n"
     ]
    },
    {
     "name": "stdout",
     "output_type": "stream",
     "text": [
      "[>>>>>>>>>>>>>>>>>>>>>>>>>>>>>] 298/298, 14.1 task/s, elapsed: 21s, ETA:     0s"
     ]
    },
    {
     "name": "stderr",
     "output_type": "stream",
     "text": [
      "2022-05-14 06:50:53,363 - mmdet - INFO - Evaluating bbox...\n"
     ]
    },
    {
     "name": "stdout",
     "output_type": "stream",
     "text": [
      "Loading and preparing results...\n",
      "DONE (t=0.00s)\n",
      "creating index...\n",
      "index created!\n",
      "Running per image evaluation...\n",
      "Evaluate annotation type *bbox*\n"
     ]
    },
    {
     "name": "stderr",
     "output_type": "stream",
     "text": [
      "2022-05-14 06:50:53,934 - mmdet - INFO - \n",
      " Average Precision  (AP) @[ IoU=0.50:0.95 | area=   all | maxDets=100 ] = 0.847\n",
      " Average Precision  (AP) @[ IoU=0.50      | area=   all | maxDets=1000 ] = 0.894\n",
      " Average Precision  (AP) @[ IoU=0.75      | area=   all | maxDets=1000 ] = 0.894\n",
      " Average Precision  (AP) @[ IoU=0.50:0.95 | area= small | maxDets=1000 ] = -1.000\n",
      " Average Precision  (AP) @[ IoU=0.50:0.95 | area=medium | maxDets=1000 ] = -1.000\n",
      " Average Precision  (AP) @[ IoU=0.50:0.95 | area= large | maxDets=1000 ] = 0.847\n",
      " Average Recall     (AR) @[ IoU=0.50:0.95 | area=   all | maxDets=100 ] = 0.956\n",
      " Average Recall     (AR) @[ IoU=0.50:0.95 | area=   all | maxDets=300 ] = 0.956\n",
      " Average Recall     (AR) @[ IoU=0.50:0.95 | area=   all | maxDets=1000 ] = 0.956\n",
      " Average Recall     (AR) @[ IoU=0.50:0.95 | area= small | maxDets=1000 ] = -1.000\n",
      " Average Recall     (AR) @[ IoU=0.50:0.95 | area=medium | maxDets=1000 ] = -1.000\n",
      " Average Recall     (AR) @[ IoU=0.50:0.95 | area= large | maxDets=1000 ] = 0.956\n",
      "\n",
      "2022-05-14 06:50:53,947 - mmdet - INFO - Epoch(val) [11][298]\tbbox_mAP: 0.8470, bbox_mAP_50: 0.8940, bbox_mAP_75: 0.8940, bbox_mAP_s: -1.0000, bbox_mAP_m: -1.0000, bbox_mAP_l: 0.8470, bbox_mAP_copypaste: 0.847 0.894 0.894 -1.000 -1.000 0.847\n"
     ]
    },
    {
     "name": "stdout",
     "output_type": "stream",
     "text": [
      "DONE (t=0.40s).\n",
      "Accumulating evaluation results...\n",
      "DONE (t=0.15s).\n"
     ]
    },
    {
     "name": "stderr",
     "output_type": "stream",
     "text": [
      "2022-05-14 06:51:20,407 - mmdet - INFO - Epoch [12][100/1352]\tlr: 2.500e-05, eta: 1:39:11, time: 0.263, data_time: 0.030, memory: 4029, loss_rpn_cls: 0.0024, loss_rpn_bbox: 0.0133, loss_cls: 0.0246, acc: 99.1055, loss_bbox: 0.0224, loss: 0.0627\n",
      "2022-05-14 06:51:44,297 - mmdet - INFO - Epoch [12][200/1352]\tlr: 2.500e-05, eta: 1:38:49, time: 0.239, data_time: 0.009, memory: 4029, loss_rpn_cls: 0.0029, loss_rpn_bbox: 0.0130, loss_cls: 0.0248, acc: 99.1484, loss_bbox: 0.0228, loss: 0.0635\n",
      "2022-05-14 06:52:08,450 - mmdet - INFO - Epoch [12][300/1352]\tlr: 2.500e-05, eta: 1:38:27, time: 0.242, data_time: 0.009, memory: 4029, loss_rpn_cls: 0.0024, loss_rpn_bbox: 0.0130, loss_cls: 0.0253, acc: 99.0840, loss_bbox: 0.0222, loss: 0.0629\n",
      "2022-05-14 06:52:32,615 - mmdet - INFO - Epoch [12][400/1352]\tlr: 2.500e-05, eta: 1:38:05, time: 0.242, data_time: 0.009, memory: 4029, loss_rpn_cls: 0.0027, loss_rpn_bbox: 0.0141, loss_cls: 0.0271, acc: 99.0117, loss_bbox: 0.0225, loss: 0.0664\n",
      "2022-05-14 06:52:56,782 - mmdet - INFO - Epoch [12][500/1352]\tlr: 2.500e-05, eta: 1:37:43, time: 0.242, data_time: 0.008, memory: 4029, loss_rpn_cls: 0.0027, loss_rpn_bbox: 0.0126, loss_cls: 0.0249, acc: 99.1035, loss_bbox: 0.0220, loss: 0.0623\n",
      "2022-05-14 06:53:21,005 - mmdet - INFO - Epoch [12][600/1352]\tlr: 2.500e-05, eta: 1:37:22, time: 0.242, data_time: 0.009, memory: 4029, loss_rpn_cls: 0.0025, loss_rpn_bbox: 0.0129, loss_cls: 0.0228, acc: 99.1572, loss_bbox: 0.0216, loss: 0.0597\n",
      "2022-05-14 06:53:44,833 - mmdet - INFO - Epoch [12][700/1352]\tlr: 2.500e-05, eta: 1:36:59, time: 0.238, data_time: 0.009, memory: 4029, loss_rpn_cls: 0.0025, loss_rpn_bbox: 0.0121, loss_cls: 0.0228, acc: 99.1758, loss_bbox: 0.0216, loss: 0.0591\n",
      "2022-05-14 06:54:08,925 - mmdet - INFO - Epoch [12][800/1352]\tlr: 2.500e-05, eta: 1:36:37, time: 0.241, data_time: 0.009, memory: 4029, loss_rpn_cls: 0.0028, loss_rpn_bbox: 0.0123, loss_cls: 0.0246, acc: 99.1230, loss_bbox: 0.0215, loss: 0.0612\n",
      "2022-05-14 06:54:33,244 - mmdet - INFO - Epoch [12][900/1352]\tlr: 2.500e-05, eta: 1:36:15, time: 0.243, data_time: 0.008, memory: 4029, loss_rpn_cls: 0.0029, loss_rpn_bbox: 0.0133, loss_cls: 0.0224, acc: 99.2051, loss_bbox: 0.0214, loss: 0.0600\n",
      "2022-05-14 06:54:57,075 - mmdet - INFO - Epoch [12][1000/1352]\tlr: 2.500e-05, eta: 1:35:53, time: 0.238, data_time: 0.009, memory: 4029, loss_rpn_cls: 0.0023, loss_rpn_bbox: 0.0125, loss_cls: 0.0257, acc: 99.0537, loss_bbox: 0.0221, loss: 0.0626\n",
      "2022-05-14 06:55:21,585 - mmdet - INFO - Epoch [12][1100/1352]\tlr: 2.500e-05, eta: 1:35:32, time: 0.245, data_time: 0.009, memory: 4029, loss_rpn_cls: 0.0035, loss_rpn_bbox: 0.0127, loss_cls: 0.0252, acc: 99.1006, loss_bbox: 0.0217, loss: 0.0632\n",
      "2022-05-14 06:55:45,775 - mmdet - INFO - Epoch [12][1200/1352]\tlr: 2.500e-05, eta: 1:35:10, time: 0.242, data_time: 0.009, memory: 4029, loss_rpn_cls: 0.0027, loss_rpn_bbox: 0.0123, loss_cls: 0.0230, acc: 99.1631, loss_bbox: 0.0220, loss: 0.0601\n",
      "2022-05-14 06:56:09,981 - mmdet - INFO - Epoch [12][1300/1352]\tlr: 2.500e-05, eta: 1:34:48, time: 0.242, data_time: 0.009, memory: 4029, loss_rpn_cls: 0.0030, loss_rpn_bbox: 0.0140, loss_cls: 0.0243, acc: 99.0732, loss_bbox: 0.0215, loss: 0.0628\n",
      "2022-05-14 06:56:22,489 - mmdet - INFO - Saving checkpoint at 12 epochs\n"
     ]
    },
    {
     "name": "stdout",
     "output_type": "stream",
     "text": [
      "[>>>>>>>>>>>>>>>>>>>>>>>>>>>>>] 298/298, 14.1 task/s, elapsed: 21s, ETA:     0s"
     ]
    },
    {
     "name": "stderr",
     "output_type": "stream",
     "text": [
      "2022-05-14 06:56:45,318 - mmdet - INFO - Evaluating bbox...\n"
     ]
    },
    {
     "name": "stdout",
     "output_type": "stream",
     "text": [
      "Loading and preparing results...\n",
      "DONE (t=0.00s)\n",
      "creating index...\n",
      "index created!\n",
      "Running per image evaluation...\n",
      "Evaluate annotation type *bbox*\n"
     ]
    },
    {
     "name": "stderr",
     "output_type": "stream",
     "text": [
      "2022-05-14 06:56:46,020 - mmdet - INFO - \n",
      " Average Precision  (AP) @[ IoU=0.50:0.95 | area=   all | maxDets=100 ] = 0.843\n",
      " Average Precision  (AP) @[ IoU=0.50      | area=   all | maxDets=1000 ] = 0.893\n",
      " Average Precision  (AP) @[ IoU=0.75      | area=   all | maxDets=1000 ] = 0.893\n",
      " Average Precision  (AP) @[ IoU=0.50:0.95 | area= small | maxDets=1000 ] = -1.000\n",
      " Average Precision  (AP) @[ IoU=0.50:0.95 | area=medium | maxDets=1000 ] = -1.000\n",
      " Average Precision  (AP) @[ IoU=0.50:0.95 | area= large | maxDets=1000 ] = 0.843\n",
      " Average Recall     (AR) @[ IoU=0.50:0.95 | area=   all | maxDets=100 ] = 0.955\n",
      " Average Recall     (AR) @[ IoU=0.50:0.95 | area=   all | maxDets=300 ] = 0.955\n",
      " Average Recall     (AR) @[ IoU=0.50:0.95 | area=   all | maxDets=1000 ] = 0.955\n",
      " Average Recall     (AR) @[ IoU=0.50:0.95 | area= small | maxDets=1000 ] = -1.000\n",
      " Average Recall     (AR) @[ IoU=0.50:0.95 | area=medium | maxDets=1000 ] = -1.000\n",
      " Average Recall     (AR) @[ IoU=0.50:0.95 | area= large | maxDets=1000 ] = 0.955\n",
      "\n",
      "2022-05-14 06:56:46,034 - mmdet - INFO - Epoch(val) [12][298]\tbbox_mAP: 0.8430, bbox_mAP_50: 0.8930, bbox_mAP_75: 0.8930, bbox_mAP_s: -1.0000, bbox_mAP_m: -1.0000, bbox_mAP_l: 0.8430, bbox_mAP_copypaste: 0.843 0.893 0.893 -1.000 -1.000 0.843\n"
     ]
    },
    {
     "name": "stdout",
     "output_type": "stream",
     "text": [
      "DONE (t=0.53s).\n",
      "Accumulating evaluation results...\n",
      "DONE (t=0.16s).\n"
     ]
    },
    {
     "name": "stderr",
     "output_type": "stream",
     "text": [
      "2022-05-14 06:57:12,509 - mmdet - INFO - Epoch [13][100/1352]\tlr: 2.500e-05, eta: 1:33:59, time: 0.264, data_time: 0.030, memory: 4029, loss_rpn_cls: 0.0026, loss_rpn_bbox: 0.0115, loss_cls: 0.0225, acc: 99.2002, loss_bbox: 0.0218, loss: 0.0584\n",
      "2022-05-14 06:57:36,398 - mmdet - INFO - Epoch [13][200/1352]\tlr: 2.500e-05, eta: 1:33:36, time: 0.239, data_time: 0.009, memory: 4029, loss_rpn_cls: 0.0031, loss_rpn_bbox: 0.0135, loss_cls: 0.0243, acc: 99.1084, loss_bbox: 0.0229, loss: 0.0639\n",
      "2022-05-14 06:58:00,557 - mmdet - INFO - Epoch [13][300/1352]\tlr: 2.500e-05, eta: 1:33:14, time: 0.242, data_time: 0.008, memory: 4029, loss_rpn_cls: 0.0026, loss_rpn_bbox: 0.0147, loss_cls: 0.0225, acc: 99.1895, loss_bbox: 0.0222, loss: 0.0620\n",
      "2022-05-14 06:58:24,741 - mmdet - INFO - Epoch [13][400/1352]\tlr: 2.500e-05, eta: 1:32:52, time: 0.242, data_time: 0.009, memory: 4029, loss_rpn_cls: 0.0024, loss_rpn_bbox: 0.0127, loss_cls: 0.0256, acc: 99.0645, loss_bbox: 0.0220, loss: 0.0628\n",
      "2022-05-14 06:58:48,876 - mmdet - INFO - Epoch [13][500/1352]\tlr: 2.500e-05, eta: 1:32:30, time: 0.241, data_time: 0.009, memory: 4029, loss_rpn_cls: 0.0021, loss_rpn_bbox: 0.0127, loss_cls: 0.0250, acc: 99.0859, loss_bbox: 0.0214, loss: 0.0611\n",
      "2022-05-14 06:59:13,045 - mmdet - INFO - Epoch [13][600/1352]\tlr: 2.500e-05, eta: 1:32:08, time: 0.242, data_time: 0.009, memory: 4029, loss_rpn_cls: 0.0030, loss_rpn_bbox: 0.0124, loss_cls: 0.0254, acc: 99.0947, loss_bbox: 0.0211, loss: 0.0619\n",
      "2022-05-14 06:59:36,791 - mmdet - INFO - Epoch [13][700/1352]\tlr: 2.500e-05, eta: 1:31:46, time: 0.238, data_time: 0.008, memory: 4029, loss_rpn_cls: 0.0023, loss_rpn_bbox: 0.0133, loss_cls: 0.0241, acc: 99.1328, loss_bbox: 0.0216, loss: 0.0612\n",
      "2022-05-14 07:00:00,798 - mmdet - INFO - Epoch [13][800/1352]\tlr: 2.500e-05, eta: 1:31:23, time: 0.240, data_time: 0.009, memory: 4029, loss_rpn_cls: 0.0027, loss_rpn_bbox: 0.0126, loss_cls: 0.0235, acc: 99.1357, loss_bbox: 0.0208, loss: 0.0596\n",
      "2022-05-14 07:00:25,013 - mmdet - INFO - Epoch [13][900/1352]\tlr: 2.500e-05, eta: 1:31:01, time: 0.242, data_time: 0.008, memory: 4029, loss_rpn_cls: 0.0028, loss_rpn_bbox: 0.0137, loss_cls: 0.0237, acc: 99.1631, loss_bbox: 0.0219, loss: 0.0621\n",
      "2022-05-14 07:00:48,795 - mmdet - INFO - Epoch [13][1000/1352]\tlr: 2.500e-05, eta: 1:30:39, time: 0.238, data_time: 0.009, memory: 4029, loss_rpn_cls: 0.0028, loss_rpn_bbox: 0.0120, loss_cls: 0.0224, acc: 99.2119, loss_bbox: 0.0201, loss: 0.0573\n",
      "2022-05-14 07:01:13,186 - mmdet - INFO - Epoch [13][1100/1352]\tlr: 2.500e-05, eta: 1:30:17, time: 0.244, data_time: 0.009, memory: 4029, loss_rpn_cls: 0.0029, loss_rpn_bbox: 0.0143, loss_cls: 0.0242, acc: 99.1045, loss_bbox: 0.0212, loss: 0.0625\n",
      "2022-05-14 07:01:37,309 - mmdet - INFO - Epoch [13][1200/1352]\tlr: 2.500e-05, eta: 1:29:54, time: 0.241, data_time: 0.009, memory: 4029, loss_rpn_cls: 0.0029, loss_rpn_bbox: 0.0134, loss_cls: 0.0246, acc: 99.0967, loss_bbox: 0.0211, loss: 0.0619\n",
      "2022-05-14 07:02:01,428 - mmdet - INFO - Epoch [13][1300/1352]\tlr: 2.500e-05, eta: 1:29:32, time: 0.241, data_time: 0.009, memory: 4029, loss_rpn_cls: 0.0030, loss_rpn_bbox: 0.0132, loss_cls: 0.0246, acc: 99.0439, loss_bbox: 0.0217, loss: 0.0625\n",
      "2022-05-14 07:02:13,931 - mmdet - INFO - Saving checkpoint at 13 epochs\n"
     ]
    },
    {
     "name": "stdout",
     "output_type": "stream",
     "text": [
      "[>>>>>>>>>>>>>>>>>>>>>>>>>>>>>] 298/298, 14.1 task/s, elapsed: 21s, ETA:     0s"
     ]
    },
    {
     "name": "stderr",
     "output_type": "stream",
     "text": [
      "2022-05-14 07:02:36,675 - mmdet - INFO - Evaluating bbox...\n"
     ]
    },
    {
     "name": "stdout",
     "output_type": "stream",
     "text": [
      "Loading and preparing results...\n",
      "DONE (t=0.00s)\n",
      "creating index...\n",
      "index created!\n",
      "Running per image evaluation...\n",
      "Evaluate annotation type *bbox*\n"
     ]
    },
    {
     "name": "stderr",
     "output_type": "stream",
     "text": [
      "2022-05-14 07:02:37,267 - mmdet - INFO - \n",
      " Average Precision  (AP) @[ IoU=0.50:0.95 | area=   all | maxDets=100 ] = 0.843\n",
      " Average Precision  (AP) @[ IoU=0.50      | area=   all | maxDets=1000 ] = 0.893\n",
      " Average Precision  (AP) @[ IoU=0.75      | area=   all | maxDets=1000 ] = 0.893\n",
      " Average Precision  (AP) @[ IoU=0.50:0.95 | area= small | maxDets=1000 ] = -1.000\n",
      " Average Precision  (AP) @[ IoU=0.50:0.95 | area=medium | maxDets=1000 ] = -1.000\n",
      " Average Precision  (AP) @[ IoU=0.50:0.95 | area= large | maxDets=1000 ] = 0.843\n",
      " Average Recall     (AR) @[ IoU=0.50:0.95 | area=   all | maxDets=100 ] = 0.953\n",
      " Average Recall     (AR) @[ IoU=0.50:0.95 | area=   all | maxDets=300 ] = 0.953\n",
      " Average Recall     (AR) @[ IoU=0.50:0.95 | area=   all | maxDets=1000 ] = 0.953\n",
      " Average Recall     (AR) @[ IoU=0.50:0.95 | area= small | maxDets=1000 ] = -1.000\n",
      " Average Recall     (AR) @[ IoU=0.50:0.95 | area=medium | maxDets=1000 ] = -1.000\n",
      " Average Recall     (AR) @[ IoU=0.50:0.95 | area= large | maxDets=1000 ] = 0.953\n",
      "\n",
      "2022-05-14 07:02:37,279 - mmdet - INFO - Epoch(val) [13][298]\tbbox_mAP: 0.8430, bbox_mAP_50: 0.8930, bbox_mAP_75: 0.8930, bbox_mAP_s: -1.0000, bbox_mAP_m: -1.0000, bbox_mAP_l: 0.8430, bbox_mAP_copypaste: 0.843 0.893 0.893 -1.000 -1.000 0.843\n"
     ]
    },
    {
     "name": "stdout",
     "output_type": "stream",
     "text": [
      "DONE (t=0.41s).\n",
      "Accumulating evaluation results...\n",
      "DONE (t=0.16s).\n"
     ]
    },
    {
     "name": "stderr",
     "output_type": "stream",
     "text": [
      "2022-05-14 07:03:03,708 - mmdet - INFO - Epoch [14][100/1352]\tlr: 2.500e-05, eta: 1:28:45, time: 0.263, data_time: 0.029, memory: 4029, loss_rpn_cls: 0.0028, loss_rpn_bbox: 0.0120, loss_cls: 0.0240, acc: 99.1289, loss_bbox: 0.0209, loss: 0.0597\n",
      "2022-05-14 07:03:27,626 - mmdet - INFO - Epoch [14][200/1352]\tlr: 2.500e-05, eta: 1:28:22, time: 0.239, data_time: 0.008, memory: 4029, loss_rpn_cls: 0.0025, loss_rpn_bbox: 0.0108, loss_cls: 0.0261, acc: 99.1182, loss_bbox: 0.0222, loss: 0.0616\n",
      "2022-05-14 07:03:51,734 - mmdet - INFO - Epoch [14][300/1352]\tlr: 2.500e-05, eta: 1:28:00, time: 0.241, data_time: 0.009, memory: 4029, loss_rpn_cls: 0.0033, loss_rpn_bbox: 0.0124, loss_cls: 0.0251, acc: 99.0518, loss_bbox: 0.0215, loss: 0.0622\n",
      "2022-05-14 07:04:15,877 - mmdet - INFO - Epoch [14][400/1352]\tlr: 2.500e-05, eta: 1:27:38, time: 0.241, data_time: 0.008, memory: 4029, loss_rpn_cls: 0.0022, loss_rpn_bbox: 0.0124, loss_cls: 0.0241, acc: 99.1436, loss_bbox: 0.0211, loss: 0.0598\n",
      "2022-05-14 07:04:40,002 - mmdet - INFO - Epoch [14][500/1352]\tlr: 2.500e-05, eta: 1:27:16, time: 0.241, data_time: 0.009, memory: 4029, loss_rpn_cls: 0.0031, loss_rpn_bbox: 0.0131, loss_cls: 0.0226, acc: 99.1641, loss_bbox: 0.0219, loss: 0.0607\n",
      "2022-05-14 07:05:04,121 - mmdet - INFO - Epoch [14][600/1352]\tlr: 2.500e-05, eta: 1:26:54, time: 0.241, data_time: 0.009, memory: 4029, loss_rpn_cls: 0.0031, loss_rpn_bbox: 0.0137, loss_cls: 0.0246, acc: 99.0664, loss_bbox: 0.0212, loss: 0.0625\n",
      "2022-05-14 07:05:27,869 - mmdet - INFO - Epoch [14][700/1352]\tlr: 2.500e-05, eta: 1:26:31, time: 0.238, data_time: 0.009, memory: 4029, loss_rpn_cls: 0.0024, loss_rpn_bbox: 0.0120, loss_cls: 0.0234, acc: 99.1270, loss_bbox: 0.0212, loss: 0.0591\n",
      "2022-05-14 07:05:51,868 - mmdet - INFO - Epoch [14][800/1352]\tlr: 2.500e-05, eta: 1:26:08, time: 0.240, data_time: 0.009, memory: 4029, loss_rpn_cls: 0.0026, loss_rpn_bbox: 0.0118, loss_cls: 0.0233, acc: 99.1562, loss_bbox: 0.0210, loss: 0.0587\n",
      "2022-05-14 07:06:16,076 - mmdet - INFO - Epoch [14][900/1352]\tlr: 2.500e-05, eta: 1:25:46, time: 0.242, data_time: 0.009, memory: 4029, loss_rpn_cls: 0.0021, loss_rpn_bbox: 0.0139, loss_cls: 0.0246, acc: 99.1270, loss_bbox: 0.0211, loss: 0.0617\n",
      "2022-05-14 07:06:39,890 - mmdet - INFO - Epoch [14][1000/1352]\tlr: 2.500e-05, eta: 1:25:23, time: 0.238, data_time: 0.009, memory: 4029, loss_rpn_cls: 0.0023, loss_rpn_bbox: 0.0125, loss_cls: 0.0228, acc: 99.1572, loss_bbox: 0.0212, loss: 0.0587\n",
      "2022-05-14 07:07:04,246 - mmdet - INFO - Epoch [14][1100/1352]\tlr: 2.500e-05, eta: 1:25:01, time: 0.243, data_time: 0.009, memory: 4029, loss_rpn_cls: 0.0037, loss_rpn_bbox: 0.0126, loss_cls: 0.0220, acc: 99.1846, loss_bbox: 0.0212, loss: 0.0595\n",
      "2022-05-14 07:07:28,290 - mmdet - INFO - Epoch [14][1200/1352]\tlr: 2.500e-05, eta: 1:24:39, time: 0.240, data_time: 0.009, memory: 4029, loss_rpn_cls: 0.0029, loss_rpn_bbox: 0.0131, loss_cls: 0.0246, acc: 99.0381, loss_bbox: 0.0211, loss: 0.0616\n",
      "2022-05-14 07:07:52,448 - mmdet - INFO - Epoch [14][1300/1352]\tlr: 2.500e-05, eta: 1:24:17, time: 0.242, data_time: 0.009, memory: 4029, loss_rpn_cls: 0.0027, loss_rpn_bbox: 0.0132, loss_cls: 0.0251, acc: 99.0830, loss_bbox: 0.0210, loss: 0.0621\n",
      "2022-05-14 07:08:04,908 - mmdet - INFO - Saving checkpoint at 14 epochs\n"
     ]
    },
    {
     "name": "stdout",
     "output_type": "stream",
     "text": [
      "[>>>>>>>>>>>>>>>>>>>>>>>>>>>>>] 298/298, 14.2 task/s, elapsed: 21s, ETA:     0s"
     ]
    },
    {
     "name": "stderr",
     "output_type": "stream",
     "text": [
      "2022-05-14 07:08:27,591 - mmdet - INFO - Evaluating bbox...\n"
     ]
    },
    {
     "name": "stdout",
     "output_type": "stream",
     "text": [
      "Loading and preparing results...\n",
      "DONE (t=0.00s)\n",
      "creating index...\n",
      "index created!\n",
      "Running per image evaluation...\n",
      "Evaluate annotation type *bbox*\n"
     ]
    },
    {
     "name": "stderr",
     "output_type": "stream",
     "text": [
      "2022-05-14 07:08:28,276 - mmdet - INFO - \n",
      " Average Precision  (AP) @[ IoU=0.50:0.95 | area=   all | maxDets=100 ] = 0.848\n",
      " Average Precision  (AP) @[ IoU=0.50      | area=   all | maxDets=1000 ] = 0.894\n",
      " Average Precision  (AP) @[ IoU=0.75      | area=   all | maxDets=1000 ] = 0.894\n",
      " Average Precision  (AP) @[ IoU=0.50:0.95 | area= small | maxDets=1000 ] = -1.000\n",
      " Average Precision  (AP) @[ IoU=0.50:0.95 | area=medium | maxDets=1000 ] = -1.000\n",
      " Average Precision  (AP) @[ IoU=0.50:0.95 | area= large | maxDets=1000 ] = 0.848\n",
      " Average Recall     (AR) @[ IoU=0.50:0.95 | area=   all | maxDets=100 ] = 0.956\n",
      " Average Recall     (AR) @[ IoU=0.50:0.95 | area=   all | maxDets=300 ] = 0.956\n",
      " Average Recall     (AR) @[ IoU=0.50:0.95 | area=   all | maxDets=1000 ] = 0.956\n",
      " Average Recall     (AR) @[ IoU=0.50:0.95 | area= small | maxDets=1000 ] = -1.000\n",
      " Average Recall     (AR) @[ IoU=0.50:0.95 | area=medium | maxDets=1000 ] = -1.000\n",
      " Average Recall     (AR) @[ IoU=0.50:0.95 | area= large | maxDets=1000 ] = 0.956\n",
      "\n",
      "2022-05-14 07:08:28,289 - mmdet - INFO - Epoch(val) [14][298]\tbbox_mAP: 0.8480, bbox_mAP_50: 0.8940, bbox_mAP_75: 0.8940, bbox_mAP_s: -1.0000, bbox_mAP_m: -1.0000, bbox_mAP_l: 0.8480, bbox_mAP_copypaste: 0.848 0.894 0.894 -1.000 -1.000 0.848\n"
     ]
    },
    {
     "name": "stdout",
     "output_type": "stream",
     "text": [
      "DONE (t=0.52s).\n",
      "Accumulating evaluation results...\n",
      "DONE (t=0.15s).\n"
     ]
    },
    {
     "name": "stderr",
     "output_type": "stream",
     "text": [
      "2022-05-14 07:08:54,733 - mmdet - INFO - Epoch [15][100/1352]\tlr: 2.500e-05, eta: 1:23:31, time: 0.263, data_time: 0.030, memory: 4029, loss_rpn_cls: 0.0024, loss_rpn_bbox: 0.0131, loss_cls: 0.0256, acc: 99.0547, loss_bbox: 0.0221, loss: 0.0633\n",
      "2022-05-14 07:09:18,619 - mmdet - INFO - Epoch [15][200/1352]\tlr: 2.500e-05, eta: 1:23:08, time: 0.239, data_time: 0.008, memory: 4029, loss_rpn_cls: 0.0022, loss_rpn_bbox: 0.0122, loss_cls: 0.0249, acc: 99.1016, loss_bbox: 0.0221, loss: 0.0615\n",
      "2022-05-14 07:09:42,747 - mmdet - INFO - Epoch [15][300/1352]\tlr: 2.500e-05, eta: 1:22:46, time: 0.241, data_time: 0.008, memory: 4029, loss_rpn_cls: 0.0028, loss_rpn_bbox: 0.0127, loss_cls: 0.0252, acc: 99.0488, loss_bbox: 0.0214, loss: 0.0621\n",
      "2022-05-14 07:10:06,883 - mmdet - INFO - Epoch [15][400/1352]\tlr: 2.500e-05, eta: 1:22:24, time: 0.241, data_time: 0.008, memory: 4029, loss_rpn_cls: 0.0027, loss_rpn_bbox: 0.0131, loss_cls: 0.0222, acc: 99.2002, loss_bbox: 0.0208, loss: 0.0588\n",
      "2022-05-14 07:10:31,045 - mmdet - INFO - Epoch [15][500/1352]\tlr: 2.500e-05, eta: 1:22:01, time: 0.242, data_time: 0.009, memory: 4029, loss_rpn_cls: 0.0030, loss_rpn_bbox: 0.0136, loss_cls: 0.0234, acc: 99.1348, loss_bbox: 0.0211, loss: 0.0611\n",
      "2022-05-14 07:10:55,246 - mmdet - INFO - Epoch [15][600/1352]\tlr: 2.500e-05, eta: 1:21:39, time: 0.242, data_time: 0.009, memory: 4029, loss_rpn_cls: 0.0025, loss_rpn_bbox: 0.0121, loss_cls: 0.0239, acc: 99.1465, loss_bbox: 0.0204, loss: 0.0590\n",
      "2022-05-14 07:11:19,052 - mmdet - INFO - Epoch [15][700/1352]\tlr: 2.500e-05, eta: 1:21:16, time: 0.238, data_time: 0.008, memory: 4029, loss_rpn_cls: 0.0025, loss_rpn_bbox: 0.0126, loss_cls: 0.0237, acc: 99.1318, loss_bbox: 0.0214, loss: 0.0603\n",
      "2022-05-14 07:11:43,077 - mmdet - INFO - Epoch [15][800/1352]\tlr: 2.500e-05, eta: 1:20:54, time: 0.240, data_time: 0.008, memory: 4029, loss_rpn_cls: 0.0023, loss_rpn_bbox: 0.0128, loss_cls: 0.0235, acc: 99.1270, loss_bbox: 0.0217, loss: 0.0603\n",
      "2022-05-14 07:12:07,275 - mmdet - INFO - Epoch [15][900/1352]\tlr: 2.500e-05, eta: 1:20:31, time: 0.242, data_time: 0.009, memory: 4029, loss_rpn_cls: 0.0030, loss_rpn_bbox: 0.0133, loss_cls: 0.0224, acc: 99.2031, loss_bbox: 0.0220, loss: 0.0606\n",
      "2022-05-14 07:12:31,088 - mmdet - INFO - Epoch [15][1000/1352]\tlr: 2.500e-05, eta: 1:20:08, time: 0.238, data_time: 0.009, memory: 4029, loss_rpn_cls: 0.0033, loss_rpn_bbox: 0.0130, loss_cls: 0.0239, acc: 99.1104, loss_bbox: 0.0217, loss: 0.0620\n",
      "2022-05-14 07:12:55,533 - mmdet - INFO - Epoch [15][1100/1352]\tlr: 2.500e-05, eta: 1:19:46, time: 0.244, data_time: 0.009, memory: 4029, loss_rpn_cls: 0.0028, loss_rpn_bbox: 0.0131, loss_cls: 0.0229, acc: 99.1836, loss_bbox: 0.0211, loss: 0.0599\n",
      "2022-05-14 07:13:19,622 - mmdet - INFO - Epoch [15][1200/1352]\tlr: 2.500e-05, eta: 1:19:24, time: 0.241, data_time: 0.009, memory: 4029, loss_rpn_cls: 0.0029, loss_rpn_bbox: 0.0130, loss_cls: 0.0229, acc: 99.1455, loss_bbox: 0.0207, loss: 0.0595\n",
      "2022-05-14 07:13:43,821 - mmdet - INFO - Epoch [15][1300/1352]\tlr: 2.500e-05, eta: 1:19:01, time: 0.242, data_time: 0.009, memory: 4029, loss_rpn_cls: 0.0029, loss_rpn_bbox: 0.0137, loss_cls: 0.0240, acc: 99.1523, loss_bbox: 0.0201, loss: 0.0606\n",
      "2022-05-14 07:13:56,297 - mmdet - INFO - Saving checkpoint at 15 epochs\n"
     ]
    },
    {
     "name": "stdout",
     "output_type": "stream",
     "text": [
      "[>>>>>>>>>>>>>>>>>>>>>>>>>>>>>] 298/298, 14.2 task/s, elapsed: 21s, ETA:     0s"
     ]
    },
    {
     "name": "stderr",
     "output_type": "stream",
     "text": [
      "2022-05-14 07:14:18,851 - mmdet - INFO - Evaluating bbox...\n"
     ]
    },
    {
     "name": "stdout",
     "output_type": "stream",
     "text": [
      "Loading and preparing results...\n",
      "DONE (t=0.00s)\n",
      "creating index...\n",
      "index created!\n",
      "Running per image evaluation...\n",
      "Evaluate annotation type *bbox*\n"
     ]
    },
    {
     "name": "stderr",
     "output_type": "stream",
     "text": [
      "2022-05-14 07:14:19,414 - mmdet - INFO - \n",
      " Average Precision  (AP) @[ IoU=0.50:0.95 | area=   all | maxDets=100 ] = 0.841\n",
      " Average Precision  (AP) @[ IoU=0.50      | area=   all | maxDets=1000 ] = 0.892\n",
      " Average Precision  (AP) @[ IoU=0.75      | area=   all | maxDets=1000 ] = 0.891\n",
      " Average Precision  (AP) @[ IoU=0.50:0.95 | area= small | maxDets=1000 ] = -1.000\n",
      " Average Precision  (AP) @[ IoU=0.50:0.95 | area=medium | maxDets=1000 ] = -1.000\n",
      " Average Precision  (AP) @[ IoU=0.50:0.95 | area= large | maxDets=1000 ] = 0.841\n",
      " Average Recall     (AR) @[ IoU=0.50:0.95 | area=   all | maxDets=100 ] = 0.951\n",
      " Average Recall     (AR) @[ IoU=0.50:0.95 | area=   all | maxDets=300 ] = 0.951\n",
      " Average Recall     (AR) @[ IoU=0.50:0.95 | area=   all | maxDets=1000 ] = 0.951\n",
      " Average Recall     (AR) @[ IoU=0.50:0.95 | area= small | maxDets=1000 ] = -1.000\n",
      " Average Recall     (AR) @[ IoU=0.50:0.95 | area=medium | maxDets=1000 ] = -1.000\n",
      " Average Recall     (AR) @[ IoU=0.50:0.95 | area= large | maxDets=1000 ] = 0.951\n",
      "\n",
      "2022-05-14 07:14:19,425 - mmdet - INFO - Epoch(val) [15][298]\tbbox_mAP: 0.8410, bbox_mAP_50: 0.8920, bbox_mAP_75: 0.8910, bbox_mAP_s: -1.0000, bbox_mAP_m: -1.0000, bbox_mAP_l: 0.8410, bbox_mAP_copypaste: 0.841 0.892 0.891 -1.000 -1.000 0.841\n"
     ]
    },
    {
     "name": "stdout",
     "output_type": "stream",
     "text": [
      "DONE (t=0.40s).\n",
      "Accumulating evaluation results...\n",
      "DONE (t=0.15s).\n"
     ]
    },
    {
     "name": "stderr",
     "output_type": "stream",
     "text": [
      "2022-05-14 07:14:45,817 - mmdet - INFO - Epoch [16][100/1352]\tlr: 2.500e-05, eta: 1:18:17, time: 0.263, data_time: 0.030, memory: 4029, loss_rpn_cls: 0.0026, loss_rpn_bbox: 0.0126, loss_cls: 0.0247, acc: 99.0986, loss_bbox: 0.0221, loss: 0.0620\n",
      "2022-05-14 07:15:09,569 - mmdet - INFO - Epoch [16][200/1352]\tlr: 2.500e-05, eta: 1:17:54, time: 0.238, data_time: 0.008, memory: 4029, loss_rpn_cls: 0.0023, loss_rpn_bbox: 0.0127, loss_cls: 0.0254, acc: 99.0205, loss_bbox: 0.0224, loss: 0.0628\n",
      "2022-05-14 07:15:33,610 - mmdet - INFO - Epoch [16][300/1352]\tlr: 2.500e-05, eta: 1:17:31, time: 0.240, data_time: 0.008, memory: 4029, loss_rpn_cls: 0.0027, loss_rpn_bbox: 0.0137, loss_cls: 0.0237, acc: 99.1211, loss_bbox: 0.0217, loss: 0.0617\n",
      "2022-05-14 07:15:57,712 - mmdet - INFO - Epoch [16][400/1352]\tlr: 2.500e-05, eta: 1:17:09, time: 0.241, data_time: 0.009, memory: 4029, loss_rpn_cls: 0.0026, loss_rpn_bbox: 0.0128, loss_cls: 0.0248, acc: 99.0830, loss_bbox: 0.0220, loss: 0.0623\n",
      "2022-05-14 07:16:21,752 - mmdet - INFO - Epoch [16][500/1352]\tlr: 2.500e-05, eta: 1:16:46, time: 0.240, data_time: 0.009, memory: 4029, loss_rpn_cls: 0.0026, loss_rpn_bbox: 0.0131, loss_cls: 0.0244, acc: 99.1104, loss_bbox: 0.0214, loss: 0.0615\n",
      "2022-05-14 07:16:46,131 - mmdet - INFO - Epoch [16][600/1352]\tlr: 2.500e-05, eta: 1:16:24, time: 0.244, data_time: 0.009, memory: 4029, loss_rpn_cls: 0.0025, loss_rpn_bbox: 0.0134, loss_cls: 0.0225, acc: 99.1650, loss_bbox: 0.0204, loss: 0.0588\n",
      "2022-05-14 07:17:09,951 - mmdet - INFO - Epoch [16][700/1352]\tlr: 2.500e-05, eta: 1:16:01, time: 0.238, data_time: 0.009, memory: 4029, loss_rpn_cls: 0.0026, loss_rpn_bbox: 0.0121, loss_cls: 0.0217, acc: 99.2139, loss_bbox: 0.0212, loss: 0.0576\n",
      "2022-05-14 07:17:33,935 - mmdet - INFO - Epoch [16][800/1352]\tlr: 2.500e-05, eta: 1:15:39, time: 0.240, data_time: 0.008, memory: 4029, loss_rpn_cls: 0.0020, loss_rpn_bbox: 0.0121, loss_cls: 0.0236, acc: 99.1182, loss_bbox: 0.0211, loss: 0.0588\n",
      "2022-05-14 07:17:58,140 - mmdet - INFO - Epoch [16][900/1352]\tlr: 2.500e-05, eta: 1:15:16, time: 0.242, data_time: 0.008, memory: 4029, loss_rpn_cls: 0.0024, loss_rpn_bbox: 0.0135, loss_cls: 0.0235, acc: 99.1318, loss_bbox: 0.0217, loss: 0.0611\n",
      "2022-05-14 07:18:21,977 - mmdet - INFO - Epoch [16][1000/1352]\tlr: 2.500e-05, eta: 1:14:53, time: 0.238, data_time: 0.009, memory: 4029, loss_rpn_cls: 0.0029, loss_rpn_bbox: 0.0122, loss_cls: 0.0232, acc: 99.1641, loss_bbox: 0.0215, loss: 0.0599\n",
      "2022-05-14 07:18:46,444 - mmdet - INFO - Epoch [16][1100/1352]\tlr: 2.500e-05, eta: 1:14:31, time: 0.244, data_time: 0.008, memory: 4029, loss_rpn_cls: 0.0027, loss_rpn_bbox: 0.0135, loss_cls: 0.0236, acc: 99.1523, loss_bbox: 0.0213, loss: 0.0612\n",
      "2022-05-14 07:19:10,614 - mmdet - INFO - Epoch [16][1200/1352]\tlr: 2.500e-05, eta: 1:14:09, time: 0.242, data_time: 0.009, memory: 4029, loss_rpn_cls: 0.0029, loss_rpn_bbox: 0.0140, loss_cls: 0.0230, acc: 99.2256, loss_bbox: 0.0212, loss: 0.0611\n",
      "2022-05-14 07:19:34,844 - mmdet - INFO - Epoch [16][1300/1352]\tlr: 2.500e-05, eta: 1:13:46, time: 0.242, data_time: 0.009, memory: 4029, loss_rpn_cls: 0.0028, loss_rpn_bbox: 0.0127, loss_cls: 0.0225, acc: 99.1680, loss_bbox: 0.0204, loss: 0.0584\n",
      "2022-05-14 07:19:47,392 - mmdet - INFO - Saving checkpoint at 16 epochs\n"
     ]
    },
    {
     "name": "stdout",
     "output_type": "stream",
     "text": [
      "[>>>>>>>>>>>>>>>>>>>>>>>>>>>>>] 298/298, 14.0 task/s, elapsed: 21s, ETA:     0s"
     ]
    },
    {
     "name": "stderr",
     "output_type": "stream",
     "text": [
      "2022-05-14 07:20:10,339 - mmdet - INFO - Evaluating bbox...\n"
     ]
    },
    {
     "name": "stdout",
     "output_type": "stream",
     "text": [
      "Loading and preparing results...\n",
      "DONE (t=0.00s)\n",
      "creating index...\n",
      "index created!\n",
      "Running per image evaluation...\n",
      "Evaluate annotation type *bbox*\n",
      "DONE (t=0.43s).\n",
      "Accumulating evaluation results...\n"
     ]
    },
    {
     "name": "stderr",
     "output_type": "stream",
     "text": [
      "2022-05-14 07:20:10,948 - mmdet - INFO - \n",
      " Average Precision  (AP) @[ IoU=0.50:0.95 | area=   all | maxDets=100 ] = 0.841\n",
      " Average Precision  (AP) @[ IoU=0.50      | area=   all | maxDets=1000 ] = 0.889\n",
      " Average Precision  (AP) @[ IoU=0.75      | area=   all | maxDets=1000 ] = 0.888\n",
      " Average Precision  (AP) @[ IoU=0.50:0.95 | area= small | maxDets=1000 ] = -1.000\n",
      " Average Precision  (AP) @[ IoU=0.50:0.95 | area=medium | maxDets=1000 ] = -1.000\n",
      " Average Precision  (AP) @[ IoU=0.50:0.95 | area= large | maxDets=1000 ] = 0.841\n",
      " Average Recall     (AR) @[ IoU=0.50:0.95 | area=   all | maxDets=100 ] = 0.952\n",
      " Average Recall     (AR) @[ IoU=0.50:0.95 | area=   all | maxDets=300 ] = 0.952\n",
      " Average Recall     (AR) @[ IoU=0.50:0.95 | area=   all | maxDets=1000 ] = 0.952\n",
      " Average Recall     (AR) @[ IoU=0.50:0.95 | area= small | maxDets=1000 ] = -1.000\n",
      " Average Recall     (AR) @[ IoU=0.50:0.95 | area=medium | maxDets=1000 ] = -1.000\n",
      " Average Recall     (AR) @[ IoU=0.50:0.95 | area= large | maxDets=1000 ] = 0.952\n",
      "\n",
      "2022-05-14 07:20:10,962 - mmdet - INFO - Epoch(val) [16][298]\tbbox_mAP: 0.8410, bbox_mAP_50: 0.8890, bbox_mAP_75: 0.8880, bbox_mAP_s: -1.0000, bbox_mAP_m: -1.0000, bbox_mAP_l: 0.8410, bbox_mAP_copypaste: 0.841 0.889 0.888 -1.000 -1.000 0.841\n"
     ]
    },
    {
     "name": "stdout",
     "output_type": "stream",
     "text": [
      "DONE (t=0.17s).\n"
     ]
    },
    {
     "name": "stderr",
     "output_type": "stream",
     "text": [
      "2022-05-14 07:20:37,354 - mmdet - INFO - Epoch [17][100/1352]\tlr: 2.500e-05, eta: 1:13:03, time: 0.263, data_time: 0.030, memory: 4029, loss_rpn_cls: 0.0028, loss_rpn_bbox: 0.0123, loss_cls: 0.0226, acc: 99.2109, loss_bbox: 0.0214, loss: 0.0591\n",
      "2022-05-14 07:21:01,195 - mmdet - INFO - Epoch [17][200/1352]\tlr: 2.500e-05, eta: 1:12:40, time: 0.238, data_time: 0.009, memory: 4029, loss_rpn_cls: 0.0027, loss_rpn_bbox: 0.0123, loss_cls: 0.0231, acc: 99.1230, loss_bbox: 0.0214, loss: 0.0594\n",
      "2022-05-14 07:21:25,306 - mmdet - INFO - Epoch [17][300/1352]\tlr: 2.500e-05, eta: 1:12:17, time: 0.241, data_time: 0.009, memory: 4029, loss_rpn_cls: 0.0026, loss_rpn_bbox: 0.0126, loss_cls: 0.0264, acc: 99.0498, loss_bbox: 0.0222, loss: 0.0639\n",
      "2022-05-14 07:21:49,418 - mmdet - INFO - Epoch [17][400/1352]\tlr: 2.500e-05, eta: 1:11:55, time: 0.241, data_time: 0.009, memory: 4029, loss_rpn_cls: 0.0024, loss_rpn_bbox: 0.0115, loss_cls: 0.0235, acc: 99.1602, loss_bbox: 0.0213, loss: 0.0586\n",
      "2022-05-14 07:22:13,563 - mmdet - INFO - Epoch [17][500/1352]\tlr: 2.500e-05, eta: 1:11:32, time: 0.241, data_time: 0.009, memory: 4029, loss_rpn_cls: 0.0027, loss_rpn_bbox: 0.0134, loss_cls: 0.0225, acc: 99.1875, loss_bbox: 0.0205, loss: 0.0591\n",
      "2022-05-14 07:22:37,733 - mmdet - INFO - Epoch [17][600/1352]\tlr: 2.500e-05, eta: 1:11:10, time: 0.242, data_time: 0.009, memory: 4029, loss_rpn_cls: 0.0028, loss_rpn_bbox: 0.0115, loss_cls: 0.0230, acc: 99.1650, loss_bbox: 0.0210, loss: 0.0584\n",
      "2022-05-14 07:23:01,513 - mmdet - INFO - Epoch [17][700/1352]\tlr: 2.500e-05, eta: 1:10:47, time: 0.238, data_time: 0.008, memory: 4029, loss_rpn_cls: 0.0023, loss_rpn_bbox: 0.0107, loss_cls: 0.0219, acc: 99.2637, loss_bbox: 0.0209, loss: 0.0558\n",
      "2022-05-14 07:23:25,498 - mmdet - INFO - Epoch [17][800/1352]\tlr: 2.500e-05, eta: 1:10:24, time: 0.240, data_time: 0.009, memory: 4029, loss_rpn_cls: 0.0023, loss_rpn_bbox: 0.0121, loss_cls: 0.0245, acc: 99.1357, loss_bbox: 0.0208, loss: 0.0596\n",
      "2022-05-14 07:23:49,767 - mmdet - INFO - Epoch [17][900/1352]\tlr: 2.500e-05, eta: 1:10:01, time: 0.242, data_time: 0.008, memory: 4029, loss_rpn_cls: 0.0024, loss_rpn_bbox: 0.0129, loss_cls: 0.0225, acc: 99.2070, loss_bbox: 0.0212, loss: 0.0590\n",
      "2022-05-14 07:24:13,535 - mmdet - INFO - Epoch [17][1000/1352]\tlr: 2.500e-05, eta: 1:09:38, time: 0.238, data_time: 0.008, memory: 4029, loss_rpn_cls: 0.0023, loss_rpn_bbox: 0.0139, loss_cls: 0.0242, acc: 99.0400, loss_bbox: 0.0209, loss: 0.0613\n",
      "2022-05-14 07:24:37,904 - mmdet - INFO - Epoch [17][1100/1352]\tlr: 2.500e-05, eta: 1:09:16, time: 0.243, data_time: 0.009, memory: 4029, loss_rpn_cls: 0.0024, loss_rpn_bbox: 0.0130, loss_cls: 0.0225, acc: 99.1758, loss_bbox: 0.0217, loss: 0.0596\n",
      "2022-05-14 07:25:02,004 - mmdet - INFO - Epoch [17][1200/1352]\tlr: 2.500e-05, eta: 1:08:53, time: 0.241, data_time: 0.009, memory: 4029, loss_rpn_cls: 0.0030, loss_rpn_bbox: 0.0132, loss_cls: 0.0226, acc: 99.1816, loss_bbox: 0.0212, loss: 0.0601\n",
      "2022-05-14 07:25:26,216 - mmdet - INFO - Epoch [17][1300/1352]\tlr: 2.500e-05, eta: 1:08:31, time: 0.242, data_time: 0.009, memory: 4029, loss_rpn_cls: 0.0027, loss_rpn_bbox: 0.0135, loss_cls: 0.0258, acc: 99.0566, loss_bbox: 0.0215, loss: 0.0635\n",
      "2022-05-14 07:25:38,725 - mmdet - INFO - Saving checkpoint at 17 epochs\n"
     ]
    },
    {
     "name": "stdout",
     "output_type": "stream",
     "text": [
      "[>>>>>>>>>>>>>>>>>>>>>>>>>>>>>] 298/298, 14.0 task/s, elapsed: 21s, ETA:     0s"
     ]
    },
    {
     "name": "stderr",
     "output_type": "stream",
     "text": [
      "2022-05-14 07:26:01,649 - mmdet - INFO - Evaluating bbox...\n"
     ]
    },
    {
     "name": "stdout",
     "output_type": "stream",
     "text": [
      "Loading and preparing results...\n",
      "DONE (t=0.00s)\n",
      "creating index...\n",
      "index created!\n",
      "Running per image evaluation...\n",
      "Evaluate annotation type *bbox*\n"
     ]
    },
    {
     "name": "stderr",
     "output_type": "stream",
     "text": [
      "2022-05-14 07:26:02,338 - mmdet - INFO - \n",
      " Average Precision  (AP) @[ IoU=0.50:0.95 | area=   all | maxDets=100 ] = 0.846\n",
      " Average Precision  (AP) @[ IoU=0.50      | area=   all | maxDets=1000 ] = 0.893\n",
      " Average Precision  (AP) @[ IoU=0.75      | area=   all | maxDets=1000 ] = 0.891\n",
      " Average Precision  (AP) @[ IoU=0.50:0.95 | area= small | maxDets=1000 ] = -1.000\n",
      " Average Precision  (AP) @[ IoU=0.50:0.95 | area=medium | maxDets=1000 ] = -1.000\n",
      " Average Precision  (AP) @[ IoU=0.50:0.95 | area= large | maxDets=1000 ] = 0.846\n",
      " Average Recall     (AR) @[ IoU=0.50:0.95 | area=   all | maxDets=100 ] = 0.953\n",
      " Average Recall     (AR) @[ IoU=0.50:0.95 | area=   all | maxDets=300 ] = 0.953\n",
      " Average Recall     (AR) @[ IoU=0.50:0.95 | area=   all | maxDets=1000 ] = 0.953\n",
      " Average Recall     (AR) @[ IoU=0.50:0.95 | area= small | maxDets=1000 ] = -1.000\n",
      " Average Recall     (AR) @[ IoU=0.50:0.95 | area=medium | maxDets=1000 ] = -1.000\n",
      " Average Recall     (AR) @[ IoU=0.50:0.95 | area= large | maxDets=1000 ] = 0.953\n",
      "\n",
      "2022-05-14 07:26:02,353 - mmdet - INFO - Epoch(val) [17][298]\tbbox_mAP: 0.8460, bbox_mAP_50: 0.8930, bbox_mAP_75: 0.8910, bbox_mAP_s: -1.0000, bbox_mAP_m: -1.0000, bbox_mAP_l: 0.8460, bbox_mAP_copypaste: 0.846 0.893 0.891 -1.000 -1.000 0.846\n"
     ]
    },
    {
     "name": "stdout",
     "output_type": "stream",
     "text": [
      "DONE (t=0.52s).\n",
      "Accumulating evaluation results...\n",
      "DONE (t=0.16s).\n"
     ]
    },
    {
     "name": "stderr",
     "output_type": "stream",
     "text": [
      "2022-05-14 07:26:28,780 - mmdet - INFO - Epoch [18][100/1352]\tlr: 2.500e-05, eta: 1:07:48, time: 0.263, data_time: 0.030, memory: 4029, loss_rpn_cls: 0.0032, loss_rpn_bbox: 0.0129, loss_cls: 0.0224, acc: 99.1904, loss_bbox: 0.0213, loss: 0.0597\n",
      "2022-05-14 07:26:52,591 - mmdet - INFO - Epoch [18][200/1352]\tlr: 2.500e-05, eta: 1:07:25, time: 0.238, data_time: 0.009, memory: 4029, loss_rpn_cls: 0.0028, loss_rpn_bbox: 0.0130, loss_cls: 0.0242, acc: 99.0898, loss_bbox: 0.0219, loss: 0.0619\n",
      "2022-05-14 07:27:16,723 - mmdet - INFO - Epoch [18][300/1352]\tlr: 2.500e-05, eta: 1:07:03, time: 0.241, data_time: 0.008, memory: 4029, loss_rpn_cls: 0.0028, loss_rpn_bbox: 0.0127, loss_cls: 0.0240, acc: 99.1641, loss_bbox: 0.0208, loss: 0.0603\n",
      "2022-05-14 07:27:40,869 - mmdet - INFO - Epoch [18][400/1352]\tlr: 2.500e-05, eta: 1:06:40, time: 0.241, data_time: 0.009, memory: 4029, loss_rpn_cls: 0.0025, loss_rpn_bbox: 0.0129, loss_cls: 0.0235, acc: 99.1523, loss_bbox: 0.0211, loss: 0.0600\n",
      "2022-05-14 07:28:04,946 - mmdet - INFO - Epoch [18][500/1352]\tlr: 2.500e-05, eta: 1:06:17, time: 0.241, data_time: 0.009, memory: 4029, loss_rpn_cls: 0.0025, loss_rpn_bbox: 0.0130, loss_cls: 0.0231, acc: 99.1299, loss_bbox: 0.0210, loss: 0.0595\n",
      "2022-05-14 07:28:29,169 - mmdet - INFO - Epoch [18][600/1352]\tlr: 2.500e-05, eta: 1:05:55, time: 0.242, data_time: 0.009, memory: 4029, loss_rpn_cls: 0.0024, loss_rpn_bbox: 0.0132, loss_cls: 0.0247, acc: 99.0742, loss_bbox: 0.0214, loss: 0.0618\n",
      "2022-05-14 07:28:52,917 - mmdet - INFO - Epoch [18][700/1352]\tlr: 2.500e-05, eta: 1:05:32, time: 0.238, data_time: 0.008, memory: 4029, loss_rpn_cls: 0.0028, loss_rpn_bbox: 0.0113, loss_cls: 0.0228, acc: 99.1738, loss_bbox: 0.0215, loss: 0.0584\n",
      "2022-05-14 07:29:16,885 - mmdet - INFO - Epoch [18][800/1352]\tlr: 2.500e-05, eta: 1:05:09, time: 0.240, data_time: 0.009, memory: 4029, loss_rpn_cls: 0.0026, loss_rpn_bbox: 0.0121, loss_cls: 0.0209, acc: 99.2422, loss_bbox: 0.0208, loss: 0.0564\n",
      "2022-05-14 07:29:41,068 - mmdet - INFO - Epoch [18][900/1352]\tlr: 2.500e-05, eta: 1:04:46, time: 0.242, data_time: 0.008, memory: 4029, loss_rpn_cls: 0.0027, loss_rpn_bbox: 0.0125, loss_cls: 0.0228, acc: 99.1250, loss_bbox: 0.0204, loss: 0.0584\n",
      "2022-05-14 07:30:04,837 - mmdet - INFO - Epoch [18][1000/1352]\tlr: 2.500e-05, eta: 1:04:23, time: 0.238, data_time: 0.009, memory: 4029, loss_rpn_cls: 0.0022, loss_rpn_bbox: 0.0128, loss_cls: 0.0234, acc: 99.1240, loss_bbox: 0.0204, loss: 0.0588\n",
      "2022-05-14 07:30:29,252 - mmdet - INFO - Epoch [18][1100/1352]\tlr: 2.500e-05, eta: 1:04:01, time: 0.244, data_time: 0.009, memory: 4029, loss_rpn_cls: 0.0027, loss_rpn_bbox: 0.0135, loss_cls: 0.0223, acc: 99.1758, loss_bbox: 0.0205, loss: 0.0590\n",
      "2022-05-14 07:30:53,350 - mmdet - INFO - Epoch [18][1200/1352]\tlr: 2.500e-05, eta: 1:03:38, time: 0.241, data_time: 0.009, memory: 4029, loss_rpn_cls: 0.0027, loss_rpn_bbox: 0.0128, loss_cls: 0.0209, acc: 99.1992, loss_bbox: 0.0209, loss: 0.0574\n",
      "2022-05-14 07:31:17,561 - mmdet - INFO - Epoch [18][1300/1352]\tlr: 2.500e-05, eta: 1:03:15, time: 0.242, data_time: 0.009, memory: 4029, loss_rpn_cls: 0.0022, loss_rpn_bbox: 0.0140, loss_cls: 0.0240, acc: 99.1426, loss_bbox: 0.0213, loss: 0.0616\n",
      "2022-05-14 07:31:30,024 - mmdet - INFO - Saving checkpoint at 18 epochs\n"
     ]
    },
    {
     "name": "stdout",
     "output_type": "stream",
     "text": [
      "[>>>>>>>>>>>>>>>>>>>>>>>>>>>>>] 298/298, 14.0 task/s, elapsed: 21s, ETA:     0s"
     ]
    },
    {
     "name": "stderr",
     "output_type": "stream",
     "text": [
      "2022-05-14 07:31:52,931 - mmdet - INFO - Evaluating bbox...\n"
     ]
    },
    {
     "name": "stdout",
     "output_type": "stream",
     "text": [
      "Loading and preparing results...\n",
      "DONE (t=0.01s)\n",
      "creating index...\n",
      "index created!\n",
      "Running per image evaluation...\n",
      "Evaluate annotation type *bbox*\n"
     ]
    },
    {
     "name": "stderr",
     "output_type": "stream",
     "text": [
      "2022-05-14 07:31:53,491 - mmdet - INFO - \n",
      " Average Precision  (AP) @[ IoU=0.50:0.95 | area=   all | maxDets=100 ] = 0.843\n",
      " Average Precision  (AP) @[ IoU=0.50      | area=   all | maxDets=1000 ] = 0.891\n",
      " Average Precision  (AP) @[ IoU=0.75      | area=   all | maxDets=1000 ] = 0.890\n",
      " Average Precision  (AP) @[ IoU=0.50:0.95 | area= small | maxDets=1000 ] = -1.000\n",
      " Average Precision  (AP) @[ IoU=0.50:0.95 | area=medium | maxDets=1000 ] = -1.000\n",
      " Average Precision  (AP) @[ IoU=0.50:0.95 | area= large | maxDets=1000 ] = 0.843\n",
      " Average Recall     (AR) @[ IoU=0.50:0.95 | area=   all | maxDets=100 ] = 0.953\n",
      " Average Recall     (AR) @[ IoU=0.50:0.95 | area=   all | maxDets=300 ] = 0.953\n",
      " Average Recall     (AR) @[ IoU=0.50:0.95 | area=   all | maxDets=1000 ] = 0.953\n",
      " Average Recall     (AR) @[ IoU=0.50:0.95 | area= small | maxDets=1000 ] = -1.000\n",
      " Average Recall     (AR) @[ IoU=0.50:0.95 | area=medium | maxDets=1000 ] = -1.000\n",
      " Average Recall     (AR) @[ IoU=0.50:0.95 | area= large | maxDets=1000 ] = 0.953\n",
      "\n",
      "2022-05-14 07:31:53,505 - mmdet - INFO - Epoch(val) [18][298]\tbbox_mAP: 0.8430, bbox_mAP_50: 0.8910, bbox_mAP_75: 0.8900, bbox_mAP_s: -1.0000, bbox_mAP_m: -1.0000, bbox_mAP_l: 0.8430, bbox_mAP_copypaste: 0.843 0.891 0.890 -1.000 -1.000 0.843\n"
     ]
    },
    {
     "name": "stdout",
     "output_type": "stream",
     "text": [
      "DONE (t=0.39s).\n",
      "Accumulating evaluation results...\n",
      "DONE (t=0.15s).\n"
     ]
    },
    {
     "name": "stderr",
     "output_type": "stream",
     "text": [
      "2022-05-14 07:32:19,874 - mmdet - INFO - Epoch [19][100/1352]\tlr: 2.500e-05, eta: 1:02:34, time: 0.262, data_time: 0.030, memory: 4029, loss_rpn_cls: 0.0027, loss_rpn_bbox: 0.0126, loss_cls: 0.0226, acc: 99.1953, loss_bbox: 0.0206, loss: 0.0585\n",
      "2022-05-14 07:32:43,710 - mmdet - INFO - Epoch [19][200/1352]\tlr: 2.500e-05, eta: 1:02:11, time: 0.238, data_time: 0.008, memory: 4029, loss_rpn_cls: 0.0033, loss_rpn_bbox: 0.0120, loss_cls: 0.0235, acc: 99.1934, loss_bbox: 0.0212, loss: 0.0600\n",
      "2022-05-14 07:33:07,780 - mmdet - INFO - Epoch [19][300/1352]\tlr: 2.500e-05, eta: 1:01:48, time: 0.241, data_time: 0.008, memory: 4029, loss_rpn_cls: 0.0025, loss_rpn_bbox: 0.0119, loss_cls: 0.0240, acc: 99.1055, loss_bbox: 0.0215, loss: 0.0600\n",
      "2022-05-14 07:33:31,870 - mmdet - INFO - Epoch [19][400/1352]\tlr: 2.500e-05, eta: 1:01:25, time: 0.241, data_time: 0.009, memory: 4029, loss_rpn_cls: 0.0026, loss_rpn_bbox: 0.0134, loss_cls: 0.0222, acc: 99.1602, loss_bbox: 0.0218, loss: 0.0600\n",
      "2022-05-14 07:33:56,039 - mmdet - INFO - Epoch [19][500/1352]\tlr: 2.500e-05, eta: 1:01:02, time: 0.242, data_time: 0.009, memory: 4029, loss_rpn_cls: 0.0024, loss_rpn_bbox: 0.0127, loss_cls: 0.0255, acc: 99.0801, loss_bbox: 0.0207, loss: 0.0612\n",
      "2022-05-14 07:34:20,156 - mmdet - INFO - Epoch [19][600/1352]\tlr: 2.500e-05, eta: 1:00:40, time: 0.241, data_time: 0.008, memory: 4029, loss_rpn_cls: 0.0022, loss_rpn_bbox: 0.0134, loss_cls: 0.0240, acc: 99.0811, loss_bbox: 0.0210, loss: 0.0606\n",
      "2022-05-14 07:34:43,907 - mmdet - INFO - Epoch [19][700/1352]\tlr: 2.500e-05, eta: 1:00:17, time: 0.238, data_time: 0.009, memory: 4029, loss_rpn_cls: 0.0023, loss_rpn_bbox: 0.0125, loss_cls: 0.0215, acc: 99.1797, loss_bbox: 0.0209, loss: 0.0573\n",
      "2022-05-14 07:35:07,917 - mmdet - INFO - Epoch [19][800/1352]\tlr: 2.500e-05, eta: 0:59:54, time: 0.240, data_time: 0.009, memory: 4029, loss_rpn_cls: 0.0036, loss_rpn_bbox: 0.0126, loss_cls: 0.0223, acc: 99.1914, loss_bbox: 0.0211, loss: 0.0595\n",
      "2022-05-14 07:35:32,134 - mmdet - INFO - Epoch [19][900/1352]\tlr: 2.500e-05, eta: 0:59:31, time: 0.242, data_time: 0.008, memory: 4029, loss_rpn_cls: 0.0030, loss_rpn_bbox: 0.0132, loss_cls: 0.0226, acc: 99.1514, loss_bbox: 0.0206, loss: 0.0595\n",
      "2022-05-14 07:35:55,914 - mmdet - INFO - Epoch [19][1000/1352]\tlr: 2.500e-05, eta: 0:59:08, time: 0.238, data_time: 0.009, memory: 4029, loss_rpn_cls: 0.0022, loss_rpn_bbox: 0.0121, loss_cls: 0.0204, acc: 99.2432, loss_bbox: 0.0208, loss: 0.0556\n",
      "2022-05-14 07:36:20,346 - mmdet - INFO - Epoch [19][1100/1352]\tlr: 2.500e-05, eta: 0:58:45, time: 0.244, data_time: 0.009, memory: 4029, loss_rpn_cls: 0.0027, loss_rpn_bbox: 0.0129, loss_cls: 0.0245, acc: 99.1211, loss_bbox: 0.0214, loss: 0.0615\n",
      "2022-05-14 07:36:44,413 - mmdet - INFO - Epoch [19][1200/1352]\tlr: 2.500e-05, eta: 0:58:22, time: 0.241, data_time: 0.009, memory: 4029, loss_rpn_cls: 0.0021, loss_rpn_bbox: 0.0128, loss_cls: 0.0217, acc: 99.2197, loss_bbox: 0.0211, loss: 0.0577\n",
      "2022-05-14 07:37:08,525 - mmdet - INFO - Epoch [19][1300/1352]\tlr: 2.500e-05, eta: 0:58:00, time: 0.241, data_time: 0.009, memory: 4029, loss_rpn_cls: 0.0027, loss_rpn_bbox: 0.0130, loss_cls: 0.0264, acc: 99.0215, loss_bbox: 0.0208, loss: 0.0628\n",
      "2022-05-14 07:37:21,004 - mmdet - INFO - Saving checkpoint at 19 epochs\n"
     ]
    },
    {
     "name": "stdout",
     "output_type": "stream",
     "text": [
      "[>>>>>>>>>>>>>>>>>>>>>>>>>>>>>] 298/298, 14.0 task/s, elapsed: 21s, ETA:     0s"
     ]
    },
    {
     "name": "stderr",
     "output_type": "stream",
     "text": [
      "2022-05-14 07:37:43,881 - mmdet - INFO - Evaluating bbox...\n"
     ]
    },
    {
     "name": "stdout",
     "output_type": "stream",
     "text": [
      "Loading and preparing results...\n",
      "DONE (t=0.00s)\n",
      "creating index...\n",
      "index created!\n",
      "Running per image evaluation...\n",
      "Evaluate annotation type *bbox*\n"
     ]
    },
    {
     "name": "stderr",
     "output_type": "stream",
     "text": [
      "2022-05-14 07:37:44,570 - mmdet - INFO - \n",
      " Average Precision  (AP) @[ IoU=0.50:0.95 | area=   all | maxDets=100 ] = 0.841\n",
      " Average Precision  (AP) @[ IoU=0.50      | area=   all | maxDets=1000 ] = 0.888\n",
      " Average Precision  (AP) @[ IoU=0.75      | area=   all | maxDets=1000 ] = 0.883\n",
      " Average Precision  (AP) @[ IoU=0.50:0.95 | area= small | maxDets=1000 ] = -1.000\n",
      " Average Precision  (AP) @[ IoU=0.50:0.95 | area=medium | maxDets=1000 ] = -1.000\n",
      " Average Precision  (AP) @[ IoU=0.50:0.95 | area= large | maxDets=1000 ] = 0.841\n",
      " Average Recall     (AR) @[ IoU=0.50:0.95 | area=   all | maxDets=100 ] = 0.953\n",
      " Average Recall     (AR) @[ IoU=0.50:0.95 | area=   all | maxDets=300 ] = 0.953\n",
      " Average Recall     (AR) @[ IoU=0.50:0.95 | area=   all | maxDets=1000 ] = 0.953\n",
      " Average Recall     (AR) @[ IoU=0.50:0.95 | area= small | maxDets=1000 ] = -1.000\n",
      " Average Recall     (AR) @[ IoU=0.50:0.95 | area=medium | maxDets=1000 ] = -1.000\n",
      " Average Recall     (AR) @[ IoU=0.50:0.95 | area= large | maxDets=1000 ] = 0.953\n",
      "\n",
      "2022-05-14 07:37:44,584 - mmdet - INFO - Epoch(val) [19][298]\tbbox_mAP: 0.8410, bbox_mAP_50: 0.8880, bbox_mAP_75: 0.8830, bbox_mAP_s: -1.0000, bbox_mAP_m: -1.0000, bbox_mAP_l: 0.8410, bbox_mAP_copypaste: 0.841 0.888 0.883 -1.000 -1.000 0.841\n"
     ]
    },
    {
     "name": "stdout",
     "output_type": "stream",
     "text": [
      "DONE (t=0.52s).\n",
      "Accumulating evaluation results...\n",
      "DONE (t=0.16s).\n"
     ]
    },
    {
     "name": "stderr",
     "output_type": "stream",
     "text": [
      "2022-05-14 07:38:10,949 - mmdet - INFO - Epoch [20][100/1352]\tlr: 2.500e-05, eta: 0:57:19, time: 0.262, data_time: 0.030, memory: 4029, loss_rpn_cls: 0.0028, loss_rpn_bbox: 0.0128, loss_cls: 0.0254, acc: 99.0928, loss_bbox: 0.0218, loss: 0.0629\n",
      "2022-05-14 07:38:34,732 - mmdet - INFO - Epoch [20][200/1352]\tlr: 2.500e-05, eta: 0:56:56, time: 0.238, data_time: 0.008, memory: 4029, loss_rpn_cls: 0.0025, loss_rpn_bbox: 0.0130, loss_cls: 0.0218, acc: 99.2100, loss_bbox: 0.0211, loss: 0.0584\n",
      "2022-05-14 07:38:58,817 - mmdet - INFO - Epoch [20][300/1352]\tlr: 2.500e-05, eta: 0:56:33, time: 0.241, data_time: 0.009, memory: 4029, loss_rpn_cls: 0.0025, loss_rpn_bbox: 0.0135, loss_cls: 0.0238, acc: 99.1299, loss_bbox: 0.0215, loss: 0.0614\n",
      "2022-05-14 07:39:22,944 - mmdet - INFO - Epoch [20][400/1352]\tlr: 2.500e-05, eta: 0:56:10, time: 0.241, data_time: 0.008, memory: 4029, loss_rpn_cls: 0.0024, loss_rpn_bbox: 0.0124, loss_cls: 0.0230, acc: 99.1523, loss_bbox: 0.0216, loss: 0.0594\n",
      "2022-05-14 07:39:47,012 - mmdet - INFO - Epoch [20][500/1352]\tlr: 2.500e-05, eta: 0:55:47, time: 0.241, data_time: 0.009, memory: 4029, loss_rpn_cls: 0.0026, loss_rpn_bbox: 0.0147, loss_cls: 0.0235, acc: 99.1055, loss_bbox: 0.0208, loss: 0.0616\n",
      "2022-05-14 07:40:11,093 - mmdet - INFO - Epoch [20][600/1352]\tlr: 2.500e-05, eta: 0:55:25, time: 0.241, data_time: 0.008, memory: 4029, loss_rpn_cls: 0.0023, loss_rpn_bbox: 0.0132, loss_cls: 0.0223, acc: 99.2285, loss_bbox: 0.0204, loss: 0.0581\n",
      "2022-05-14 07:40:34,883 - mmdet - INFO - Epoch [20][700/1352]\tlr: 2.500e-05, eta: 0:55:01, time: 0.238, data_time: 0.009, memory: 4029, loss_rpn_cls: 0.0027, loss_rpn_bbox: 0.0123, loss_cls: 0.0232, acc: 99.1240, loss_bbox: 0.0209, loss: 0.0590\n",
      "2022-05-14 07:40:58,848 - mmdet - INFO - Epoch [20][800/1352]\tlr: 2.500e-05, eta: 0:54:39, time: 0.240, data_time: 0.009, memory: 4029, loss_rpn_cls: 0.0028, loss_rpn_bbox: 0.0128, loss_cls: 0.0223, acc: 99.2051, loss_bbox: 0.0205, loss: 0.0584\n",
      "2022-05-14 07:41:23,110 - mmdet - INFO - Epoch [20][900/1352]\tlr: 2.500e-05, eta: 0:54:16, time: 0.242, data_time: 0.009, memory: 4029, loss_rpn_cls: 0.0021, loss_rpn_bbox: 0.0137, loss_cls: 0.0238, acc: 99.1670, loss_bbox: 0.0210, loss: 0.0606\n",
      "2022-05-14 07:41:46,903 - mmdet - INFO - Epoch [20][1000/1352]\tlr: 2.500e-05, eta: 0:53:53, time: 0.238, data_time: 0.009, memory: 4029, loss_rpn_cls: 0.0028, loss_rpn_bbox: 0.0123, loss_cls: 0.0243, acc: 99.0879, loss_bbox: 0.0207, loss: 0.0600\n",
      "2022-05-14 07:42:11,269 - mmdet - INFO - Epoch [20][1100/1352]\tlr: 2.500e-05, eta: 0:53:30, time: 0.243, data_time: 0.008, memory: 4029, loss_rpn_cls: 0.0034, loss_rpn_bbox: 0.0130, loss_cls: 0.0220, acc: 99.2236, loss_bbox: 0.0207, loss: 0.0591\n",
      "2022-05-14 07:42:35,318 - mmdet - INFO - Epoch [20][1200/1352]\tlr: 2.500e-05, eta: 0:53:07, time: 0.241, data_time: 0.009, memory: 4029, loss_rpn_cls: 0.0024, loss_rpn_bbox: 0.0122, loss_cls: 0.0230, acc: 99.1572, loss_bbox: 0.0210, loss: 0.0585\n",
      "2022-05-14 07:42:59,487 - mmdet - INFO - Epoch [20][1300/1352]\tlr: 2.500e-05, eta: 0:52:44, time: 0.242, data_time: 0.009, memory: 4029, loss_rpn_cls: 0.0030, loss_rpn_bbox: 0.0124, loss_cls: 0.0220, acc: 99.1582, loss_bbox: 0.0201, loss: 0.0575\n",
      "2022-05-14 07:43:11,932 - mmdet - INFO - Saving checkpoint at 20 epochs\n"
     ]
    },
    {
     "name": "stdout",
     "output_type": "stream",
     "text": [
      "[>>>>>>>>>>>>>>>>>>>>>>>>>>>>>] 298/298, 14.2 task/s, elapsed: 21s, ETA:     0s"
     ]
    },
    {
     "name": "stderr",
     "output_type": "stream",
     "text": [
      "2022-05-14 07:43:34,603 - mmdet - INFO - Evaluating bbox...\n"
     ]
    },
    {
     "name": "stdout",
     "output_type": "stream",
     "text": [
      "Loading and preparing results...\n",
      "DONE (t=0.00s)\n",
      "creating index...\n",
      "index created!\n",
      "Running per image evaluation...\n",
      "Evaluate annotation type *bbox*\n"
     ]
    },
    {
     "name": "stderr",
     "output_type": "stream",
     "text": [
      "2022-05-14 07:43:35,156 - mmdet - INFO - \n",
      " Average Precision  (AP) @[ IoU=0.50:0.95 | area=   all | maxDets=100 ] = 0.844\n",
      " Average Precision  (AP) @[ IoU=0.50      | area=   all | maxDets=1000 ] = 0.891\n",
      " Average Precision  (AP) @[ IoU=0.75      | area=   all | maxDets=1000 ] = 0.891\n",
      " Average Precision  (AP) @[ IoU=0.50:0.95 | area= small | maxDets=1000 ] = -1.000\n",
      " Average Precision  (AP) @[ IoU=0.50:0.95 | area=medium | maxDets=1000 ] = -1.000\n",
      " Average Precision  (AP) @[ IoU=0.50:0.95 | area= large | maxDets=1000 ] = 0.844\n",
      " Average Recall     (AR) @[ IoU=0.50:0.95 | area=   all | maxDets=100 ] = 0.957\n",
      " Average Recall     (AR) @[ IoU=0.50:0.95 | area=   all | maxDets=300 ] = 0.957\n",
      " Average Recall     (AR) @[ IoU=0.50:0.95 | area=   all | maxDets=1000 ] = 0.957\n",
      " Average Recall     (AR) @[ IoU=0.50:0.95 | area= small | maxDets=1000 ] = -1.000\n",
      " Average Recall     (AR) @[ IoU=0.50:0.95 | area=medium | maxDets=1000 ] = -1.000\n",
      " Average Recall     (AR) @[ IoU=0.50:0.95 | area= large | maxDets=1000 ] = 0.957\n",
      "\n",
      "2022-05-14 07:43:35,168 - mmdet - INFO - Epoch(val) [20][298]\tbbox_mAP: 0.8440, bbox_mAP_50: 0.8910, bbox_mAP_75: 0.8910, bbox_mAP_s: -1.0000, bbox_mAP_m: -1.0000, bbox_mAP_l: 0.8440, bbox_mAP_copypaste: 0.844 0.891 0.891 -1.000 -1.000 0.844\n"
     ]
    },
    {
     "name": "stdout",
     "output_type": "stream",
     "text": [
      "DONE (t=0.39s).\n",
      "Accumulating evaluation results...\n",
      "DONE (t=0.15s).\n"
     ]
    },
    {
     "name": "stderr",
     "output_type": "stream",
     "text": [
      "2022-05-14 07:44:01,506 - mmdet - INFO - Epoch [21][100/1352]\tlr: 2.500e-05, eta: 0:52:04, time: 0.262, data_time: 0.030, memory: 4029, loss_rpn_cls: 0.0025, loss_rpn_bbox: 0.0126, loss_cls: 0.0226, acc: 99.1748, loss_bbox: 0.0209, loss: 0.0586\n",
      "2022-05-14 07:44:25,346 - mmdet - INFO - Epoch [21][200/1352]\tlr: 2.500e-05, eta: 0:51:41, time: 0.238, data_time: 0.008, memory: 4029, loss_rpn_cls: 0.0027, loss_rpn_bbox: 0.0118, loss_cls: 0.0243, acc: 99.0986, loss_bbox: 0.0211, loss: 0.0599\n",
      "2022-05-14 07:44:49,371 - mmdet - INFO - Epoch [21][300/1352]\tlr: 2.500e-05, eta: 0:51:18, time: 0.240, data_time: 0.009, memory: 4029, loss_rpn_cls: 0.0023, loss_rpn_bbox: 0.0137, loss_cls: 0.0257, acc: 99.0645, loss_bbox: 0.0211, loss: 0.0628\n",
      "2022-05-14 07:45:13,483 - mmdet - INFO - Epoch [21][400/1352]\tlr: 2.500e-05, eta: 0:50:55, time: 0.241, data_time: 0.009, memory: 4029, loss_rpn_cls: 0.0026, loss_rpn_bbox: 0.0125, loss_cls: 0.0226, acc: 99.1807, loss_bbox: 0.0212, loss: 0.0588\n",
      "2022-05-14 07:45:37,575 - mmdet - INFO - Epoch [21][500/1352]\tlr: 2.500e-05, eta: 0:50:32, time: 0.241, data_time: 0.009, memory: 4029, loss_rpn_cls: 0.0032, loss_rpn_bbox: 0.0126, loss_cls: 0.0248, acc: 99.0254, loss_bbox: 0.0204, loss: 0.0610\n",
      "2022-05-14 07:46:01,680 - mmdet - INFO - Epoch [21][600/1352]\tlr: 2.500e-05, eta: 0:50:09, time: 0.241, data_time: 0.009, memory: 4029, loss_rpn_cls: 0.0027, loss_rpn_bbox: 0.0135, loss_cls: 0.0243, acc: 99.1562, loss_bbox: 0.0204, loss: 0.0609\n",
      "2022-05-14 07:46:25,427 - mmdet - INFO - Epoch [21][700/1352]\tlr: 2.500e-05, eta: 0:49:46, time: 0.238, data_time: 0.009, memory: 4029, loss_rpn_cls: 0.0023, loss_rpn_bbox: 0.0125, loss_cls: 0.0218, acc: 99.1914, loss_bbox: 0.0209, loss: 0.0574\n",
      "2022-05-14 07:46:49,364 - mmdet - INFO - Epoch [21][800/1352]\tlr: 2.500e-05, eta: 0:49:23, time: 0.239, data_time: 0.009, memory: 4029, loss_rpn_cls: 0.0024, loss_rpn_bbox: 0.0125, loss_cls: 0.0213, acc: 99.2559, loss_bbox: 0.0202, loss: 0.0564\n",
      "2022-05-14 07:47:13,584 - mmdet - INFO - Epoch [21][900/1352]\tlr: 2.500e-05, eta: 0:49:00, time: 0.242, data_time: 0.008, memory: 4029, loss_rpn_cls: 0.0032, loss_rpn_bbox: 0.0136, loss_cls: 0.0234, acc: 99.1807, loss_bbox: 0.0208, loss: 0.0611\n",
      "2022-05-14 07:47:37,323 - mmdet - INFO - Epoch [21][1000/1352]\tlr: 2.500e-05, eta: 0:48:37, time: 0.237, data_time: 0.009, memory: 4029, loss_rpn_cls: 0.0027, loss_rpn_bbox: 0.0125, loss_cls: 0.0206, acc: 99.2666, loss_bbox: 0.0200, loss: 0.0557\n",
      "2022-05-14 07:48:01,659 - mmdet - INFO - Epoch [21][1100/1352]\tlr: 2.500e-05, eta: 0:48:14, time: 0.243, data_time: 0.009, memory: 4029, loss_rpn_cls: 0.0027, loss_rpn_bbox: 0.0132, loss_cls: 0.0215, acc: 99.2500, loss_bbox: 0.0214, loss: 0.0588\n",
      "2022-05-14 07:48:25,711 - mmdet - INFO - Epoch [21][1200/1352]\tlr: 2.500e-05, eta: 0:47:52, time: 0.241, data_time: 0.009, memory: 4029, loss_rpn_cls: 0.0024, loss_rpn_bbox: 0.0151, loss_cls: 0.0233, acc: 99.1562, loss_bbox: 0.0219, loss: 0.0628\n",
      "2022-05-14 07:48:49,901 - mmdet - INFO - Epoch [21][1300/1352]\tlr: 2.500e-05, eta: 0:47:29, time: 0.242, data_time: 0.009, memory: 4029, loss_rpn_cls: 0.0025, loss_rpn_bbox: 0.0142, loss_cls: 0.0252, acc: 99.0703, loss_bbox: 0.0202, loss: 0.0622\n",
      "2022-05-14 07:49:02,320 - mmdet - INFO - Saving checkpoint at 21 epochs\n"
     ]
    },
    {
     "name": "stdout",
     "output_type": "stream",
     "text": [
      "[>>>>>>>>>>>>>>>>>>>>>>>>>>>>>] 298/298, 14.1 task/s, elapsed: 21s, ETA:     0s"
     ]
    },
    {
     "name": "stderr",
     "output_type": "stream",
     "text": [
      "2022-05-14 07:49:25,147 - mmdet - INFO - Evaluating bbox...\n"
     ]
    },
    {
     "name": "stdout",
     "output_type": "stream",
     "text": [
      "Loading and preparing results...\n",
      "DONE (t=0.00s)\n",
      "creating index...\n",
      "index created!\n",
      "Running per image evaluation...\n",
      "Evaluate annotation type *bbox*\n"
     ]
    },
    {
     "name": "stderr",
     "output_type": "stream",
     "text": [
      "2022-05-14 07:49:25,837 - mmdet - INFO - \n",
      " Average Precision  (AP) @[ IoU=0.50:0.95 | area=   all | maxDets=100 ] = 0.844\n",
      " Average Precision  (AP) @[ IoU=0.50      | area=   all | maxDets=1000 ] = 0.891\n",
      " Average Precision  (AP) @[ IoU=0.75      | area=   all | maxDets=1000 ] = 0.890\n",
      " Average Precision  (AP) @[ IoU=0.50:0.95 | area= small | maxDets=1000 ] = -1.000\n",
      " Average Precision  (AP) @[ IoU=0.50:0.95 | area=medium | maxDets=1000 ] = -1.000\n",
      " Average Precision  (AP) @[ IoU=0.50:0.95 | area= large | maxDets=1000 ] = 0.844\n",
      " Average Recall     (AR) @[ IoU=0.50:0.95 | area=   all | maxDets=100 ] = 0.956\n",
      " Average Recall     (AR) @[ IoU=0.50:0.95 | area=   all | maxDets=300 ] = 0.956\n",
      " Average Recall     (AR) @[ IoU=0.50:0.95 | area=   all | maxDets=1000 ] = 0.956\n",
      " Average Recall     (AR) @[ IoU=0.50:0.95 | area= small | maxDets=1000 ] = -1.000\n",
      " Average Recall     (AR) @[ IoU=0.50:0.95 | area=medium | maxDets=1000 ] = -1.000\n",
      " Average Recall     (AR) @[ IoU=0.50:0.95 | area= large | maxDets=1000 ] = 0.956\n",
      "\n",
      "2022-05-14 07:49:25,849 - mmdet - INFO - Epoch(val) [21][298]\tbbox_mAP: 0.8440, bbox_mAP_50: 0.8910, bbox_mAP_75: 0.8900, bbox_mAP_s: -1.0000, bbox_mAP_m: -1.0000, bbox_mAP_l: 0.8440, bbox_mAP_copypaste: 0.844 0.891 0.890 -1.000 -1.000 0.844\n"
     ]
    },
    {
     "name": "stdout",
     "output_type": "stream",
     "text": [
      "DONE (t=0.53s).\n",
      "Accumulating evaluation results...\n",
      "DONE (t=0.14s).\n"
     ]
    },
    {
     "name": "stderr",
     "output_type": "stream",
     "text": [
      "2022-05-14 07:49:52,270 - mmdet - INFO - Epoch [22][100/1352]\tlr: 2.500e-05, eta: 0:46:49, time: 0.263, data_time: 0.029, memory: 4029, loss_rpn_cls: 0.0032, loss_rpn_bbox: 0.0126, loss_cls: 0.0241, acc: 99.1240, loss_bbox: 0.0208, loss: 0.0607\n",
      "2022-05-14 07:50:16,103 - mmdet - INFO - Epoch [22][200/1352]\tlr: 2.500e-05, eta: 0:46:26, time: 0.238, data_time: 0.008, memory: 4029, loss_rpn_cls: 0.0025, loss_rpn_bbox: 0.0121, loss_cls: 0.0256, acc: 99.0098, loss_bbox: 0.0207, loss: 0.0610\n",
      "2022-05-14 07:50:40,117 - mmdet - INFO - Epoch [22][300/1352]\tlr: 2.500e-05, eta: 0:46:03, time: 0.240, data_time: 0.008, memory: 4029, loss_rpn_cls: 0.0023, loss_rpn_bbox: 0.0117, loss_cls: 0.0225, acc: 99.1562, loss_bbox: 0.0212, loss: 0.0576\n",
      "2022-05-14 07:51:04,128 - mmdet - INFO - Epoch [22][400/1352]\tlr: 2.500e-05, eta: 0:45:40, time: 0.240, data_time: 0.008, memory: 4029, loss_rpn_cls: 0.0021, loss_rpn_bbox: 0.0131, loss_cls: 0.0227, acc: 99.1768, loss_bbox: 0.0209, loss: 0.0588\n",
      "2022-05-14 07:51:28,169 - mmdet - INFO - Epoch [22][500/1352]\tlr: 2.500e-05, eta: 0:45:17, time: 0.240, data_time: 0.008, memory: 4029, loss_rpn_cls: 0.0023, loss_rpn_bbox: 0.0124, loss_cls: 0.0216, acc: 99.2061, loss_bbox: 0.0206, loss: 0.0568\n",
      "2022-05-14 07:51:52,242 - mmdet - INFO - Epoch [22][600/1352]\tlr: 2.500e-05, eta: 0:44:54, time: 0.241, data_time: 0.009, memory: 4029, loss_rpn_cls: 0.0025, loss_rpn_bbox: 0.0123, loss_cls: 0.0201, acc: 99.2529, loss_bbox: 0.0199, loss: 0.0549\n",
      "2022-05-14 07:52:15,968 - mmdet - INFO - Epoch [22][700/1352]\tlr: 2.500e-05, eta: 0:44:31, time: 0.237, data_time: 0.008, memory: 4029, loss_rpn_cls: 0.0025, loss_rpn_bbox: 0.0124, loss_cls: 0.0212, acc: 99.2090, loss_bbox: 0.0200, loss: 0.0561\n",
      "2022-05-14 07:52:39,890 - mmdet - INFO - Epoch [22][800/1352]\tlr: 2.500e-05, eta: 0:44:08, time: 0.239, data_time: 0.008, memory: 4029, loss_rpn_cls: 0.0024, loss_rpn_bbox: 0.0129, loss_cls: 0.0227, acc: 99.2070, loss_bbox: 0.0201, loss: 0.0581\n",
      "2022-05-14 07:53:04,077 - mmdet - INFO - Epoch [22][900/1352]\tlr: 2.500e-05, eta: 0:43:45, time: 0.242, data_time: 0.008, memory: 4029, loss_rpn_cls: 0.0029, loss_rpn_bbox: 0.0137, loss_cls: 0.0215, acc: 99.2178, loss_bbox: 0.0202, loss: 0.0584\n",
      "2022-05-14 07:53:27,828 - mmdet - INFO - Epoch [22][1000/1352]\tlr: 2.500e-05, eta: 0:43:22, time: 0.238, data_time: 0.008, memory: 4029, loss_rpn_cls: 0.0028, loss_rpn_bbox: 0.0132, loss_cls: 0.0233, acc: 99.1338, loss_bbox: 0.0208, loss: 0.0601\n",
      "2022-05-14 07:53:52,177 - mmdet - INFO - Epoch [22][1100/1352]\tlr: 2.500e-05, eta: 0:42:59, time: 0.243, data_time: 0.008, memory: 4029, loss_rpn_cls: 0.0031, loss_rpn_bbox: 0.0137, loss_cls: 0.0234, acc: 99.2002, loss_bbox: 0.0208, loss: 0.0611\n",
      "2022-05-14 07:54:16,168 - mmdet - INFO - Epoch [22][1200/1352]\tlr: 2.500e-05, eta: 0:42:36, time: 0.240, data_time: 0.009, memory: 4029, loss_rpn_cls: 0.0024, loss_rpn_bbox: 0.0123, loss_cls: 0.0238, acc: 99.1182, loss_bbox: 0.0214, loss: 0.0599\n",
      "2022-05-14 07:54:40,303 - mmdet - INFO - Epoch [22][1300/1352]\tlr: 2.500e-05, eta: 0:42:13, time: 0.241, data_time: 0.008, memory: 4029, loss_rpn_cls: 0.0025, loss_rpn_bbox: 0.0142, loss_cls: 0.0238, acc: 99.1221, loss_bbox: 0.0200, loss: 0.0606\n",
      "2022-05-14 07:54:52,743 - mmdet - INFO - Saving checkpoint at 22 epochs\n"
     ]
    },
    {
     "name": "stdout",
     "output_type": "stream",
     "text": [
      "[>>>>>>>>>>>>>>>>>>>>>>>>>>>>>] 298/298, 14.2 task/s, elapsed: 21s, ETA:     0s"
     ]
    },
    {
     "name": "stderr",
     "output_type": "stream",
     "text": [
      "2022-05-14 07:55:15,325 - mmdet - INFO - Evaluating bbox...\n"
     ]
    },
    {
     "name": "stdout",
     "output_type": "stream",
     "text": [
      "Loading and preparing results...\n",
      "DONE (t=0.00s)\n",
      "creating index...\n",
      "index created!\n",
      "Running per image evaluation...\n",
      "Evaluate annotation type *bbox*\n"
     ]
    },
    {
     "name": "stderr",
     "output_type": "stream",
     "text": [
      "2022-05-14 07:55:15,856 - mmdet - INFO - \n",
      " Average Precision  (AP) @[ IoU=0.50:0.95 | area=   all | maxDets=100 ] = 0.845\n",
      " Average Precision  (AP) @[ IoU=0.50      | area=   all | maxDets=1000 ] = 0.892\n",
      " Average Precision  (AP) @[ IoU=0.75      | area=   all | maxDets=1000 ] = 0.891\n",
      " Average Precision  (AP) @[ IoU=0.50:0.95 | area= small | maxDets=1000 ] = -1.000\n",
      " Average Precision  (AP) @[ IoU=0.50:0.95 | area=medium | maxDets=1000 ] = -1.000\n",
      " Average Precision  (AP) @[ IoU=0.50:0.95 | area= large | maxDets=1000 ] = 0.845\n",
      " Average Recall     (AR) @[ IoU=0.50:0.95 | area=   all | maxDets=100 ] = 0.955\n",
      " Average Recall     (AR) @[ IoU=0.50:0.95 | area=   all | maxDets=300 ] = 0.955\n",
      " Average Recall     (AR) @[ IoU=0.50:0.95 | area=   all | maxDets=1000 ] = 0.955\n",
      " Average Recall     (AR) @[ IoU=0.50:0.95 | area= small | maxDets=1000 ] = -1.000\n",
      " Average Recall     (AR) @[ IoU=0.50:0.95 | area=medium | maxDets=1000 ] = -1.000\n",
      " Average Recall     (AR) @[ IoU=0.50:0.95 | area= large | maxDets=1000 ] = 0.955\n",
      "\n",
      "2022-05-14 07:55:15,867 - mmdet - INFO - Epoch(val) [22][298]\tbbox_mAP: 0.8450, bbox_mAP_50: 0.8920, bbox_mAP_75: 0.8910, bbox_mAP_s: -1.0000, bbox_mAP_m: -1.0000, bbox_mAP_l: 0.8450, bbox_mAP_copypaste: 0.845 0.892 0.891 -1.000 -1.000 0.845\n"
     ]
    },
    {
     "name": "stdout",
     "output_type": "stream",
     "text": [
      "DONE (t=0.38s).\n",
      "Accumulating evaluation results...\n",
      "DONE (t=0.13s).\n"
     ]
    },
    {
     "name": "stderr",
     "output_type": "stream",
     "text": [
      "2022-05-14 07:55:42,199 - mmdet - INFO - Epoch [23][100/1352]\tlr: 2.500e-05, eta: 0:41:34, time: 0.262, data_time: 0.030, memory: 4029, loss_rpn_cls: 0.0026, loss_rpn_bbox: 0.0124, loss_cls: 0.0228, acc: 99.1514, loss_bbox: 0.0212, loss: 0.0591\n",
      "2022-05-14 07:56:05,972 - mmdet - INFO - Epoch [23][200/1352]\tlr: 2.500e-05, eta: 0:41:11, time: 0.238, data_time: 0.008, memory: 4029, loss_rpn_cls: 0.0021, loss_rpn_bbox: 0.0126, loss_cls: 0.0213, acc: 99.2178, loss_bbox: 0.0211, loss: 0.0571\n",
      "2022-05-14 07:56:30,013 - mmdet - INFO - Epoch [23][300/1352]\tlr: 2.500e-05, eta: 0:40:48, time: 0.240, data_time: 0.008, memory: 4029, loss_rpn_cls: 0.0026, loss_rpn_bbox: 0.0134, loss_cls: 0.0224, acc: 99.2061, loss_bbox: 0.0203, loss: 0.0586\n",
      "2022-05-14 07:56:54,103 - mmdet - INFO - Epoch [23][400/1352]\tlr: 2.500e-05, eta: 0:40:25, time: 0.241, data_time: 0.008, memory: 4029, loss_rpn_cls: 0.0025, loss_rpn_bbox: 0.0135, loss_cls: 0.0216, acc: 99.2148, loss_bbox: 0.0214, loss: 0.0590\n",
      "2022-05-14 07:57:18,146 - mmdet - INFO - Epoch [23][500/1352]\tlr: 2.500e-05, eta: 0:40:02, time: 0.240, data_time: 0.008, memory: 4029, loss_rpn_cls: 0.0029, loss_rpn_bbox: 0.0119, loss_cls: 0.0219, acc: 99.2139, loss_bbox: 0.0206, loss: 0.0572\n",
      "2022-05-14 07:57:42,247 - mmdet - INFO - Epoch [23][600/1352]\tlr: 2.500e-05, eta: 0:39:39, time: 0.241, data_time: 0.008, memory: 4029, loss_rpn_cls: 0.0023, loss_rpn_bbox: 0.0125, loss_cls: 0.0238, acc: 99.1826, loss_bbox: 0.0200, loss: 0.0587\n",
      "2022-05-14 07:58:05,977 - mmdet - INFO - Epoch [23][700/1352]\tlr: 2.500e-05, eta: 0:39:16, time: 0.237, data_time: 0.008, memory: 4029, loss_rpn_cls: 0.0025, loss_rpn_bbox: 0.0127, loss_cls: 0.0227, acc: 99.1689, loss_bbox: 0.0205, loss: 0.0585\n",
      "2022-05-14 07:58:29,941 - mmdet - INFO - Epoch [23][800/1352]\tlr: 2.500e-05, eta: 0:38:53, time: 0.240, data_time: 0.009, memory: 4029, loss_rpn_cls: 0.0021, loss_rpn_bbox: 0.0116, loss_cls: 0.0232, acc: 99.1816, loss_bbox: 0.0207, loss: 0.0576\n",
      "2022-05-14 07:58:54,112 - mmdet - INFO - Epoch [23][900/1352]\tlr: 2.500e-05, eta: 0:38:30, time: 0.242, data_time: 0.008, memory: 4029, loss_rpn_cls: 0.0033, loss_rpn_bbox: 0.0127, loss_cls: 0.0229, acc: 99.1924, loss_bbox: 0.0199, loss: 0.0588\n",
      "2022-05-14 07:59:17,792 - mmdet - INFO - Epoch [23][1000/1352]\tlr: 2.500e-05, eta: 0:38:07, time: 0.237, data_time: 0.008, memory: 4029, loss_rpn_cls: 0.0021, loss_rpn_bbox: 0.0132, loss_cls: 0.0222, acc: 99.2021, loss_bbox: 0.0203, loss: 0.0578\n",
      "2022-05-14 07:59:42,156 - mmdet - INFO - Epoch [23][1100/1352]\tlr: 2.500e-05, eta: 0:37:44, time: 0.243, data_time: 0.009, memory: 4029, loss_rpn_cls: 0.0027, loss_rpn_bbox: 0.0133, loss_cls: 0.0266, acc: 99.0156, loss_bbox: 0.0215, loss: 0.0642\n",
      "2022-05-14 08:00:06,132 - mmdet - INFO - Epoch [23][1200/1352]\tlr: 2.500e-05, eta: 0:37:21, time: 0.240, data_time: 0.008, memory: 4029, loss_rpn_cls: 0.0028, loss_rpn_bbox: 0.0145, loss_cls: 0.0202, acc: 99.2529, loss_bbox: 0.0199, loss: 0.0574\n",
      "2022-05-14 08:00:30,255 - mmdet - INFO - Epoch [23][1300/1352]\tlr: 2.500e-05, eta: 0:36:58, time: 0.241, data_time: 0.009, memory: 4029, loss_rpn_cls: 0.0024, loss_rpn_bbox: 0.0122, loss_cls: 0.0257, acc: 99.1318, loss_bbox: 0.0212, loss: 0.0616\n",
      "2022-05-14 08:00:42,661 - mmdet - INFO - Saving checkpoint at 23 epochs\n"
     ]
    },
    {
     "name": "stdout",
     "output_type": "stream",
     "text": [
      "[>>>>>>>>>>>>>>>>>>>>>>>>>>>>>] 298/298, 14.1 task/s, elapsed: 21s, ETA:     0s"
     ]
    },
    {
     "name": "stderr",
     "output_type": "stream",
     "text": [
      "2022-05-14 08:01:05,474 - mmdet - INFO - Evaluating bbox...\n"
     ]
    },
    {
     "name": "stdout",
     "output_type": "stream",
     "text": [
      "Loading and preparing results...\n",
      "DONE (t=0.00s)\n",
      "creating index...\n",
      "index created!\n",
      "Running per image evaluation...\n",
      "Evaluate annotation type *bbox*\n"
     ]
    },
    {
     "name": "stderr",
     "output_type": "stream",
     "text": [
      "2022-05-14 08:01:06,184 - mmdet - INFO - \n",
      " Average Precision  (AP) @[ IoU=0.50:0.95 | area=   all | maxDets=100 ] = 0.846\n",
      " Average Precision  (AP) @[ IoU=0.50      | area=   all | maxDets=1000 ] = 0.894\n",
      " Average Precision  (AP) @[ IoU=0.75      | area=   all | maxDets=1000 ] = 0.893\n",
      " Average Precision  (AP) @[ IoU=0.50:0.95 | area= small | maxDets=1000 ] = -1.000\n",
      " Average Precision  (AP) @[ IoU=0.50:0.95 | area=medium | maxDets=1000 ] = -1.000\n",
      " Average Precision  (AP) @[ IoU=0.50:0.95 | area= large | maxDets=1000 ] = 0.846\n",
      " Average Recall     (AR) @[ IoU=0.50:0.95 | area=   all | maxDets=100 ] = 0.955\n",
      " Average Recall     (AR) @[ IoU=0.50:0.95 | area=   all | maxDets=300 ] = 0.955\n",
      " Average Recall     (AR) @[ IoU=0.50:0.95 | area=   all | maxDets=1000 ] = 0.955\n",
      " Average Recall     (AR) @[ IoU=0.50:0.95 | area= small | maxDets=1000 ] = -1.000\n",
      " Average Recall     (AR) @[ IoU=0.50:0.95 | area=medium | maxDets=1000 ] = -1.000\n",
      " Average Recall     (AR) @[ IoU=0.50:0.95 | area= large | maxDets=1000 ] = 0.955\n",
      "\n",
      "2022-05-14 08:01:06,198 - mmdet - INFO - Epoch(val) [23][298]\tbbox_mAP: 0.8460, bbox_mAP_50: 0.8940, bbox_mAP_75: 0.8930, bbox_mAP_s: -1.0000, bbox_mAP_m: -1.0000, bbox_mAP_l: 0.8460, bbox_mAP_copypaste: 0.846 0.894 0.893 -1.000 -1.000 0.846\n"
     ]
    },
    {
     "name": "stdout",
     "output_type": "stream",
     "text": [
      "DONE (t=0.55s).\n",
      "Accumulating evaluation results...\n",
      "DONE (t=0.15s).\n"
     ]
    },
    {
     "name": "stderr",
     "output_type": "stream",
     "text": [
      "2022-05-14 08:01:32,608 - mmdet - INFO - Epoch [24][100/1352]\tlr: 2.500e-05, eta: 0:36:19, time: 0.263, data_time: 0.030, memory: 4029, loss_rpn_cls: 0.0028, loss_rpn_bbox: 0.0128, loss_cls: 0.0237, acc: 99.1309, loss_bbox: 0.0206, loss: 0.0599\n",
      "2022-05-14 08:01:56,441 - mmdet - INFO - Epoch [24][200/1352]\tlr: 2.500e-05, eta: 0:35:56, time: 0.238, data_time: 0.008, memory: 4029, loss_rpn_cls: 0.0021, loss_rpn_bbox: 0.0123, loss_cls: 0.0227, acc: 99.1846, loss_bbox: 0.0200, loss: 0.0570\n",
      "2022-05-14 08:02:20,561 - mmdet - INFO - Epoch [24][300/1352]\tlr: 2.500e-05, eta: 0:35:33, time: 0.241, data_time: 0.008, memory: 4029, loss_rpn_cls: 0.0022, loss_rpn_bbox: 0.0126, loss_cls: 0.0256, acc: 99.0664, loss_bbox: 0.0207, loss: 0.0610\n",
      "2022-05-14 08:02:44,659 - mmdet - INFO - Epoch [24][400/1352]\tlr: 2.500e-05, eta: 0:35:10, time: 0.241, data_time: 0.008, memory: 4029, loss_rpn_cls: 0.0028, loss_rpn_bbox: 0.0126, loss_cls: 0.0223, acc: 99.2256, loss_bbox: 0.0208, loss: 0.0586\n",
      "2022-05-14 08:03:08,733 - mmdet - INFO - Epoch [24][500/1352]\tlr: 2.500e-05, eta: 0:34:47, time: 0.241, data_time: 0.008, memory: 4029, loss_rpn_cls: 0.0029, loss_rpn_bbox: 0.0131, loss_cls: 0.0225, acc: 99.1943, loss_bbox: 0.0209, loss: 0.0593\n",
      "2022-05-14 08:03:32,826 - mmdet - INFO - Epoch [24][600/1352]\tlr: 2.500e-05, eta: 0:34:24, time: 0.241, data_time: 0.009, memory: 4029, loss_rpn_cls: 0.0027, loss_rpn_bbox: 0.0126, loss_cls: 0.0220, acc: 99.1748, loss_bbox: 0.0200, loss: 0.0573\n",
      "2022-05-14 08:03:56,646 - mmdet - INFO - Epoch [24][700/1352]\tlr: 2.500e-05, eta: 0:34:01, time: 0.238, data_time: 0.009, memory: 4029, loss_rpn_cls: 0.0022, loss_rpn_bbox: 0.0118, loss_cls: 0.0202, acc: 99.2881, loss_bbox: 0.0209, loss: 0.0551\n",
      "2022-05-14 08:04:20,688 - mmdet - INFO - Epoch [24][800/1352]\tlr: 2.500e-05, eta: 0:33:38, time: 0.241, data_time: 0.009, memory: 4029, loss_rpn_cls: 0.0026, loss_rpn_bbox: 0.0122, loss_cls: 0.0229, acc: 99.1807, loss_bbox: 0.0203, loss: 0.0581\n",
      "2022-05-14 08:04:44,877 - mmdet - INFO - Epoch [24][900/1352]\tlr: 2.500e-05, eta: 0:33:15, time: 0.242, data_time: 0.008, memory: 4029, loss_rpn_cls: 0.0023, loss_rpn_bbox: 0.0126, loss_cls: 0.0222, acc: 99.2422, loss_bbox: 0.0210, loss: 0.0582\n",
      "2022-05-14 08:05:08,647 - mmdet - INFO - Epoch [24][1000/1352]\tlr: 2.500e-05, eta: 0:32:52, time: 0.238, data_time: 0.009, memory: 4029, loss_rpn_cls: 0.0026, loss_rpn_bbox: 0.0127, loss_cls: 0.0220, acc: 99.1904, loss_bbox: 0.0202, loss: 0.0574\n",
      "2022-05-14 08:05:33,099 - mmdet - INFO - Epoch [24][1100/1352]\tlr: 2.500e-05, eta: 0:32:29, time: 0.244, data_time: 0.009, memory: 4029, loss_rpn_cls: 0.0035, loss_rpn_bbox: 0.0133, loss_cls: 0.0247, acc: 99.0537, loss_bbox: 0.0204, loss: 0.0619\n",
      "2022-05-14 08:05:57,183 - mmdet - INFO - Epoch [24][1200/1352]\tlr: 2.500e-05, eta: 0:32:06, time: 0.241, data_time: 0.009, memory: 4029, loss_rpn_cls: 0.0024, loss_rpn_bbox: 0.0126, loss_cls: 0.0203, acc: 99.2832, loss_bbox: 0.0199, loss: 0.0553\n",
      "2022-05-14 08:06:21,341 - mmdet - INFO - Epoch [24][1300/1352]\tlr: 2.500e-05, eta: 0:31:42, time: 0.242, data_time: 0.009, memory: 4029, loss_rpn_cls: 0.0032, loss_rpn_bbox: 0.0130, loss_cls: 0.0240, acc: 99.1553, loss_bbox: 0.0203, loss: 0.0605\n",
      "2022-05-14 08:06:33,804 - mmdet - INFO - Saving checkpoint at 24 epochs\n"
     ]
    },
    {
     "name": "stdout",
     "output_type": "stream",
     "text": [
      "[>>>>>>>>>>>>>>>>>>>>>>>>>>>>>] 298/298, 13.9 task/s, elapsed: 21s, ETA:     0s"
     ]
    },
    {
     "name": "stderr",
     "output_type": "stream",
     "text": [
      "2022-05-14 08:06:56,923 - mmdet - INFO - Evaluating bbox...\n"
     ]
    },
    {
     "name": "stdout",
     "output_type": "stream",
     "text": [
      "Loading and preparing results...\n",
      "DONE (t=0.00s)\n",
      "creating index...\n",
      "index created!\n",
      "Running per image evaluation...\n",
      "Evaluate annotation type *bbox*\n"
     ]
    },
    {
     "name": "stderr",
     "output_type": "stream",
     "text": [
      "2022-05-14 08:06:57,441 - mmdet - INFO - \n",
      " Average Precision  (AP) @[ IoU=0.50:0.95 | area=   all | maxDets=100 ] = 0.846\n",
      " Average Precision  (AP) @[ IoU=0.50      | area=   all | maxDets=1000 ] = 0.895\n",
      " Average Precision  (AP) @[ IoU=0.75      | area=   all | maxDets=1000 ] = 0.893\n",
      " Average Precision  (AP) @[ IoU=0.50:0.95 | area= small | maxDets=1000 ] = -1.000\n",
      " Average Precision  (AP) @[ IoU=0.50:0.95 | area=medium | maxDets=1000 ] = -1.000\n",
      " Average Precision  (AP) @[ IoU=0.50:0.95 | area= large | maxDets=1000 ] = 0.846\n",
      " Average Recall     (AR) @[ IoU=0.50:0.95 | area=   all | maxDets=100 ] = 0.954\n",
      " Average Recall     (AR) @[ IoU=0.50:0.95 | area=   all | maxDets=300 ] = 0.954\n",
      " Average Recall     (AR) @[ IoU=0.50:0.95 | area=   all | maxDets=1000 ] = 0.954\n",
      " Average Recall     (AR) @[ IoU=0.50:0.95 | area= small | maxDets=1000 ] = -1.000\n",
      " Average Recall     (AR) @[ IoU=0.50:0.95 | area=medium | maxDets=1000 ] = -1.000\n",
      " Average Recall     (AR) @[ IoU=0.50:0.95 | area= large | maxDets=1000 ] = 0.954\n",
      "\n",
      "2022-05-14 08:06:57,463 - mmdet - INFO - Epoch(val) [24][298]\tbbox_mAP: 0.8460, bbox_mAP_50: 0.8950, bbox_mAP_75: 0.8930, bbox_mAP_s: -1.0000, bbox_mAP_m: -1.0000, bbox_mAP_l: 0.8460, bbox_mAP_copypaste: 0.846 0.895 0.893 -1.000 -1.000 0.846\n"
     ]
    },
    {
     "name": "stdout",
     "output_type": "stream",
     "text": [
      "DONE (t=0.35s).\n",
      "Accumulating evaluation results...\n",
      "DONE (t=0.15s).\n"
     ]
    },
    {
     "name": "stderr",
     "output_type": "stream",
     "text": [
      "2022-05-14 08:07:23,850 - mmdet - INFO - Epoch [25][100/1352]\tlr: 2.500e-05, eta: 0:31:05, time: 0.263, data_time: 0.030, memory: 4029, loss_rpn_cls: 0.0022, loss_rpn_bbox: 0.0131, loss_cls: 0.0229, acc: 99.1807, loss_bbox: 0.0210, loss: 0.0591\n",
      "2022-05-14 08:07:47,639 - mmdet - INFO - Epoch [25][200/1352]\tlr: 2.500e-05, eta: 0:30:42, time: 0.238, data_time: 0.009, memory: 4029, loss_rpn_cls: 0.0027, loss_rpn_bbox: 0.0130, loss_cls: 0.0232, acc: 99.1367, loss_bbox: 0.0211, loss: 0.0600\n",
      "2022-05-14 08:08:11,761 - mmdet - INFO - Epoch [25][300/1352]\tlr: 2.500e-05, eta: 0:30:19, time: 0.241, data_time: 0.009, memory: 4029, loss_rpn_cls: 0.0027, loss_rpn_bbox: 0.0125, loss_cls: 0.0237, acc: 99.1123, loss_bbox: 0.0208, loss: 0.0597\n",
      "2022-05-14 08:08:35,942 - mmdet - INFO - Epoch [25][400/1352]\tlr: 2.500e-05, eta: 0:29:55, time: 0.242, data_time: 0.009, memory: 4029, loss_rpn_cls: 0.0028, loss_rpn_bbox: 0.0128, loss_cls: 0.0207, acc: 99.2842, loss_bbox: 0.0207, loss: 0.0570\n",
      "2022-05-14 08:09:00,015 - mmdet - INFO - Epoch [25][500/1352]\tlr: 2.500e-05, eta: 0:29:32, time: 0.241, data_time: 0.009, memory: 4029, loss_rpn_cls: 0.0025, loss_rpn_bbox: 0.0127, loss_cls: 0.0230, acc: 99.1543, loss_bbox: 0.0201, loss: 0.0582\n",
      "2022-05-14 08:09:24,202 - mmdet - INFO - Epoch [25][600/1352]\tlr: 2.500e-05, eta: 0:29:09, time: 0.242, data_time: 0.009, memory: 4029, loss_rpn_cls: 0.0023, loss_rpn_bbox: 0.0138, loss_cls: 0.0213, acc: 99.2080, loss_bbox: 0.0192, loss: 0.0566\n",
      "2022-05-14 08:09:47,999 - mmdet - INFO - Epoch [25][700/1352]\tlr: 2.500e-05, eta: 0:28:46, time: 0.238, data_time: 0.009, memory: 4029, loss_rpn_cls: 0.0020, loss_rpn_bbox: 0.0120, loss_cls: 0.0242, acc: 99.1113, loss_bbox: 0.0209, loss: 0.0592\n",
      "2022-05-14 08:10:12,031 - mmdet - INFO - Epoch [25][800/1352]\tlr: 2.500e-05, eta: 0:28:23, time: 0.240, data_time: 0.009, memory: 4029, loss_rpn_cls: 0.0027, loss_rpn_bbox: 0.0130, loss_cls: 0.0239, acc: 99.1543, loss_bbox: 0.0195, loss: 0.0592\n",
      "2022-05-14 08:10:36,270 - mmdet - INFO - Epoch [25][900/1352]\tlr: 2.500e-05, eta: 0:28:00, time: 0.242, data_time: 0.008, memory: 4029, loss_rpn_cls: 0.0034, loss_rpn_bbox: 0.0141, loss_cls: 0.0242, acc: 99.1230, loss_bbox: 0.0207, loss: 0.0624\n",
      "2022-05-14 08:11:00,050 - mmdet - INFO - Epoch [25][1000/1352]\tlr: 2.500e-05, eta: 0:27:37, time: 0.238, data_time: 0.009, memory: 4029, loss_rpn_cls: 0.0026, loss_rpn_bbox: 0.0124, loss_cls: 0.0212, acc: 99.2734, loss_bbox: 0.0197, loss: 0.0558\n",
      "2022-05-14 08:11:24,443 - mmdet - INFO - Epoch [25][1100/1352]\tlr: 2.500e-05, eta: 0:27:14, time: 0.244, data_time: 0.009, memory: 4029, loss_rpn_cls: 0.0029, loss_rpn_bbox: 0.0131, loss_cls: 0.0215, acc: 99.2070, loss_bbox: 0.0198, loss: 0.0573\n",
      "2022-05-14 08:11:48,527 - mmdet - INFO - Epoch [25][1200/1352]\tlr: 2.500e-05, eta: 0:26:50, time: 0.241, data_time: 0.009, memory: 4029, loss_rpn_cls: 0.0024, loss_rpn_bbox: 0.0122, loss_cls: 0.0189, acc: 99.3428, loss_bbox: 0.0201, loss: 0.0536\n",
      "2022-05-14 08:12:12,737 - mmdet - INFO - Epoch [25][1300/1352]\tlr: 2.500e-05, eta: 0:26:27, time: 0.242, data_time: 0.009, memory: 4029, loss_rpn_cls: 0.0028, loss_rpn_bbox: 0.0129, loss_cls: 0.0209, acc: 99.2246, loss_bbox: 0.0200, loss: 0.0566\n",
      "2022-05-14 08:12:25,203 - mmdet - INFO - Saving checkpoint at 25 epochs\n"
     ]
    },
    {
     "name": "stdout",
     "output_type": "stream",
     "text": [
      "[>>>>>>>>>>>>>>>>>>>>>>>>>>>>>] 298/298, 13.9 task/s, elapsed: 22s, ETA:     0s"
     ]
    },
    {
     "name": "stderr",
     "output_type": "stream",
     "text": [
      "2022-05-14 08:12:48,338 - mmdet - INFO - Evaluating bbox...\n"
     ]
    },
    {
     "name": "stdout",
     "output_type": "stream",
     "text": [
      "Loading and preparing results...\n",
      "DONE (t=0.00s)\n",
      "creating index...\n",
      "index created!\n",
      "Running per image evaluation...\n",
      "Evaluate annotation type *bbox*\n"
     ]
    },
    {
     "name": "stderr",
     "output_type": "stream",
     "text": [
      "2022-05-14 08:12:48,881 - mmdet - INFO - \n",
      " Average Precision  (AP) @[ IoU=0.50:0.95 | area=   all | maxDets=100 ] = 0.841\n",
      " Average Precision  (AP) @[ IoU=0.50      | area=   all | maxDets=1000 ] = 0.895\n",
      " Average Precision  (AP) @[ IoU=0.75      | area=   all | maxDets=1000 ] = 0.894\n",
      " Average Precision  (AP) @[ IoU=0.50:0.95 | area= small | maxDets=1000 ] = -1.000\n",
      " Average Precision  (AP) @[ IoU=0.50:0.95 | area=medium | maxDets=1000 ] = -1.000\n",
      " Average Precision  (AP) @[ IoU=0.50:0.95 | area= large | maxDets=1000 ] = 0.841\n",
      " Average Recall     (AR) @[ IoU=0.50:0.95 | area=   all | maxDets=100 ] = 0.948\n",
      " Average Recall     (AR) @[ IoU=0.50:0.95 | area=   all | maxDets=300 ] = 0.948\n",
      " Average Recall     (AR) @[ IoU=0.50:0.95 | area=   all | maxDets=1000 ] = 0.948\n",
      " Average Recall     (AR) @[ IoU=0.50:0.95 | area= small | maxDets=1000 ] = -1.000\n",
      " Average Recall     (AR) @[ IoU=0.50:0.95 | area=medium | maxDets=1000 ] = -1.000\n",
      " Average Recall     (AR) @[ IoU=0.50:0.95 | area= large | maxDets=1000 ] = 0.948\n",
      "\n",
      "2022-05-14 08:12:48,895 - mmdet - INFO - Epoch(val) [25][298]\tbbox_mAP: 0.8410, bbox_mAP_50: 0.8950, bbox_mAP_75: 0.8940, bbox_mAP_s: -1.0000, bbox_mAP_m: -1.0000, bbox_mAP_l: 0.8410, bbox_mAP_copypaste: 0.841 0.895 0.894 -1.000 -1.000 0.841\n"
     ]
    },
    {
     "name": "stdout",
     "output_type": "stream",
     "text": [
      "DONE (t=0.38s).\n",
      "Accumulating evaluation results...\n",
      "DONE (t=0.14s).\n"
     ]
    },
    {
     "name": "stderr",
     "output_type": "stream",
     "text": [
      "2022-05-14 08:13:15,416 - mmdet - INFO - Epoch [26][100/1352]\tlr: 2.500e-05, eta: 0:25:50, time: 0.264, data_time: 0.030, memory: 4029, loss_rpn_cls: 0.0025, loss_rpn_bbox: 0.0132, loss_cls: 0.0229, acc: 99.1436, loss_bbox: 0.0207, loss: 0.0593\n",
      "2022-05-14 08:13:39,300 - mmdet - INFO - Epoch [26][200/1352]\tlr: 2.500e-05, eta: 0:25:27, time: 0.239, data_time: 0.009, memory: 4029, loss_rpn_cls: 0.0026, loss_rpn_bbox: 0.0113, loss_cls: 0.0199, acc: 99.2607, loss_bbox: 0.0203, loss: 0.0540\n",
      "2022-05-14 08:14:03,406 - mmdet - INFO - Epoch [26][300/1352]\tlr: 2.500e-05, eta: 0:25:04, time: 0.241, data_time: 0.009, memory: 4029, loss_rpn_cls: 0.0028, loss_rpn_bbox: 0.0122, loss_cls: 0.0235, acc: 99.1807, loss_bbox: 0.0208, loss: 0.0594\n",
      "2022-05-14 08:14:27,493 - mmdet - INFO - Epoch [26][400/1352]\tlr: 2.500e-05, eta: 0:24:41, time: 0.241, data_time: 0.008, memory: 4029, loss_rpn_cls: 0.0024, loss_rpn_bbox: 0.0131, loss_cls: 0.0217, acc: 99.2393, loss_bbox: 0.0206, loss: 0.0577\n",
      "2022-05-14 08:14:51,578 - mmdet - INFO - Epoch [26][500/1352]\tlr: 2.500e-05, eta: 0:24:18, time: 0.241, data_time: 0.009, memory: 4029, loss_rpn_cls: 0.0024, loss_rpn_bbox: 0.0123, loss_cls: 0.0235, acc: 99.1416, loss_bbox: 0.0202, loss: 0.0583\n",
      "2022-05-14 08:15:15,668 - mmdet - INFO - Epoch [26][600/1352]\tlr: 2.500e-05, eta: 0:23:54, time: 0.241, data_time: 0.009, memory: 4029, loss_rpn_cls: 0.0031, loss_rpn_bbox: 0.0120, loss_cls: 0.0222, acc: 99.1904, loss_bbox: 0.0195, loss: 0.0568\n",
      "2022-05-14 08:15:39,474 - mmdet - INFO - Epoch [26][700/1352]\tlr: 2.500e-05, eta: 0:23:31, time: 0.238, data_time: 0.008, memory: 4029, loss_rpn_cls: 0.0023, loss_rpn_bbox: 0.0117, loss_cls: 0.0224, acc: 99.1504, loss_bbox: 0.0205, loss: 0.0569\n",
      "2022-05-14 08:16:03,449 - mmdet - INFO - Epoch [26][800/1352]\tlr: 2.500e-05, eta: 0:23:08, time: 0.240, data_time: 0.009, memory: 4029, loss_rpn_cls: 0.0026, loss_rpn_bbox: 0.0128, loss_cls: 0.0207, acc: 99.2412, loss_bbox: 0.0202, loss: 0.0563\n",
      "2022-05-14 08:16:27,699 - mmdet - INFO - Epoch [26][900/1352]\tlr: 2.500e-05, eta: 0:22:45, time: 0.242, data_time: 0.009, memory: 4029, loss_rpn_cls: 0.0024, loss_rpn_bbox: 0.0132, loss_cls: 0.0255, acc: 99.0625, loss_bbox: 0.0204, loss: 0.0614\n",
      "2022-05-14 08:16:51,518 - mmdet - INFO - Epoch [26][1000/1352]\tlr: 2.500e-05, eta: 0:22:22, time: 0.238, data_time: 0.009, memory: 4029, loss_rpn_cls: 0.0025, loss_rpn_bbox: 0.0126, loss_cls: 0.0216, acc: 99.2021, loss_bbox: 0.0207, loss: 0.0575\n",
      "2022-05-14 08:17:16,010 - mmdet - INFO - Epoch [26][1100/1352]\tlr: 2.500e-05, eta: 0:21:59, time: 0.245, data_time: 0.009, memory: 4029, loss_rpn_cls: 0.0025, loss_rpn_bbox: 0.0131, loss_cls: 0.0227, acc: 99.1934, loss_bbox: 0.0199, loss: 0.0583\n",
      "2022-05-14 08:17:40,135 - mmdet - INFO - Epoch [26][1200/1352]\tlr: 2.500e-05, eta: 0:21:35, time: 0.241, data_time: 0.009, memory: 4029, loss_rpn_cls: 0.0025, loss_rpn_bbox: 0.0133, loss_cls: 0.0230, acc: 99.1533, loss_bbox: 0.0202, loss: 0.0589\n",
      "2022-05-14 08:18:04,251 - mmdet - INFO - Epoch [26][1300/1352]\tlr: 2.500e-05, eta: 0:21:12, time: 0.241, data_time: 0.009, memory: 4029, loss_rpn_cls: 0.0027, loss_rpn_bbox: 0.0130, loss_cls: 0.0221, acc: 99.1572, loss_bbox: 0.0206, loss: 0.0584\n",
      "2022-05-14 08:18:16,763 - mmdet - INFO - Saving checkpoint at 26 epochs\n"
     ]
    },
    {
     "name": "stdout",
     "output_type": "stream",
     "text": [
      "[>>>>>>>>>>>>>>>>>>>>>>>>>>>>>] 298/298, 14.0 task/s, elapsed: 21s, ETA:     0s"
     ]
    },
    {
     "name": "stderr",
     "output_type": "stream",
     "text": [
      "2022-05-14 08:18:39,631 - mmdet - INFO - Evaluating bbox...\n"
     ]
    },
    {
     "name": "stdout",
     "output_type": "stream",
     "text": [
      "Loading and preparing results...\n",
      "DONE (t=0.00s)\n",
      "creating index...\n",
      "index created!\n",
      "Running per image evaluation...\n",
      "Evaluate annotation type *bbox*\n"
     ]
    },
    {
     "name": "stderr",
     "output_type": "stream",
     "text": [
      "2022-05-14 08:18:40,293 - mmdet - INFO - \n",
      " Average Precision  (AP) @[ IoU=0.50:0.95 | area=   all | maxDets=100 ] = 0.845\n",
      " Average Precision  (AP) @[ IoU=0.50      | area=   all | maxDets=1000 ] = 0.895\n",
      " Average Precision  (AP) @[ IoU=0.75      | area=   all | maxDets=1000 ] = 0.893\n",
      " Average Precision  (AP) @[ IoU=0.50:0.95 | area= small | maxDets=1000 ] = -1.000\n",
      " Average Precision  (AP) @[ IoU=0.50:0.95 | area=medium | maxDets=1000 ] = -1.000\n",
      " Average Precision  (AP) @[ IoU=0.50:0.95 | area= large | maxDets=1000 ] = 0.845\n",
      " Average Recall     (AR) @[ IoU=0.50:0.95 | area=   all | maxDets=100 ] = 0.951\n",
      " Average Recall     (AR) @[ IoU=0.50:0.95 | area=   all | maxDets=300 ] = 0.951\n",
      " Average Recall     (AR) @[ IoU=0.50:0.95 | area=   all | maxDets=1000 ] = 0.951\n",
      " Average Recall     (AR) @[ IoU=0.50:0.95 | area= small | maxDets=1000 ] = -1.000\n",
      " Average Recall     (AR) @[ IoU=0.50:0.95 | area=medium | maxDets=1000 ] = -1.000\n",
      " Average Recall     (AR) @[ IoU=0.50:0.95 | area= large | maxDets=1000 ] = 0.951\n",
      "\n",
      "2022-05-14 08:18:40,306 - mmdet - INFO - Epoch(val) [26][298]\tbbox_mAP: 0.8450, bbox_mAP_50: 0.8950, bbox_mAP_75: 0.8930, bbox_mAP_s: -1.0000, bbox_mAP_m: -1.0000, bbox_mAP_l: 0.8450, bbox_mAP_copypaste: 0.845 0.895 0.893 -1.000 -1.000 0.845\n"
     ]
    },
    {
     "name": "stdout",
     "output_type": "stream",
     "text": [
      "DONE (t=0.50s).\n",
      "Accumulating evaluation results...\n",
      "DONE (t=0.14s).\n"
     ]
    },
    {
     "name": "stderr",
     "output_type": "stream",
     "text": [
      "2022-05-14 08:19:06,716 - mmdet - INFO - Epoch [27][100/1352]\tlr: 2.500e-05, eta: 0:20:35, time: 0.263, data_time: 0.030, memory: 4029, loss_rpn_cls: 0.0021, loss_rpn_bbox: 0.0126, loss_cls: 0.0220, acc: 99.1982, loss_bbox: 0.0209, loss: 0.0576\n",
      "2022-05-14 08:19:30,585 - mmdet - INFO - Epoch [27][200/1352]\tlr: 2.500e-05, eta: 0:20:12, time: 0.239, data_time: 0.009, memory: 4029, loss_rpn_cls: 0.0023, loss_rpn_bbox: 0.0116, loss_cls: 0.0231, acc: 99.1748, loss_bbox: 0.0201, loss: 0.0571\n",
      "2022-05-14 08:19:54,690 - mmdet - INFO - Epoch [27][300/1352]\tlr: 2.500e-05, eta: 0:19:49, time: 0.241, data_time: 0.009, memory: 4029, loss_rpn_cls: 0.0032, loss_rpn_bbox: 0.0118, loss_cls: 0.0203, acc: 99.2500, loss_bbox: 0.0203, loss: 0.0558\n",
      "2022-05-14 08:20:18,814 - mmdet - INFO - Epoch [27][400/1352]\tlr: 2.500e-05, eta: 0:19:26, time: 0.241, data_time: 0.009, memory: 4029, loss_rpn_cls: 0.0027, loss_rpn_bbox: 0.0139, loss_cls: 0.0223, acc: 99.1504, loss_bbox: 0.0212, loss: 0.0601\n",
      "2022-05-14 08:20:43,033 - mmdet - INFO - Epoch [27][500/1352]\tlr: 2.500e-05, eta: 0:19:03, time: 0.242, data_time: 0.009, memory: 4029, loss_rpn_cls: 0.0027, loss_rpn_bbox: 0.0122, loss_cls: 0.0227, acc: 99.1250, loss_bbox: 0.0204, loss: 0.0580\n",
      "2022-05-14 08:21:07,254 - mmdet - INFO - Epoch [27][600/1352]\tlr: 2.500e-05, eta: 0:18:40, time: 0.242, data_time: 0.009, memory: 4029, loss_rpn_cls: 0.0026, loss_rpn_bbox: 0.0120, loss_cls: 0.0222, acc: 99.1895, loss_bbox: 0.0200, loss: 0.0567\n",
      "2022-05-14 08:21:31,072 - mmdet - INFO - Epoch [27][700/1352]\tlr: 2.500e-05, eta: 0:18:16, time: 0.238, data_time: 0.009, memory: 4029, loss_rpn_cls: 0.0021, loss_rpn_bbox: 0.0119, loss_cls: 0.0216, acc: 99.2197, loss_bbox: 0.0202, loss: 0.0559\n",
      "2022-05-14 08:21:55,135 - mmdet - INFO - Epoch [27][800/1352]\tlr: 2.500e-05, eta: 0:17:53, time: 0.241, data_time: 0.009, memory: 4029, loss_rpn_cls: 0.0031, loss_rpn_bbox: 0.0125, loss_cls: 0.0226, acc: 99.1709, loss_bbox: 0.0200, loss: 0.0582\n",
      "2022-05-14 08:22:19,398 - mmdet - INFO - Epoch [27][900/1352]\tlr: 2.500e-05, eta: 0:17:30, time: 0.242, data_time: 0.009, memory: 4029, loss_rpn_cls: 0.0026, loss_rpn_bbox: 0.0135, loss_cls: 0.0211, acc: 99.2627, loss_bbox: 0.0204, loss: 0.0576\n",
      "2022-05-14 08:22:43,189 - mmdet - INFO - Epoch [27][1000/1352]\tlr: 2.500e-05, eta: 0:17:07, time: 0.238, data_time: 0.009, memory: 4029, loss_rpn_cls: 0.0027, loss_rpn_bbox: 0.0128, loss_cls: 0.0221, acc: 99.2061, loss_bbox: 0.0206, loss: 0.0583\n",
      "2022-05-14 08:23:07,615 - mmdet - INFO - Epoch [27][1100/1352]\tlr: 2.500e-05, eta: 0:16:43, time: 0.244, data_time: 0.009, memory: 4029, loss_rpn_cls: 0.0025, loss_rpn_bbox: 0.0133, loss_cls: 0.0253, acc: 99.1289, loss_bbox: 0.0200, loss: 0.0612\n",
      "2022-05-14 08:23:31,679 - mmdet - INFO - Epoch [27][1200/1352]\tlr: 2.500e-05, eta: 0:16:20, time: 0.241, data_time: 0.009, memory: 4029, loss_rpn_cls: 0.0025, loss_rpn_bbox: 0.0133, loss_cls: 0.0224, acc: 99.2119, loss_bbox: 0.0194, loss: 0.0576\n",
      "2022-05-14 08:23:55,891 - mmdet - INFO - Epoch [27][1300/1352]\tlr: 2.500e-05, eta: 0:15:57, time: 0.242, data_time: 0.009, memory: 4029, loss_rpn_cls: 0.0027, loss_rpn_bbox: 0.0138, loss_cls: 0.0249, acc: 99.0723, loss_bbox: 0.0204, loss: 0.0618\n",
      "2022-05-14 08:24:08,380 - mmdet - INFO - Saving checkpoint at 27 epochs\n"
     ]
    },
    {
     "name": "stdout",
     "output_type": "stream",
     "text": [
      "[>>>>>>>>>>>>>>>>>>>>>>>>>>>>>] 298/298, 14.1 task/s, elapsed: 21s, ETA:     0s"
     ]
    },
    {
     "name": "stderr",
     "output_type": "stream",
     "text": [
      "2022-05-14 08:24:31,134 - mmdet - INFO - Evaluating bbox...\n"
     ]
    },
    {
     "name": "stdout",
     "output_type": "stream",
     "text": [
      "Loading and preparing results...\n",
      "DONE (t=0.00s)\n",
      "creating index...\n",
      "index created!\n",
      "Running per image evaluation...\n",
      "Evaluate annotation type *bbox*\n"
     ]
    },
    {
     "name": "stderr",
     "output_type": "stream",
     "text": [
      "2022-05-14 08:24:31,700 - mmdet - INFO - \n",
      " Average Precision  (AP) @[ IoU=0.50:0.95 | area=   all | maxDets=100 ] = 0.837\n",
      " Average Precision  (AP) @[ IoU=0.50      | area=   all | maxDets=1000 ] = 0.891\n",
      " Average Precision  (AP) @[ IoU=0.75      | area=   all | maxDets=1000 ] = 0.889\n",
      " Average Precision  (AP) @[ IoU=0.50:0.95 | area= small | maxDets=1000 ] = -1.000\n",
      " Average Precision  (AP) @[ IoU=0.50:0.95 | area=medium | maxDets=1000 ] = -1.000\n",
      " Average Precision  (AP) @[ IoU=0.50:0.95 | area= large | maxDets=1000 ] = 0.837\n",
      " Average Recall     (AR) @[ IoU=0.50:0.95 | area=   all | maxDets=100 ] = 0.948\n",
      " Average Recall     (AR) @[ IoU=0.50:0.95 | area=   all | maxDets=300 ] = 0.948\n",
      " Average Recall     (AR) @[ IoU=0.50:0.95 | area=   all | maxDets=1000 ] = 0.948\n",
      " Average Recall     (AR) @[ IoU=0.50:0.95 | area= small | maxDets=1000 ] = -1.000\n",
      " Average Recall     (AR) @[ IoU=0.50:0.95 | area=medium | maxDets=1000 ] = -1.000\n",
      " Average Recall     (AR) @[ IoU=0.50:0.95 | area= large | maxDets=1000 ] = 0.948\n",
      "\n",
      "2022-05-14 08:24:31,713 - mmdet - INFO - Epoch(val) [27][298]\tbbox_mAP: 0.8370, bbox_mAP_50: 0.8910, bbox_mAP_75: 0.8890, bbox_mAP_s: -1.0000, bbox_mAP_m: -1.0000, bbox_mAP_l: 0.8370, bbox_mAP_copypaste: 0.837 0.891 0.889 -1.000 -1.000 0.837\n"
     ]
    },
    {
     "name": "stdout",
     "output_type": "stream",
     "text": [
      "DONE (t=0.39s).\n",
      "Accumulating evaluation results...\n",
      "DONE (t=0.15s).\n"
     ]
    },
    {
     "name": "stderr",
     "output_type": "stream",
     "text": [
      "2022-05-14 08:24:58,170 - mmdet - INFO - Epoch [28][100/1352]\tlr: 2.500e-05, eta: 0:15:21, time: 0.263, data_time: 0.030, memory: 4029, loss_rpn_cls: 0.0023, loss_rpn_bbox: 0.0132, loss_cls: 0.0213, acc: 99.2354, loss_bbox: 0.0204, loss: 0.0572\n",
      "2022-05-14 08:25:21,996 - mmdet - INFO - Epoch [28][200/1352]\tlr: 2.500e-05, eta: 0:14:57, time: 0.238, data_time: 0.008, memory: 4029, loss_rpn_cls: 0.0021, loss_rpn_bbox: 0.0121, loss_cls: 0.0249, acc: 99.0713, loss_bbox: 0.0204, loss: 0.0594\n",
      "2022-05-14 08:25:46,118 - mmdet - INFO - Epoch [28][300/1352]\tlr: 2.500e-05, eta: 0:14:34, time: 0.241, data_time: 0.008, memory: 4029, loss_rpn_cls: 0.0021, loss_rpn_bbox: 0.0130, loss_cls: 0.0211, acc: 99.1826, loss_bbox: 0.0200, loss: 0.0562\n",
      "2022-05-14 08:26:10,288 - mmdet - INFO - Epoch [28][400/1352]\tlr: 2.500e-05, eta: 0:14:11, time: 0.242, data_time: 0.008, memory: 4029, loss_rpn_cls: 0.0028, loss_rpn_bbox: 0.0126, loss_cls: 0.0225, acc: 99.1680, loss_bbox: 0.0199, loss: 0.0578\n",
      "2022-05-14 08:26:34,433 - mmdet - INFO - Epoch [28][500/1352]\tlr: 2.500e-05, eta: 0:13:48, time: 0.241, data_time: 0.009, memory: 4029, loss_rpn_cls: 0.0020, loss_rpn_bbox: 0.0124, loss_cls: 0.0232, acc: 99.1641, loss_bbox: 0.0207, loss: 0.0583\n",
      "2022-05-14 08:26:58,620 - mmdet - INFO - Epoch [28][600/1352]\tlr: 2.500e-05, eta: 0:13:25, time: 0.242, data_time: 0.009, memory: 4029, loss_rpn_cls: 0.0027, loss_rpn_bbox: 0.0131, loss_cls: 0.0205, acc: 99.2539, loss_bbox: 0.0207, loss: 0.0570\n",
      "2022-05-14 08:27:22,465 - mmdet - INFO - Epoch [28][700/1352]\tlr: 2.500e-05, eta: 0:13:01, time: 0.239, data_time: 0.008, memory: 4029, loss_rpn_cls: 0.0028, loss_rpn_bbox: 0.0115, loss_cls: 0.0216, acc: 99.2090, loss_bbox: 0.0196, loss: 0.0554\n",
      "2022-05-14 08:27:46,508 - mmdet - INFO - Epoch [28][800/1352]\tlr: 2.500e-05, eta: 0:12:38, time: 0.241, data_time: 0.009, memory: 4029, loss_rpn_cls: 0.0025, loss_rpn_bbox: 0.0121, loss_cls: 0.0227, acc: 99.1172, loss_bbox: 0.0199, loss: 0.0572\n",
      "2022-05-14 08:28:10,772 - mmdet - INFO - Epoch [28][900/1352]\tlr: 2.500e-05, eta: 0:12:15, time: 0.242, data_time: 0.008, memory: 4029, loss_rpn_cls: 0.0026, loss_rpn_bbox: 0.0124, loss_cls: 0.0216, acc: 99.2100, loss_bbox: 0.0205, loss: 0.0571\n",
      "2022-05-14 08:28:34,597 - mmdet - INFO - Epoch [28][1000/1352]\tlr: 2.500e-05, eta: 0:11:52, time: 0.238, data_time: 0.008, memory: 4029, loss_rpn_cls: 0.0029, loss_rpn_bbox: 0.0125, loss_cls: 0.0217, acc: 99.2510, loss_bbox: 0.0210, loss: 0.0581\n",
      "2022-05-14 08:28:59,011 - mmdet - INFO - Epoch [28][1100/1352]\tlr: 2.500e-05, eta: 0:11:28, time: 0.244, data_time: 0.008, memory: 4029, loss_rpn_cls: 0.0030, loss_rpn_bbox: 0.0129, loss_cls: 0.0219, acc: 99.1689, loss_bbox: 0.0193, loss: 0.0570\n",
      "2022-05-14 08:29:23,054 - mmdet - INFO - Epoch [28][1200/1352]\tlr: 2.500e-05, eta: 0:11:05, time: 0.240, data_time: 0.009, memory: 4029, loss_rpn_cls: 0.0028, loss_rpn_bbox: 0.0134, loss_cls: 0.0226, acc: 99.1240, loss_bbox: 0.0204, loss: 0.0591\n",
      "2022-05-14 08:29:47,202 - mmdet - INFO - Epoch [28][1300/1352]\tlr: 2.500e-05, eta: 0:10:42, time: 0.242, data_time: 0.009, memory: 4029, loss_rpn_cls: 0.0029, loss_rpn_bbox: 0.0138, loss_cls: 0.0221, acc: 99.1992, loss_bbox: 0.0202, loss: 0.0590\n",
      "2022-05-14 08:29:59,671 - mmdet - INFO - Saving checkpoint at 28 epochs\n"
     ]
    },
    {
     "name": "stdout",
     "output_type": "stream",
     "text": [
      "[>>>>>>>>>>>>>>>>>>>>>>>>>>>>>] 298/298, 14.1 task/s, elapsed: 21s, ETA:     0s"
     ]
    },
    {
     "name": "stderr",
     "output_type": "stream",
     "text": [
      "2022-05-14 08:30:22,468 - mmdet - INFO - Evaluating bbox...\n"
     ]
    },
    {
     "name": "stdout",
     "output_type": "stream",
     "text": [
      "Loading and preparing results...\n",
      "DONE (t=0.00s)\n",
      "creating index...\n",
      "index created!\n",
      "Running per image evaluation...\n",
      "Evaluate annotation type *bbox*\n"
     ]
    },
    {
     "name": "stderr",
     "output_type": "stream",
     "text": [
      "2022-05-14 08:30:23,124 - mmdet - INFO - \n",
      " Average Precision  (AP) @[ IoU=0.50:0.95 | area=   all | maxDets=100 ] = 0.846\n",
      " Average Precision  (AP) @[ IoU=0.50      | area=   all | maxDets=1000 ] = 0.893\n",
      " Average Precision  (AP) @[ IoU=0.75      | area=   all | maxDets=1000 ] = 0.891\n",
      " Average Precision  (AP) @[ IoU=0.50:0.95 | area= small | maxDets=1000 ] = -1.000\n",
      " Average Precision  (AP) @[ IoU=0.50:0.95 | area=medium | maxDets=1000 ] = -1.000\n",
      " Average Precision  (AP) @[ IoU=0.50:0.95 | area= large | maxDets=1000 ] = 0.846\n",
      " Average Recall     (AR) @[ IoU=0.50:0.95 | area=   all | maxDets=100 ] = 0.954\n",
      " Average Recall     (AR) @[ IoU=0.50:0.95 | area=   all | maxDets=300 ] = 0.954\n",
      " Average Recall     (AR) @[ IoU=0.50:0.95 | area=   all | maxDets=1000 ] = 0.954\n",
      " Average Recall     (AR) @[ IoU=0.50:0.95 | area= small | maxDets=1000 ] = -1.000\n",
      " Average Recall     (AR) @[ IoU=0.50:0.95 | area=medium | maxDets=1000 ] = -1.000\n",
      " Average Recall     (AR) @[ IoU=0.50:0.95 | area= large | maxDets=1000 ] = 0.954\n",
      "\n",
      "2022-05-14 08:30:23,140 - mmdet - INFO - Epoch(val) [28][298]\tbbox_mAP: 0.8460, bbox_mAP_50: 0.8930, bbox_mAP_75: 0.8910, bbox_mAP_s: -1.0000, bbox_mAP_m: -1.0000, bbox_mAP_l: 0.8460, bbox_mAP_copypaste: 0.846 0.893 0.891 -1.000 -1.000 0.846\n"
     ]
    },
    {
     "name": "stdout",
     "output_type": "stream",
     "text": [
      "DONE (t=0.50s).\n",
      "Accumulating evaluation results...\n",
      "DONE (t=0.14s).\n"
     ]
    },
    {
     "name": "stderr",
     "output_type": "stream",
     "text": [
      "2022-05-14 08:30:49,549 - mmdet - INFO - Epoch [29][100/1352]\tlr: 2.500e-05, eta: 0:10:06, time: 0.263, data_time: 0.030, memory: 4029, loss_rpn_cls: 0.0020, loss_rpn_bbox: 0.0126, loss_cls: 0.0217, acc: 99.2012, loss_bbox: 0.0207, loss: 0.0570\n",
      "2022-05-14 08:31:13,392 - mmdet - INFO - Epoch [29][200/1352]\tlr: 2.500e-05, eta: 0:09:43, time: 0.238, data_time: 0.008, memory: 4029, loss_rpn_cls: 0.0026, loss_rpn_bbox: 0.0131, loss_cls: 0.0259, acc: 99.0742, loss_bbox: 0.0209, loss: 0.0625\n",
      "2022-05-14 08:31:37,498 - mmdet - INFO - Epoch [29][300/1352]\tlr: 2.500e-05, eta: 0:09:19, time: 0.241, data_time: 0.009, memory: 4029, loss_rpn_cls: 0.0029, loss_rpn_bbox: 0.0120, loss_cls: 0.0194, acc: 99.3271, loss_bbox: 0.0198, loss: 0.0542\n",
      "2022-05-14 08:32:01,575 - mmdet - INFO - Epoch [29][400/1352]\tlr: 2.500e-05, eta: 0:08:56, time: 0.241, data_time: 0.009, memory: 4029, loss_rpn_cls: 0.0032, loss_rpn_bbox: 0.0127, loss_cls: 0.0219, acc: 99.1689, loss_bbox: 0.0204, loss: 0.0582\n",
      "2022-05-14 08:32:25,628 - mmdet - INFO - Epoch [29][500/1352]\tlr: 2.500e-05, eta: 0:08:33, time: 0.241, data_time: 0.009, memory: 4029, loss_rpn_cls: 0.0023, loss_rpn_bbox: 0.0128, loss_cls: 0.0220, acc: 99.1836, loss_bbox: 0.0205, loss: 0.0576\n",
      "2022-05-14 08:32:49,785 - mmdet - INFO - Epoch [29][600/1352]\tlr: 2.500e-05, eta: 0:08:10, time: 0.242, data_time: 0.009, memory: 4029, loss_rpn_cls: 0.0029, loss_rpn_bbox: 0.0136, loss_cls: 0.0230, acc: 99.1230, loss_bbox: 0.0199, loss: 0.0593\n",
      "2022-05-14 08:33:13,570 - mmdet - INFO - Epoch [29][700/1352]\tlr: 2.500e-05, eta: 0:07:46, time: 0.238, data_time: 0.008, memory: 4029, loss_rpn_cls: 0.0023, loss_rpn_bbox: 0.0122, loss_cls: 0.0221, acc: 99.2021, loss_bbox: 0.0208, loss: 0.0574\n",
      "2022-05-14 08:33:37,575 - mmdet - INFO - Epoch [29][800/1352]\tlr: 2.500e-05, eta: 0:07:23, time: 0.240, data_time: 0.009, memory: 4029, loss_rpn_cls: 0.0025, loss_rpn_bbox: 0.0125, loss_cls: 0.0220, acc: 99.1553, loss_bbox: 0.0204, loss: 0.0574\n",
      "2022-05-14 08:34:01,781 - mmdet - INFO - Epoch [29][900/1352]\tlr: 2.500e-05, eta: 0:07:00, time: 0.242, data_time: 0.008, memory: 4029, loss_rpn_cls: 0.0027, loss_rpn_bbox: 0.0134, loss_cls: 0.0215, acc: 99.2334, loss_bbox: 0.0198, loss: 0.0573\n",
      "2022-05-14 08:34:25,623 - mmdet - INFO - Epoch [29][1000/1352]\tlr: 2.500e-05, eta: 0:06:37, time: 0.238, data_time: 0.009, memory: 4029, loss_rpn_cls: 0.0029, loss_rpn_bbox: 0.0123, loss_cls: 0.0205, acc: 99.2432, loss_bbox: 0.0200, loss: 0.0557\n",
      "2022-05-14 08:34:50,014 - mmdet - INFO - Epoch [29][1100/1352]\tlr: 2.500e-05, eta: 0:06:13, time: 0.244, data_time: 0.009, memory: 4029, loss_rpn_cls: 0.0023, loss_rpn_bbox: 0.0139, loss_cls: 0.0223, acc: 99.1738, loss_bbox: 0.0211, loss: 0.0596\n",
      "2022-05-14 08:35:14,069 - mmdet - INFO - Epoch [29][1200/1352]\tlr: 2.500e-05, eta: 0:05:50, time: 0.241, data_time: 0.009, memory: 4029, loss_rpn_cls: 0.0026, loss_rpn_bbox: 0.0120, loss_cls: 0.0220, acc: 99.2031, loss_bbox: 0.0202, loss: 0.0567\n",
      "2022-05-14 08:35:38,252 - mmdet - INFO - Epoch [29][1300/1352]\tlr: 2.500e-05, eta: 0:05:27, time: 0.242, data_time: 0.009, memory: 4029, loss_rpn_cls: 0.0023, loss_rpn_bbox: 0.0121, loss_cls: 0.0230, acc: 99.1543, loss_bbox: 0.0201, loss: 0.0576\n",
      "2022-05-14 08:35:50,769 - mmdet - INFO - Saving checkpoint at 29 epochs\n"
     ]
    },
    {
     "name": "stdout",
     "output_type": "stream",
     "text": [
      "[>>>>>>>>>>>>>>>>>>>>>>>>>>>>>] 298/298, 13.8 task/s, elapsed: 22s, ETA:     0s"
     ]
    },
    {
     "name": "stderr",
     "output_type": "stream",
     "text": [
      "2022-05-14 08:36:13,983 - mmdet - INFO - Evaluating bbox...\n"
     ]
    },
    {
     "name": "stdout",
     "output_type": "stream",
     "text": [
      "Loading and preparing results...\n",
      "DONE (t=0.00s)\n",
      "creating index...\n",
      "index created!\n",
      "Running per image evaluation...\n",
      "Evaluate annotation type *bbox*\n"
     ]
    },
    {
     "name": "stderr",
     "output_type": "stream",
     "text": [
      "2022-05-14 08:36:14,514 - mmdet - INFO - \n",
      " Average Precision  (AP) @[ IoU=0.50:0.95 | area=   all | maxDets=100 ] = 0.842\n",
      " Average Precision  (AP) @[ IoU=0.50      | area=   all | maxDets=1000 ] = 0.894\n",
      " Average Precision  (AP) @[ IoU=0.75      | area=   all | maxDets=1000 ] = 0.893\n",
      " Average Precision  (AP) @[ IoU=0.50:0.95 | area= small | maxDets=1000 ] = -1.000\n",
      " Average Precision  (AP) @[ IoU=0.50:0.95 | area=medium | maxDets=1000 ] = -1.000\n",
      " Average Precision  (AP) @[ IoU=0.50:0.95 | area= large | maxDets=1000 ] = 0.842\n",
      " Average Recall     (AR) @[ IoU=0.50:0.95 | area=   all | maxDets=100 ] = 0.949\n",
      " Average Recall     (AR) @[ IoU=0.50:0.95 | area=   all | maxDets=300 ] = 0.949\n",
      " Average Recall     (AR) @[ IoU=0.50:0.95 | area=   all | maxDets=1000 ] = 0.949\n",
      " Average Recall     (AR) @[ IoU=0.50:0.95 | area= small | maxDets=1000 ] = -1.000\n",
      " Average Recall     (AR) @[ IoU=0.50:0.95 | area=medium | maxDets=1000 ] = -1.000\n",
      " Average Recall     (AR) @[ IoU=0.50:0.95 | area= large | maxDets=1000 ] = 0.949\n",
      "\n",
      "2022-05-14 08:36:14,529 - mmdet - INFO - Epoch(val) [29][298]\tbbox_mAP: 0.8420, bbox_mAP_50: 0.8940, bbox_mAP_75: 0.8930, bbox_mAP_s: -1.0000, bbox_mAP_m: -1.0000, bbox_mAP_l: 0.8420, bbox_mAP_copypaste: 0.842 0.894 0.893 -1.000 -1.000 0.842\n"
     ]
    },
    {
     "name": "stdout",
     "output_type": "stream",
     "text": [
      "DONE (t=0.37s).\n",
      "Accumulating evaluation results...\n",
      "DONE (t=0.14s).\n"
     ]
    },
    {
     "name": "stderr",
     "output_type": "stream",
     "text": [
      "2022-05-14 08:36:40,941 - mmdet - INFO - Epoch [30][100/1352]\tlr: 2.500e-05, eta: 0:04:51, time: 0.263, data_time: 0.030, memory: 4029, loss_rpn_cls: 0.0030, loss_rpn_bbox: 0.0127, loss_cls: 0.0213, acc: 99.2168, loss_bbox: 0.0204, loss: 0.0574\n",
      "2022-05-14 08:37:04,804 - mmdet - INFO - Epoch [30][200/1352]\tlr: 2.500e-05, eta: 0:04:28, time: 0.239, data_time: 0.009, memory: 4029, loss_rpn_cls: 0.0023, loss_rpn_bbox: 0.0118, loss_cls: 0.0231, acc: 99.1514, loss_bbox: 0.0199, loss: 0.0571\n",
      "2022-05-14 08:37:28,974 - mmdet - INFO - Epoch [30][300/1352]\tlr: 2.500e-05, eta: 0:04:05, time: 0.242, data_time: 0.009, memory: 4029, loss_rpn_cls: 0.0024, loss_rpn_bbox: 0.0123, loss_cls: 0.0237, acc: 99.0869, loss_bbox: 0.0197, loss: 0.0580\n",
      "2022-05-14 08:37:53,125 - mmdet - INFO - Epoch [30][400/1352]\tlr: 2.500e-05, eta: 0:03:41, time: 0.241, data_time: 0.009, memory: 4029, loss_rpn_cls: 0.0029, loss_rpn_bbox: 0.0134, loss_cls: 0.0203, acc: 99.2373, loss_bbox: 0.0204, loss: 0.0570\n",
      "2022-05-14 08:38:17,244 - mmdet - INFO - Epoch [30][500/1352]\tlr: 2.500e-05, eta: 0:03:18, time: 0.241, data_time: 0.009, memory: 4029, loss_rpn_cls: 0.0025, loss_rpn_bbox: 0.0123, loss_cls: 0.0238, acc: 99.1465, loss_bbox: 0.0200, loss: 0.0586\n",
      "2022-05-14 08:38:41,338 - mmdet - INFO - Epoch [30][600/1352]\tlr: 2.500e-05, eta: 0:02:55, time: 0.241, data_time: 0.009, memory: 4029, loss_rpn_cls: 0.0022, loss_rpn_bbox: 0.0127, loss_cls: 0.0214, acc: 99.2637, loss_bbox: 0.0198, loss: 0.0561\n",
      "2022-05-14 08:39:05,119 - mmdet - INFO - Epoch [30][700/1352]\tlr: 2.500e-05, eta: 0:02:31, time: 0.238, data_time: 0.009, memory: 4029, loss_rpn_cls: 0.0030, loss_rpn_bbox: 0.0119, loss_cls: 0.0210, acc: 99.2686, loss_bbox: 0.0200, loss: 0.0559\n",
      "2022-05-14 08:39:29,155 - mmdet - INFO - Epoch [30][800/1352]\tlr: 2.500e-05, eta: 0:02:08, time: 0.240, data_time: 0.009, memory: 4029, loss_rpn_cls: 0.0025, loss_rpn_bbox: 0.0123, loss_cls: 0.0216, acc: 99.2207, loss_bbox: 0.0198, loss: 0.0561\n",
      "2022-05-14 08:39:53,385 - mmdet - INFO - Epoch [30][900/1352]\tlr: 2.500e-05, eta: 0:01:45, time: 0.242, data_time: 0.009, memory: 4029, loss_rpn_cls: 0.0030, loss_rpn_bbox: 0.0129, loss_cls: 0.0233, acc: 99.1162, loss_bbox: 0.0203, loss: 0.0595\n",
      "2022-05-14 08:40:17,158 - mmdet - INFO - Epoch [30][1000/1352]\tlr: 2.500e-05, eta: 0:01:22, time: 0.238, data_time: 0.009, memory: 4029, loss_rpn_cls: 0.0029, loss_rpn_bbox: 0.0123, loss_cls: 0.0195, acc: 99.3164, loss_bbox: 0.0198, loss: 0.0545\n",
      "2022-05-14 08:40:41,594 - mmdet - INFO - Epoch [30][1100/1352]\tlr: 2.500e-05, eta: 0:00:58, time: 0.244, data_time: 0.009, memory: 4029, loss_rpn_cls: 0.0026, loss_rpn_bbox: 0.0141, loss_cls: 0.0228, acc: 99.1943, loss_bbox: 0.0196, loss: 0.0590\n",
      "2022-05-14 08:41:05,674 - mmdet - INFO - Epoch [30][1200/1352]\tlr: 2.500e-05, eta: 0:00:35, time: 0.241, data_time: 0.009, memory: 4029, loss_rpn_cls: 0.0023, loss_rpn_bbox: 0.0142, loss_cls: 0.0216, acc: 99.2344, loss_bbox: 0.0200, loss: 0.0581\n",
      "2022-05-14 08:41:29,891 - mmdet - INFO - Epoch [30][1300/1352]\tlr: 2.500e-05, eta: 0:00:12, time: 0.242, data_time: 0.009, memory: 4029, loss_rpn_cls: 0.0026, loss_rpn_bbox: 0.0140, loss_cls: 0.0239, acc: 99.1289, loss_bbox: 0.0203, loss: 0.0608\n",
      "2022-05-14 08:41:42,393 - mmdet - INFO - Saving checkpoint at 30 epochs\n"
     ]
    },
    {
     "name": "stdout",
     "output_type": "stream",
     "text": [
      "[>>>>>>>>>>>>>>>>>>>>>>>>>>>>>] 298/298, 13.9 task/s, elapsed: 21s, ETA:     0s"
     ]
    },
    {
     "name": "stderr",
     "output_type": "stream",
     "text": [
      "2022-05-14 08:42:05,490 - mmdet - INFO - Evaluating bbox...\n"
     ]
    },
    {
     "name": "stdout",
     "output_type": "stream",
     "text": [
      "Loading and preparing results...\n",
      "DONE (t=0.00s)\n",
      "creating index...\n",
      "index created!\n",
      "Running per image evaluation...\n",
      "Evaluate annotation type *bbox*\n"
     ]
    },
    {
     "name": "stderr",
     "output_type": "stream",
     "text": [
      "2022-05-14 08:42:06,141 - mmdet - INFO - \n",
      " Average Precision  (AP) @[ IoU=0.50:0.95 | area=   all | maxDets=100 ] = 0.840\n",
      " Average Precision  (AP) @[ IoU=0.50      | area=   all | maxDets=1000 ] = 0.892\n",
      " Average Precision  (AP) @[ IoU=0.75      | area=   all | maxDets=1000 ] = 0.890\n",
      " Average Precision  (AP) @[ IoU=0.50:0.95 | area= small | maxDets=1000 ] = -1.000\n",
      " Average Precision  (AP) @[ IoU=0.50:0.95 | area=medium | maxDets=1000 ] = -1.000\n",
      " Average Precision  (AP) @[ IoU=0.50:0.95 | area= large | maxDets=1000 ] = 0.840\n",
      " Average Recall     (AR) @[ IoU=0.50:0.95 | area=   all | maxDets=100 ] = 0.951\n",
      " Average Recall     (AR) @[ IoU=0.50:0.95 | area=   all | maxDets=300 ] = 0.951\n",
      " Average Recall     (AR) @[ IoU=0.50:0.95 | area=   all | maxDets=1000 ] = 0.951\n",
      " Average Recall     (AR) @[ IoU=0.50:0.95 | area= small | maxDets=1000 ] = -1.000\n",
      " Average Recall     (AR) @[ IoU=0.50:0.95 | area=medium | maxDets=1000 ] = -1.000\n",
      " Average Recall     (AR) @[ IoU=0.50:0.95 | area= large | maxDets=1000 ] = 0.951\n",
      "\n",
      "2022-05-14 08:42:06,155 - mmdet - INFO - Epoch(val) [30][298]\tbbox_mAP: 0.8400, bbox_mAP_50: 0.8920, bbox_mAP_75: 0.8900, bbox_mAP_s: -1.0000, bbox_mAP_m: -1.0000, bbox_mAP_l: 0.8400, bbox_mAP_copypaste: 0.840 0.892 0.890 -1.000 -1.000 0.840\n"
     ]
    },
    {
     "name": "stdout",
     "output_type": "stream",
     "text": [
      "DONE (t=0.50s).\n",
      "Accumulating evaluation results...\n",
      "DONE (t=0.14s).\n",
      "cp: cannot stat '/content/mmdetection/working/faster_rcnn': No such file or directory\n"
     ]
    }
   ],
   "source": [
    "# 학습\n",
    "\n",
    "import os.path as osp\n",
    "\n",
    "from mmdet.datasets import build_dataset\n",
    "from mmdet.models import build_detector\n",
    "from mmdet.apis import train_detector\n",
    "\n",
    "# Build dataset\n",
    "datasets = [build_dataset(cfg.data.train)]\n",
    "\n",
    "# Build the detector\n",
    "model = build_detector(cfg.model)\n",
    "# Add an attribute for visualization convenience\n",
    "model.CLASSES = datasets[0].CLASSES\n",
    "\n",
    "# Create work_dir\n",
    "mmcv.mkdir_or_exist(osp.abspath(cfg.work_dir))\n",
    "train_detector(model, datasets, cfg, distributed=False, validate=True)\n",
    "\n",
    "# Save checkpoints\n",
    "!cp -r /content/mmdetection/working/faster_rcnn /content/drive/MyDrive/model"
   ]
  }
 ],
 "metadata": {
  "accelerator": "GPU",
  "colab": {
   "background_execution": "on",
   "collapsed_sections": [
    "TIhxEU2cfE6Y",
    "bqxKZe7qfM88"
   ],
   "name": "faster_rcnn.ipynb",
   "provenance": []
  },
  "kernelspec": {
   "display_name": "Python 3",
   "name": "python3"
  },
  "language_info": {
   "name": "python"
  }
 },
 "nbformat": 4,
 "nbformat_minor": 0
}